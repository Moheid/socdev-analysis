{
 "cells": [
  {
   "cell_type": "markdown",
   "id": "4a02bb50-7ced-4db1-8fe3-40e2a24e273c",
   "metadata": {},
   "source": [
    "# 1.0 Install & Import Dependencies"
   ]
  },
  {
   "cell_type": "code",
   "execution_count": 1,
   "id": "3260fa9e-a3db-462f-bce0-a19b871fbdad",
   "metadata": {},
   "outputs": [],
   "source": [
    "#!pip install pandas --quiet\n",
    "#!pip install openpyxl --quiet\n",
    "#!pip install plotly-express --quiet\n",
    "#!pip install xlwings --quiet"
   ]
  },
  {
   "cell_type": "code",
   "execution_count": 2,
   "id": "6c833561-8044-4680-874d-a15f39fdcecf",
   "metadata": {},
   "outputs": [],
   "source": [
    "from pathlib import Path # Python standard library\n",
    "\n",
    "import pandas as pd\n",
    "import plotly.express as px\n",
    "import xlwings as news"
   ]
  },
  {
   "cell_type": "code",
   "execution_count": 3,
   "id": "4cc5f24f-a9c7-479b-b533-deae6c68b29d",
   "metadata": {},
   "outputs": [],
   "source": [
    "# [OPTIONAL] SETTING\n",
    "import plotly.io as pio\n",
    "pio.templates.default ='plotly_white'"
   ]
  },
  {
   "cell_type": "markdown",
   "id": "606a1c78-4c93-40f2-b940-a6d525c2a536",
   "metadata": {},
   "source": [
    "# 1.1 Get From Excel"
   ]
  },
  {
   "cell_type": "code",
   "execution_count": 4,
   "id": "92e23561-951f-449f-84fc-cb55ae8df16c",
   "metadata": {},
   "outputs": [],
   "source": [
    "# Read excel file (facebook.xlsx) into a pandas\n",
    "excel_path = Path.cwd() / \"data\" / \"facebook.xlsx\"\n",
    "df = pd.read_excel(excel_path, sheet_name=\"facebook\", skiprows=2)"
   ]
  },
  {
   "cell_type": "code",
   "execution_count": 5,
   "id": "b9ba3b1f-9c9f-4a4f-9128-e22c7826cc52",
   "metadata": {},
   "outputs": [
    {
     "data": {
      "text/html": [
       "<div>\n",
       "<style scoped>\n",
       "    .dataframe tbody tr th:only-of-type {\n",
       "        vertical-align: middle;\n",
       "    }\n",
       "\n",
       "    .dataframe tbody tr th {\n",
       "        vertical-align: top;\n",
       "    }\n",
       "\n",
       "    .dataframe thead th {\n",
       "        text-align: right;\n",
       "    }\n",
       "</style>\n",
       "<table border=\"1\" class=\"dataframe\">\n",
       "  <thead>\n",
       "    <tr style=\"text-align: right;\">\n",
       "      <th></th>\n",
       "      <th>Date</th>\n",
       "      <th>Gender</th>\n",
       "      <th>Service</th>\n",
       "      <th>Age</th>\n",
       "      <th>Location</th>\n",
       "      <th>Likes</th>\n",
       "      <th>Share</th>\n",
       "      <th>Comments</th>\n",
       "      <th>Engagements</th>\n",
       "    </tr>\n",
       "  </thead>\n",
       "  <tbody>\n",
       "    <tr>\n",
       "      <th>78</th>\n",
       "      <td>2022-11-05</td>\n",
       "      <td>Male</td>\n",
       "      <td>Aqoonmaal</td>\n",
       "      <td>34</td>\n",
       "      <td>Laascaanod</td>\n",
       "      <td>1849</td>\n",
       "      <td>3034</td>\n",
       "      <td>3028</td>\n",
       "      <td>3525</td>\n",
       "    </tr>\n",
       "  </tbody>\n",
       "</table>\n",
       "</div>"
      ],
      "text/plain": [
       "         Date Gender    Service  Age    Location  Likes  Share  Comments   \\\n",
       "78 2022-11-05   Male  Aqoonmaal   34  Laascaanod   1849   3034       3028   \n",
       "\n",
       "    Engagements   \n",
       "78          3525  "
      ]
     },
     "execution_count": 5,
     "metadata": {},
     "output_type": "execute_result"
    }
   ],
   "source": [
    "# Check the data \n",
    "df.sample()"
   ]
  },
  {
   "cell_type": "code",
   "execution_count": 6,
   "id": "c6992d50-afc5-4809-a0af-c834e920170d",
   "metadata": {},
   "outputs": [
    {
     "name": "stdout",
     "output_type": "stream",
     "text": [
      "<class 'pandas.core.frame.DataFrame'>\n",
      "RangeIndex: 271 entries, 0 to 270\n",
      "Data columns (total 9 columns):\n",
      " #   Column        Non-Null Count  Dtype         \n",
      "---  ------        --------------  -----         \n",
      " 0   Date          271 non-null    datetime64[ns]\n",
      " 1   Gender        271 non-null    object        \n",
      " 2   Service       271 non-null    object        \n",
      " 3   Age           271 non-null    int64         \n",
      " 4   Location      271 non-null    object        \n",
      " 5   Likes         271 non-null    int64         \n",
      " 6   Share         271 non-null    int64         \n",
      " 7   Comments      271 non-null    int64         \n",
      " 8   Engagements   271 non-null    int64         \n",
      "dtypes: datetime64[ns](1), int64(5), object(3)\n",
      "memory usage: 19.2+ KB\n"
     ]
    }
   ],
   "source": [
    "# print a concise summary of data \n",
    "df.info()"
   ]
  },
  {
   "cell_type": "code",
   "execution_count": 7,
   "id": "af51222c-7fc1-4186-9083-828084e7247a",
   "metadata": {},
   "outputs": [
    {
     "data": {
      "text/html": [
       "<div>\n",
       "<style scoped>\n",
       "    .dataframe tbody tr th:only-of-type {\n",
       "        vertical-align: middle;\n",
       "    }\n",
       "\n",
       "    .dataframe tbody tr th {\n",
       "        vertical-align: top;\n",
       "    }\n",
       "\n",
       "    .dataframe thead th {\n",
       "        text-align: right;\n",
       "    }\n",
       "</style>\n",
       "<table border=\"1\" class=\"dataframe\">\n",
       "  <thead>\n",
       "    <tr style=\"text-align: right;\">\n",
       "      <th></th>\n",
       "      <th>Date</th>\n",
       "      <th>Gender</th>\n",
       "      <th>Service</th>\n",
       "      <th>Age</th>\n",
       "      <th>Location</th>\n",
       "      <th>Likes</th>\n",
       "      <th>Share</th>\n",
       "      <th>Comments</th>\n",
       "      <th>Engagements</th>\n",
       "      <th>Month</th>\n",
       "    </tr>\n",
       "  </thead>\n",
       "  <tbody>\n",
       "    <tr>\n",
       "      <th>0</th>\n",
       "      <td>2022-11-01</td>\n",
       "      <td>Female</td>\n",
       "      <td>Kaafiye</td>\n",
       "      <td>34</td>\n",
       "      <td>Gabiley</td>\n",
       "      <td>1200</td>\n",
       "      <td>700</td>\n",
       "      <td>200</td>\n",
       "      <td>5600</td>\n",
       "      <td>11</td>\n",
       "    </tr>\n",
       "    <tr>\n",
       "      <th>1</th>\n",
       "      <td>2022-11-01</td>\n",
       "      <td>Female</td>\n",
       "      <td>Waafi</td>\n",
       "      <td>43</td>\n",
       "      <td>Berbera</td>\n",
       "      <td>2500</td>\n",
       "      <td>900</td>\n",
       "      <td>250</td>\n",
       "      <td>7500</td>\n",
       "      <td>11</td>\n",
       "    </tr>\n",
       "    <tr>\n",
       "      <th>2</th>\n",
       "      <td>2022-11-01</td>\n",
       "      <td>Female</td>\n",
       "      <td>Internet</td>\n",
       "      <td>32</td>\n",
       "      <td>Ceerigabo</td>\n",
       "      <td>850</td>\n",
       "      <td>150</td>\n",
       "      <td>100</td>\n",
       "      <td>3300</td>\n",
       "      <td>11</td>\n",
       "    </tr>\n",
       "    <tr>\n",
       "      <th>3</th>\n",
       "      <td>2022-11-01</td>\n",
       "      <td>Male</td>\n",
       "      <td>Aqoonmaal</td>\n",
       "      <td>17</td>\n",
       "      <td>Gabiley</td>\n",
       "      <td>920</td>\n",
       "      <td>220</td>\n",
       "      <td>300</td>\n",
       "      <td>4500</td>\n",
       "      <td>11</td>\n",
       "    </tr>\n",
       "    <tr>\n",
       "      <th>4</th>\n",
       "      <td>2022-11-01</td>\n",
       "      <td>Male</td>\n",
       "      <td>Mushaax</td>\n",
       "      <td>27</td>\n",
       "      <td>Oodweyne</td>\n",
       "      <td>2820</td>\n",
       "      <td>3553</td>\n",
       "      <td>2906</td>\n",
       "      <td>1746</td>\n",
       "      <td>11</td>\n",
       "    </tr>\n",
       "  </tbody>\n",
       "</table>\n",
       "</div>"
      ],
      "text/plain": [
       "        Date  Gender    Service  Age   Location  Likes  Share  Comments   \\\n",
       "0 2022-11-01  Female    Kaafiye   34    Gabiley   1200    700        200   \n",
       "1 2022-11-01  Female      Waafi   43    Berbera   2500    900        250   \n",
       "2 2022-11-01  Female   Internet   32  Ceerigabo    850    150        100   \n",
       "3 2022-11-01    Male  Aqoonmaal   17    Gabiley    920    220        300   \n",
       "4 2022-11-01    Male    Mushaax   27   Oodweyne   2820   3553       2906   \n",
       "\n",
       "   Engagements   Month  \n",
       "0          5600     11  \n",
       "1          7500     11  \n",
       "2          3300     11  \n",
       "3          4500     11  \n",
       "4          1746     11  "
      ]
     },
     "execution_count": 7,
     "metadata": {},
     "output_type": "execute_result"
    }
   ],
   "source": [
    "#Add some columns\n",
    "df['Month'] = df['Date'].dt.month\n",
    "df.head(5)"
   ]
  },
  {
   "cell_type": "code",
   "execution_count": 10,
   "id": "3ebf97ad-6f3f-4d62-ad4c-834f93a5d96b",
   "metadata": {},
   "outputs": [
    {
     "name": "stderr",
     "output_type": "stream",
     "text": [
      "C:\\Users\\Admin\\AppData\\Local\\Temp\\ipykernel_4108\\1471864436.py:2: FutureWarning: The default value of numeric_only in DataFrameGroupBy.sum is deprecated. In a future version, numeric_only will default to False. Either specify numeric_only or select only columns which should be valid for the function.\n",
      "  grouped_by_location = df.groupby(by=\"Location\").sum()[['Likes']]\n"
     ]
    },
    {
     "data": {
      "text/html": [
       "<div>\n",
       "<style scoped>\n",
       "    .dataframe tbody tr th:only-of-type {\n",
       "        vertical-align: middle;\n",
       "    }\n",
       "\n",
       "    .dataframe tbody tr th {\n",
       "        vertical-align: top;\n",
       "    }\n",
       "\n",
       "    .dataframe thead th {\n",
       "        text-align: right;\n",
       "    }\n",
       "</style>\n",
       "<table border=\"1\" class=\"dataframe\">\n",
       "  <thead>\n",
       "    <tr style=\"text-align: right;\">\n",
       "      <th></th>\n",
       "      <th>Likes</th>\n",
       "    </tr>\n",
       "    <tr>\n",
       "      <th>Location</th>\n",
       "      <th></th>\n",
       "    </tr>\n",
       "  </thead>\n",
       "  <tbody>\n",
       "    <tr>\n",
       "      <th>Berbera</th>\n",
       "      <td>109797</td>\n",
       "    </tr>\n",
       "    <tr>\n",
       "      <th>Borama</th>\n",
       "      <td>74487</td>\n",
       "    </tr>\n",
       "    <tr>\n",
       "      <th>Burco</th>\n",
       "      <td>77717</td>\n",
       "    </tr>\n",
       "    <tr>\n",
       "      <th>Buuhoodle</th>\n",
       "      <td>50687</td>\n",
       "    </tr>\n",
       "    <tr>\n",
       "      <th>Ceerigabo</th>\n",
       "      <td>56410</td>\n",
       "    </tr>\n",
       "    <tr>\n",
       "      <th>Gabiley</th>\n",
       "      <td>68957</td>\n",
       "    </tr>\n",
       "    <tr>\n",
       "      <th>Hargeisa</th>\n",
       "      <td>67295</td>\n",
       "    </tr>\n",
       "    <tr>\n",
       "      <th>Laascaanod</th>\n",
       "      <td>68959</td>\n",
       "    </tr>\n",
       "    <tr>\n",
       "      <th>Oodweyne</th>\n",
       "      <td>65223</td>\n",
       "    </tr>\n",
       "  </tbody>\n",
       "</table>\n",
       "</div>"
      ],
      "text/plain": [
       "             Likes\n",
       "Location          \n",
       "Berbera     109797\n",
       "Borama       74487\n",
       "Burco        77717\n",
       "Buuhoodle    50687\n",
       "Ceerigabo    56410\n",
       "Gabiley      68957\n",
       "Hargeisa     67295\n",
       "Laascaanod   68959\n",
       "Oodweyne     65223"
      ]
     },
     "execution_count": 10,
     "metadata": {},
     "output_type": "execute_result"
    }
   ],
   "source": [
    "# Group Numeric Value by sub-category\n",
    "grouped_by_location = df.groupby(by=\"Location\").sum()[['Likes']]\n",
    "grouped_by_location"
   ]
  },
  {
   "cell_type": "code",
   "execution_count": 11,
   "id": "975e8b12-efb8-40ea-9ddf-28623de0626d",
   "metadata": {},
   "outputs": [
    {
     "name": "stderr",
     "output_type": "stream",
     "text": [
      "C:\\Users\\Admin\\AppData\\Local\\Temp\\ipykernel_4108\\1741088107.py:1: FutureWarning: The default value of numeric_only in DataFrameGroupBy.sum is deprecated. In a future version, numeric_only will default to False. Either specify numeric_only or select only columns which should be valid for the function.\n",
      "  grouped_by_location = df.groupby(by=\"Location\").sum()[['Likes']].sort_values(by='Likes')\n"
     ]
    },
    {
     "data": {
      "text/html": [
       "<div>\n",
       "<style scoped>\n",
       "    .dataframe tbody tr th:only-of-type {\n",
       "        vertical-align: middle;\n",
       "    }\n",
       "\n",
       "    .dataframe tbody tr th {\n",
       "        vertical-align: top;\n",
       "    }\n",
       "\n",
       "    .dataframe thead th {\n",
       "        text-align: right;\n",
       "    }\n",
       "</style>\n",
       "<table border=\"1\" class=\"dataframe\">\n",
       "  <thead>\n",
       "    <tr style=\"text-align: right;\">\n",
       "      <th></th>\n",
       "      <th>Likes</th>\n",
       "    </tr>\n",
       "    <tr>\n",
       "      <th>Location</th>\n",
       "      <th></th>\n",
       "    </tr>\n",
       "  </thead>\n",
       "  <tbody>\n",
       "    <tr>\n",
       "      <th>Buuhoodle</th>\n",
       "      <td>50687</td>\n",
       "    </tr>\n",
       "    <tr>\n",
       "      <th>Ceerigabo</th>\n",
       "      <td>56410</td>\n",
       "    </tr>\n",
       "    <tr>\n",
       "      <th>Oodweyne</th>\n",
       "      <td>65223</td>\n",
       "    </tr>\n",
       "    <tr>\n",
       "      <th>Hargeisa</th>\n",
       "      <td>67295</td>\n",
       "    </tr>\n",
       "    <tr>\n",
       "      <th>Gabiley</th>\n",
       "      <td>68957</td>\n",
       "    </tr>\n",
       "    <tr>\n",
       "      <th>Laascaanod</th>\n",
       "      <td>68959</td>\n",
       "    </tr>\n",
       "    <tr>\n",
       "      <th>Borama</th>\n",
       "      <td>74487</td>\n",
       "    </tr>\n",
       "    <tr>\n",
       "      <th>Burco</th>\n",
       "      <td>77717</td>\n",
       "    </tr>\n",
       "    <tr>\n",
       "      <th>Berbera</th>\n",
       "      <td>109797</td>\n",
       "    </tr>\n",
       "  </tbody>\n",
       "</table>\n",
       "</div>"
      ],
      "text/plain": [
       "             Likes\n",
       "Location          \n",
       "Buuhoodle    50687\n",
       "Ceerigabo    56410\n",
       "Oodweyne     65223\n",
       "Hargeisa     67295\n",
       "Gabiley      68957\n",
       "Laascaanod   68959\n",
       "Borama       74487\n",
       "Burco        77717\n",
       "Berbera     109797"
      ]
     },
     "execution_count": 11,
     "metadata": {},
     "output_type": "execute_result"
    }
   ],
   "source": [
    "grouped_by_location = df.groupby(by=\"Location\").sum()[['Likes']].sort_values(by='Likes')\n",
    "grouped_by_location"
   ]
  },
  {
   "cell_type": "markdown",
   "id": "e628bda4-6674-4375-b29d-4cd554dba298",
   "metadata": {},
   "source": [
    "# Plot Data"
   ]
  },
  {
   "cell_type": "markdown",
   "id": "6f6a9b2d-ac3a-43cb-ba3c-b7a2bd92b86a",
   "metadata": {},
   "source": [
    "## Analysis Sub-Category"
   ]
  },
  {
   "cell_type": "code",
   "execution_count": 12,
   "id": "2a22e0a9-089f-4bb7-bff0-39350e11fab8",
   "metadata": {},
   "outputs": [
    {
     "ename": "ValueError",
     "evalue": "Value of 'x' is not the name of a column in 'data_frame'. Expected one of ['Likes'] but received: Location",
     "output_type": "error",
     "traceback": [
      "\u001b[1;31m---------------------------------------------------------------------------\u001b[0m",
      "\u001b[1;31mValueError\u001b[0m                                Traceback (most recent call last)",
      "Cell \u001b[1;32mIn [12], line 1\u001b[0m\n\u001b[1;32m----> 1\u001b[0m location_bar \u001b[38;5;241m=\u001b[39m \u001b[43mpx\u001b[49m\u001b[38;5;241;43m.\u001b[39;49m\u001b[43mbar\u001b[49m\u001b[43m(\u001b[49m\n\u001b[0;32m      2\u001b[0m \u001b[43m    \u001b[49m\u001b[43mgrouped_by_location\u001b[49m\u001b[43m,\u001b[49m\n\u001b[0;32m      3\u001b[0m \u001b[43m    \u001b[49m\u001b[43mx\u001b[49m\u001b[38;5;241;43m=\u001b[39;49m\u001b[38;5;124;43m'\u001b[39;49m\u001b[38;5;124;43mLocation\u001b[39;49m\u001b[38;5;124;43m'\u001b[39;49m\u001b[43m,\u001b[49m\n\u001b[0;32m      4\u001b[0m \u001b[43m    \u001b[49m\u001b[43my\u001b[49m\u001b[38;5;241;43m=\u001b[39;49m\u001b[38;5;124;43m'\u001b[39;49m\u001b[38;5;124;43mLikes\u001b[39;49m\u001b[38;5;124;43m'\u001b[39;49m\u001b[43m,\u001b[49m\n\u001b[0;32m      5\u001b[0m \u001b[43m    \u001b[49m\u001b[43mcolor\u001b[49m\u001b[38;5;241;43m=\u001b[39;49m\u001b[38;5;124;43m'\u001b[39;49m\u001b[38;5;124;43mAge\u001b[39;49m\u001b[38;5;124;43m'\u001b[39;49m\u001b[43m,\u001b[49m\n\u001b[0;32m      6\u001b[0m \u001b[43m    \u001b[49m\u001b[43mcolor_continuous_scale\u001b[49m\u001b[38;5;241;43m=\u001b[39;49m\u001b[43m[\u001b[49m\u001b[38;5;124;43m'\u001b[39;49m\u001b[38;5;124;43mred\u001b[39;49m\u001b[38;5;124;43m'\u001b[39;49m\u001b[43m,\u001b[49m\u001b[43m \u001b[49m\u001b[38;5;124;43m'\u001b[39;49m\u001b[38;5;124;43myellow\u001b[39;49m\u001b[38;5;124;43m'\u001b[39;49m\u001b[43m,\u001b[49m\u001b[43m \u001b[49m\u001b[38;5;124;43m'\u001b[39;49m\u001b[38;5;124;43mgreen\u001b[39;49m\u001b[38;5;124;43m'\u001b[39;49m\u001b[43m]\u001b[49m\u001b[43m,\u001b[49m\n\u001b[0;32m      7\u001b[0m \u001b[43m    \u001b[49m\u001b[43mtitle\u001b[49m\u001b[38;5;241;43m=\u001b[39;49m\u001b[38;5;124;43m'\u001b[39;49m\u001b[38;5;124;43m<b>Location & Likes by Location</b>\u001b[39;49m\u001b[38;5;124;43m'\u001b[39;49m\n\u001b[0;32m      8\u001b[0m \u001b[43m)\u001b[49m\n\u001b[0;32m      9\u001b[0m location_bar\u001b[38;5;241m.\u001b[39mshow()\n",
      "File \u001b[1;32m~\\AppData\\Local\\Programs\\Python\\Python311\\Lib\\site-packages\\plotly\\express\\_chart_types.py:373\u001b[0m, in \u001b[0;36mbar\u001b[1;34m(data_frame, x, y, color, pattern_shape, facet_row, facet_col, facet_col_wrap, facet_row_spacing, facet_col_spacing, hover_name, hover_data, custom_data, text, base, error_x, error_x_minus, error_y, error_y_minus, animation_frame, animation_group, category_orders, labels, color_discrete_sequence, color_discrete_map, color_continuous_scale, pattern_shape_sequence, pattern_shape_map, range_color, color_continuous_midpoint, opacity, orientation, barmode, log_x, log_y, range_x, range_y, text_auto, title, template, width, height)\u001b[0m\n\u001b[0;32m    325\u001b[0m \u001b[38;5;28;01mdef\u001b[39;00m \u001b[38;5;21mbar\u001b[39m(\n\u001b[0;32m    326\u001b[0m     data_frame\u001b[38;5;241m=\u001b[39m\u001b[38;5;28;01mNone\u001b[39;00m,\n\u001b[0;32m    327\u001b[0m     x\u001b[38;5;241m=\u001b[39m\u001b[38;5;28;01mNone\u001b[39;00m,\n\u001b[1;32m   (...)\u001b[0m\n\u001b[0;32m    367\u001b[0m     height\u001b[38;5;241m=\u001b[39m\u001b[38;5;28;01mNone\u001b[39;00m,\n\u001b[0;32m    368\u001b[0m ) \u001b[38;5;241m-\u001b[39m\u001b[38;5;241m>\u001b[39m go\u001b[38;5;241m.\u001b[39mFigure:\n\u001b[0;32m    369\u001b[0m     \u001b[38;5;124;03m\"\"\"\u001b[39;00m\n\u001b[0;32m    370\u001b[0m \u001b[38;5;124;03m    In a bar plot, each row of `data_frame` is represented as a rectangular\u001b[39;00m\n\u001b[0;32m    371\u001b[0m \u001b[38;5;124;03m    mark.\u001b[39;00m\n\u001b[0;32m    372\u001b[0m \u001b[38;5;124;03m    \"\"\"\u001b[39;00m\n\u001b[1;32m--> 373\u001b[0m     \u001b[38;5;28;01mreturn\u001b[39;00m \u001b[43mmake_figure\u001b[49m\u001b[43m(\u001b[49m\n\u001b[0;32m    374\u001b[0m \u001b[43m        \u001b[49m\u001b[43margs\u001b[49m\u001b[38;5;241;43m=\u001b[39;49m\u001b[38;5;28;43mlocals\u001b[39;49m\u001b[43m(\u001b[49m\u001b[43m)\u001b[49m\u001b[43m,\u001b[49m\n\u001b[0;32m    375\u001b[0m \u001b[43m        \u001b[49m\u001b[43mconstructor\u001b[49m\u001b[38;5;241;43m=\u001b[39;49m\u001b[43mgo\u001b[49m\u001b[38;5;241;43m.\u001b[39;49m\u001b[43mBar\u001b[49m\u001b[43m,\u001b[49m\n\u001b[0;32m    376\u001b[0m \u001b[43m        \u001b[49m\u001b[43mtrace_patch\u001b[49m\u001b[38;5;241;43m=\u001b[39;49m\u001b[38;5;28;43mdict\u001b[39;49m\u001b[43m(\u001b[49m\u001b[43mtextposition\u001b[49m\u001b[38;5;241;43m=\u001b[39;49m\u001b[38;5;124;43m\"\u001b[39;49m\u001b[38;5;124;43mauto\u001b[39;49m\u001b[38;5;124;43m\"\u001b[39;49m\u001b[43m)\u001b[49m\u001b[43m,\u001b[49m\n\u001b[0;32m    377\u001b[0m \u001b[43m        \u001b[49m\u001b[43mlayout_patch\u001b[49m\u001b[38;5;241;43m=\u001b[39;49m\u001b[38;5;28;43mdict\u001b[39;49m\u001b[43m(\u001b[49m\u001b[43mbarmode\u001b[49m\u001b[38;5;241;43m=\u001b[39;49m\u001b[43mbarmode\u001b[49m\u001b[43m)\u001b[49m\u001b[43m,\u001b[49m\n\u001b[0;32m    378\u001b[0m \u001b[43m    \u001b[49m\u001b[43m)\u001b[49m\n",
      "File \u001b[1;32m~\\AppData\\Local\\Programs\\Python\\Python311\\Lib\\site-packages\\plotly\\express\\_core.py:1990\u001b[0m, in \u001b[0;36mmake_figure\u001b[1;34m(args, constructor, trace_patch, layout_patch)\u001b[0m\n\u001b[0;32m   1987\u001b[0m layout_patch \u001b[38;5;241m=\u001b[39m layout_patch \u001b[38;5;129;01mor\u001b[39;00m {}\n\u001b[0;32m   1988\u001b[0m apply_default_cascade(args)\n\u001b[1;32m-> 1990\u001b[0m args \u001b[38;5;241m=\u001b[39m \u001b[43mbuild_dataframe\u001b[49m\u001b[43m(\u001b[49m\u001b[43margs\u001b[49m\u001b[43m,\u001b[49m\u001b[43m \u001b[49m\u001b[43mconstructor\u001b[49m\u001b[43m)\u001b[49m\n\u001b[0;32m   1991\u001b[0m \u001b[38;5;28;01mif\u001b[39;00m constructor \u001b[38;5;129;01min\u001b[39;00m [go\u001b[38;5;241m.\u001b[39mTreemap, go\u001b[38;5;241m.\u001b[39mSunburst, go\u001b[38;5;241m.\u001b[39mIcicle] \u001b[38;5;129;01mand\u001b[39;00m args[\u001b[38;5;124m\"\u001b[39m\u001b[38;5;124mpath\u001b[39m\u001b[38;5;124m\"\u001b[39m] \u001b[38;5;129;01mis\u001b[39;00m \u001b[38;5;129;01mnot\u001b[39;00m \u001b[38;5;28;01mNone\u001b[39;00m:\n\u001b[0;32m   1992\u001b[0m     args \u001b[38;5;241m=\u001b[39m process_dataframe_hierarchy(args)\n",
      "File \u001b[1;32m~\\AppData\\Local\\Programs\\Python\\Python311\\Lib\\site-packages\\plotly\\express\\_core.py:1405\u001b[0m, in \u001b[0;36mbuild_dataframe\u001b[1;34m(args, constructor)\u001b[0m\n\u001b[0;32m   1402\u001b[0m     args[\u001b[38;5;124m\"\u001b[39m\u001b[38;5;124mcolor\u001b[39m\u001b[38;5;124m\"\u001b[39m] \u001b[38;5;241m=\u001b[39m \u001b[38;5;28;01mNone\u001b[39;00m\n\u001b[0;32m   1403\u001b[0m \u001b[38;5;66;03m# now that things have been prepped, we do the systematic rewriting of `args`\u001b[39;00m\n\u001b[1;32m-> 1405\u001b[0m df_output, wide_id_vars \u001b[38;5;241m=\u001b[39m \u001b[43mprocess_args_into_dataframe\u001b[49m\u001b[43m(\u001b[49m\n\u001b[0;32m   1406\u001b[0m \u001b[43m    \u001b[49m\u001b[43margs\u001b[49m\u001b[43m,\u001b[49m\u001b[43m \u001b[49m\u001b[43mwide_mode\u001b[49m\u001b[43m,\u001b[49m\u001b[43m \u001b[49m\u001b[43mvar_name\u001b[49m\u001b[43m,\u001b[49m\u001b[43m \u001b[49m\u001b[43mvalue_name\u001b[49m\n\u001b[0;32m   1407\u001b[0m \u001b[43m\u001b[49m\u001b[43m)\u001b[49m\n\u001b[0;32m   1409\u001b[0m \u001b[38;5;66;03m# now that `df_output` exists and `args` contains only references, we complete\u001b[39;00m\n\u001b[0;32m   1410\u001b[0m \u001b[38;5;66;03m# the special-case and wide-mode handling by further rewriting args and/or mutating\u001b[39;00m\n\u001b[0;32m   1411\u001b[0m \u001b[38;5;66;03m# df_output\u001b[39;00m\n\u001b[0;32m   1413\u001b[0m count_name \u001b[38;5;241m=\u001b[39m _escape_col_name(df_output, \u001b[38;5;124m\"\u001b[39m\u001b[38;5;124mcount\u001b[39m\u001b[38;5;124m\"\u001b[39m, [var_name, value_name])\n",
      "File \u001b[1;32m~\\AppData\\Local\\Programs\\Python\\Python311\\Lib\\site-packages\\plotly\\express\\_core.py:1207\u001b[0m, in \u001b[0;36mprocess_args_into_dataframe\u001b[1;34m(args, wide_mode, var_name, value_name)\u001b[0m\n\u001b[0;32m   1205\u001b[0m         \u001b[38;5;28;01mif\u001b[39;00m argument \u001b[38;5;241m==\u001b[39m \u001b[38;5;124m\"\u001b[39m\u001b[38;5;124mindex\u001b[39m\u001b[38;5;124m\"\u001b[39m:\n\u001b[0;32m   1206\u001b[0m             err_msg \u001b[38;5;241m+\u001b[39m\u001b[38;5;241m=\u001b[39m \u001b[38;5;124m\"\u001b[39m\u001b[38;5;130;01m\\n\u001b[39;00m\u001b[38;5;124m To use the index, pass it in directly as `df.index`.\u001b[39m\u001b[38;5;124m\"\u001b[39m\n\u001b[1;32m-> 1207\u001b[0m         \u001b[38;5;28;01mraise\u001b[39;00m \u001b[38;5;167;01mValueError\u001b[39;00m(err_msg)\n\u001b[0;32m   1208\u001b[0m \u001b[38;5;28;01melif\u001b[39;00m length \u001b[38;5;129;01mand\u001b[39;00m \u001b[38;5;28mlen\u001b[39m(df_input[argument]) \u001b[38;5;241m!=\u001b[39m length:\n\u001b[0;32m   1209\u001b[0m     \u001b[38;5;28;01mraise\u001b[39;00m \u001b[38;5;167;01mValueError\u001b[39;00m(\n\u001b[0;32m   1210\u001b[0m         \u001b[38;5;124m\"\u001b[39m\u001b[38;5;124mAll arguments should have the same length. \u001b[39m\u001b[38;5;124m\"\u001b[39m\n\u001b[0;32m   1211\u001b[0m         \u001b[38;5;124m\"\u001b[39m\u001b[38;5;124mThe length of column argument `df[\u001b[39m\u001b[38;5;132;01m%s\u001b[39;00m\u001b[38;5;124m]` is \u001b[39m\u001b[38;5;132;01m%d\u001b[39;00m\u001b[38;5;124m, whereas the \u001b[39m\u001b[38;5;124m\"\u001b[39m\n\u001b[1;32m   (...)\u001b[0m\n\u001b[0;32m   1218\u001b[0m         )\n\u001b[0;32m   1219\u001b[0m     )\n",
      "\u001b[1;31mValueError\u001b[0m: Value of 'x' is not the name of a column in 'data_frame'. Expected one of ['Likes'] but received: Location"
     ]
    }
   ],
   "source": [
    "location_bar = px.bar(\n",
    "    grouped_by_location,\n",
    "    x='Likes',\n",
    "    y='Location',\n",
    "    color='Age',\n",
    "    color_continuous_scale=['red', 'yellow', 'green'],\n",
    "    title='<b>Location & Likes by Location</b>'\n",
    ")\n",
    "location_bar.show()"
   ]
  },
  {
   "cell_type": "markdown",
   "id": "fb42ba13-33ef-466b-95e3-18d4dbb44217",
   "metadata": {},
   "source": [
    "# Likes by Services "
   ]
  },
  {
   "cell_type": "code",
   "execution_count": 10,
   "id": "4706a641-ff34-44f2-9f39-73d29f9beffd",
   "metadata": {},
   "outputs": [
    {
     "name": "stderr",
     "output_type": "stream",
     "text": [
      "C:\\Users\\Admin\\AppData\\Local\\Temp\\ipykernel_6652\\3455477912.py:1: FutureWarning: The default value of numeric_only in DataFrameGroupBy.sum is deprecated. In a future version, numeric_only will default to False. Either specify numeric_only or select only columns which should be valid for the function.\n",
      "  df.groupby(by=['Service']).sum()\n"
     ]
    },
    {
     "data": {
      "text/html": [
       "<div>\n",
       "<style scoped>\n",
       "    .dataframe tbody tr th:only-of-type {\n",
       "        vertical-align: middle;\n",
       "    }\n",
       "\n",
       "    .dataframe tbody tr th {\n",
       "        vertical-align: top;\n",
       "    }\n",
       "\n",
       "    .dataframe thead th {\n",
       "        text-align: right;\n",
       "    }\n",
       "</style>\n",
       "<table border=\"1\" class=\"dataframe\">\n",
       "  <thead>\n",
       "    <tr style=\"text-align: right;\">\n",
       "      <th></th>\n",
       "      <th>Age</th>\n",
       "      <th>Likes</th>\n",
       "      <th>Share</th>\n",
       "      <th>Comments</th>\n",
       "      <th>Engagements</th>\n",
       "      <th>Month</th>\n",
       "    </tr>\n",
       "    <tr>\n",
       "      <th>Service</th>\n",
       "      <th></th>\n",
       "      <th></th>\n",
       "      <th></th>\n",
       "      <th></th>\n",
       "      <th></th>\n",
       "      <th></th>\n",
       "    </tr>\n",
       "  </thead>\n",
       "  <tbody>\n",
       "    <tr>\n",
       "      <th>Aqoonmaal</th>\n",
       "      <td>1668</td>\n",
       "      <td>124120</td>\n",
       "      <td>138673</td>\n",
       "      <td>141451</td>\n",
       "      <td>128928</td>\n",
       "      <td>616</td>\n",
       "    </tr>\n",
       "    <tr>\n",
       "      <th>Internet</th>\n",
       "      <td>1672</td>\n",
       "      <td>115851</td>\n",
       "      <td>93593</td>\n",
       "      <td>108809</td>\n",
       "      <td>125493</td>\n",
       "      <td>594</td>\n",
       "    </tr>\n",
       "    <tr>\n",
       "      <th>Kaafiye</th>\n",
       "      <td>1597</td>\n",
       "      <td>128928</td>\n",
       "      <td>126432</td>\n",
       "      <td>114830</td>\n",
       "      <td>142951</td>\n",
       "      <td>594</td>\n",
       "    </tr>\n",
       "    <tr>\n",
       "      <th>Mushaax</th>\n",
       "      <td>1656</td>\n",
       "      <td>130803</td>\n",
       "      <td>124028</td>\n",
       "      <td>127670</td>\n",
       "      <td>121609</td>\n",
       "      <td>583</td>\n",
       "    </tr>\n",
       "    <tr>\n",
       "      <th>Waafi</th>\n",
       "      <td>1716</td>\n",
       "      <td>139830</td>\n",
       "      <td>127120</td>\n",
       "      <td>111248</td>\n",
       "      <td>117945</td>\n",
       "      <td>594</td>\n",
       "    </tr>\n",
       "  </tbody>\n",
       "</table>\n",
       "</div>"
      ],
      "text/plain": [
       "            Age   Likes   Share  Comments   Engagements   Month\n",
       "Service                                                        \n",
       "Aqoonmaal  1668  124120  138673     141451        128928    616\n",
       "Internet   1672  115851   93593     108809        125493    594\n",
       "Kaafiye    1597  128928  126432     114830        142951    594\n",
       "Mushaax    1656  130803  124028     127670        121609    583\n",
       "Waafi      1716  139830  127120     111248        117945    594"
      ]
     },
     "execution_count": 10,
     "metadata": {},
     "output_type": "execute_result"
    }
   ],
   "source": [
    "df.groupby(by=['Service']).sum()"
   ]
  },
  {
   "cell_type": "code",
   "execution_count": 11,
   "id": "a4ec70c8-e0d2-45d2-ac7e-cf111f77f36c",
   "metadata": {},
   "outputs": [
    {
     "name": "stderr",
     "output_type": "stream",
     "text": [
      "C:\\Users\\Admin\\AppData\\Local\\Temp\\ipykernel_6652\\2290613399.py:1: FutureWarning: The default value of numeric_only in DataFrameGroupBy.sum is deprecated. In a future version, numeric_only will default to False. Either specify numeric_only or select only columns which should be valid for the function.\n",
      "  df.groupby(by=['Service']).sum()[['Likes']]\n"
     ]
    },
    {
     "data": {
      "text/html": [
       "<div>\n",
       "<style scoped>\n",
       "    .dataframe tbody tr th:only-of-type {\n",
       "        vertical-align: middle;\n",
       "    }\n",
       "\n",
       "    .dataframe tbody tr th {\n",
       "        vertical-align: top;\n",
       "    }\n",
       "\n",
       "    .dataframe thead th {\n",
       "        text-align: right;\n",
       "    }\n",
       "</style>\n",
       "<table border=\"1\" class=\"dataframe\">\n",
       "  <thead>\n",
       "    <tr style=\"text-align: right;\">\n",
       "      <th></th>\n",
       "      <th>Likes</th>\n",
       "    </tr>\n",
       "    <tr>\n",
       "      <th>Service</th>\n",
       "      <th></th>\n",
       "    </tr>\n",
       "  </thead>\n",
       "  <tbody>\n",
       "    <tr>\n",
       "      <th>Aqoonmaal</th>\n",
       "      <td>124120</td>\n",
       "    </tr>\n",
       "    <tr>\n",
       "      <th>Internet</th>\n",
       "      <td>115851</td>\n",
       "    </tr>\n",
       "    <tr>\n",
       "      <th>Kaafiye</th>\n",
       "      <td>128928</td>\n",
       "    </tr>\n",
       "    <tr>\n",
       "      <th>Mushaax</th>\n",
       "      <td>130803</td>\n",
       "    </tr>\n",
       "    <tr>\n",
       "      <th>Waafi</th>\n",
       "      <td>139830</td>\n",
       "    </tr>\n",
       "  </tbody>\n",
       "</table>\n",
       "</div>"
      ],
      "text/plain": [
       "            Likes\n",
       "Service          \n",
       "Aqoonmaal  124120\n",
       "Internet   115851\n",
       "Kaafiye    128928\n",
       "Mushaax    130803\n",
       "Waafi      139830"
      ]
     },
     "execution_count": 11,
     "metadata": {},
     "output_type": "execute_result"
    }
   ],
   "source": [
    "df.groupby(by=['Service']).sum()[['Likes']]"
   ]
  },
  {
   "cell_type": "code",
   "execution_count": 12,
   "id": "e6a53b7d-6c3c-4715-98b3-7e10bc6684d6",
   "metadata": {},
   "outputs": [
    {
     "name": "stderr",
     "output_type": "stream",
     "text": [
      "C:\\Users\\Admin\\AppData\\Local\\Temp\\ipykernel_6652\\2746607525.py:1: FutureWarning: The default value of numeric_only in DataFrameGroupBy.sum is deprecated. In a future version, numeric_only will default to False. Either specify numeric_only or select only columns which should be valid for the function.\n",
      "  df.groupby(by=['Service']).sum()[['Likes']].sort_values(by='Likes')\n"
     ]
    },
    {
     "data": {
      "text/html": [
       "<div>\n",
       "<style scoped>\n",
       "    .dataframe tbody tr th:only-of-type {\n",
       "        vertical-align: middle;\n",
       "    }\n",
       "\n",
       "    .dataframe tbody tr th {\n",
       "        vertical-align: top;\n",
       "    }\n",
       "\n",
       "    .dataframe thead th {\n",
       "        text-align: right;\n",
       "    }\n",
       "</style>\n",
       "<table border=\"1\" class=\"dataframe\">\n",
       "  <thead>\n",
       "    <tr style=\"text-align: right;\">\n",
       "      <th></th>\n",
       "      <th>Likes</th>\n",
       "    </tr>\n",
       "    <tr>\n",
       "      <th>Service</th>\n",
       "      <th></th>\n",
       "    </tr>\n",
       "  </thead>\n",
       "  <tbody>\n",
       "    <tr>\n",
       "      <th>Internet</th>\n",
       "      <td>115851</td>\n",
       "    </tr>\n",
       "    <tr>\n",
       "      <th>Aqoonmaal</th>\n",
       "      <td>124120</td>\n",
       "    </tr>\n",
       "    <tr>\n",
       "      <th>Kaafiye</th>\n",
       "      <td>128928</td>\n",
       "    </tr>\n",
       "    <tr>\n",
       "      <th>Mushaax</th>\n",
       "      <td>130803</td>\n",
       "    </tr>\n",
       "    <tr>\n",
       "      <th>Waafi</th>\n",
       "      <td>139830</td>\n",
       "    </tr>\n",
       "  </tbody>\n",
       "</table>\n",
       "</div>"
      ],
      "text/plain": [
       "            Likes\n",
       "Service          \n",
       "Internet   115851\n",
       "Aqoonmaal  124120\n",
       "Kaafiye    128928\n",
       "Mushaax    130803\n",
       "Waafi      139830"
      ]
     },
     "execution_count": 12,
     "metadata": {},
     "output_type": "execute_result"
    }
   ],
   "source": [
    "df.groupby(by=['Service']).sum()[['Likes']].sort_values(by='Likes')"
   ]
  },
  {
   "cell_type": "code",
   "execution_count": null,
   "id": "a45e1375-ff99-4b33-9a80-0f84ff496a85",
   "metadata": {},
   "outputs": [],
   "source": []
  }
 ],
 "metadata": {
  "kernelspec": {
   "display_name": "Python 3 (ipykernel)",
   "language": "python",
   "name": "python3"
  },
  "language_info": {
   "codemirror_mode": {
    "name": "ipython",
    "version": 3
   },
   "file_extension": ".py",
   "mimetype": "text/x-python",
   "name": "python",
   "nbconvert_exporter": "python",
   "pygments_lexer": "ipython3",
   "version": "3.11.0"
  }
 },
 "nbformat": 4,
 "nbformat_minor": 5
}
