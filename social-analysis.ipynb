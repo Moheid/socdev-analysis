{
 "cells": [
  {
   "cell_type": "markdown",
   "id": "4a02bb50-7ced-4db1-8fe3-40e2a24e273c",
   "metadata": {},
   "source": [
    "# 1.0 Install & Import Dependencies"
   ]
  },
  {
   "cell_type": "code",
   "execution_count": 1,
   "id": "3260fa9e-a3db-462f-bce0-a19b871fbdad",
   "metadata": {},
   "outputs": [],
   "source": [
    "#!pip install pandas --quiet\n",
    "#!pip install openpyxl --quiet\n",
    "#!pip install plotly-express --quiet\n",
    "#!pip install xlwings --quiet"
   ]
  },
  {
   "cell_type": "code",
   "execution_count": 15,
   "id": "6c833561-8044-4680-874d-a15f39fdcecf",
   "metadata": {},
   "outputs": [],
   "source": [
    "from pathlib import Path # Python standard library\n",
    "from datetime import datetime\n",
    "\n",
    "import pandas as pd\n",
    "import plotly.express as px\n",
    "import xlwings as news"
   ]
  },
  {
   "cell_type": "code",
   "execution_count": 16,
   "id": "4cc5f24f-a9c7-479b-b533-deae6c68b29d",
   "metadata": {},
   "outputs": [],
   "source": [
    "# [OPTIONAL] SETTING\n",
    "import plotly.io as pio\n",
    "pio.templates.default ='plotly_white'"
   ]
  },
  {
   "cell_type": "markdown",
   "id": "606a1c78-4c93-40f2-b940-a6d525c2a536",
   "metadata": {},
   "source": [
    "# 1.1 Get From Excel"
   ]
  },
  {
   "cell_type": "code",
   "execution_count": 17,
   "id": "92e23561-951f-449f-84fc-cb55ae8df16c",
   "metadata": {},
   "outputs": [],
   "source": [
    "# Read excel file (facebook.xlsx) into a pandas\n",
    "excel_path = Path.cwd() / \"data\" / \"facebook.xlsx\"\n",
    "df = pd.read_excel(excel_path, sheet_name=\"facebook\", skiprows=2)"
   ]
  },
  {
   "cell_type": "code",
   "execution_count": 18,
   "id": "b9ba3b1f-9c9f-4a4f-9128-e22c7826cc52",
   "metadata": {},
   "outputs": [
    {
     "data": {
      "text/html": [
       "<div>\n",
       "<style scoped>\n",
       "    .dataframe tbody tr th:only-of-type {\n",
       "        vertical-align: middle;\n",
       "    }\n",
       "\n",
       "    .dataframe tbody tr th {\n",
       "        vertical-align: top;\n",
       "    }\n",
       "\n",
       "    .dataframe thead th {\n",
       "        text-align: right;\n",
       "    }\n",
       "</style>\n",
       "<table border=\"1\" class=\"dataframe\">\n",
       "  <thead>\n",
       "    <tr style=\"text-align: right;\">\n",
       "      <th></th>\n",
       "      <th>Date</th>\n",
       "      <th>Gender</th>\n",
       "      <th>Service</th>\n",
       "      <th>Age</th>\n",
       "      <th>Location</th>\n",
       "      <th>Likes</th>\n",
       "      <th>Share</th>\n",
       "      <th>Comments</th>\n",
       "      <th>Engagements</th>\n",
       "      <th>Text</th>\n",
       "    </tr>\n",
       "  </thead>\n",
       "  <tbody>\n",
       "    <tr>\n",
       "      <th>236</th>\n",
       "      <td>2022-01-05T11:37:03.362Z</td>\n",
       "      <td>Male</td>\n",
       "      <td>Mushaax</td>\n",
       "      <td>17</td>\n",
       "      <td>Borama</td>\n",
       "      <td>3987</td>\n",
       "      <td>504</td>\n",
       "      <td>660</td>\n",
       "      <td>356</td>\n",
       "      <td>Telesom you have dedicated network coverage, w...</td>\n",
       "    </tr>\n",
       "  </tbody>\n",
       "</table>\n",
       "</div>"
      ],
      "text/plain": [
       "                         Date Gender  Service  Age Location  Likes  Share  \\\n",
       "236  2022-01-05T11:37:03.362Z   Male  Mushaax   17   Borama   3987    504   \n",
       "\n",
       "     Comments   Engagements   \\\n",
       "236        660           356   \n",
       "\n",
       "                                                  Text  \n",
       "236  Telesom you have dedicated network coverage, w...  "
      ]
     },
     "execution_count": 18,
     "metadata": {},
     "output_type": "execute_result"
    }
   ],
   "source": [
    "# Check the data \n",
    "df.sample()"
   ]
  },
  {
   "cell_type": "code",
   "execution_count": 19,
   "id": "c6992d50-afc5-4809-a0af-c834e920170d",
   "metadata": {},
   "outputs": [
    {
     "name": "stdout",
     "output_type": "stream",
     "text": [
      "<class 'pandas.core.frame.DataFrame'>\n",
      "RangeIndex: 468 entries, 0 to 467\n",
      "Data columns (total 10 columns):\n",
      " #   Column        Non-Null Count  Dtype \n",
      "---  ------        --------------  ----- \n",
      " 0   Date          468 non-null    object\n",
      " 1   Gender        468 non-null    object\n",
      " 2   Service       468 non-null    object\n",
      " 3   Age           468 non-null    int64 \n",
      " 4   Location      468 non-null    object\n",
      " 5   Likes         468 non-null    int64 \n",
      " 6   Share         468 non-null    int64 \n",
      " 7   Comments      468 non-null    int64 \n",
      " 8   Engagements   468 non-null    int64 \n",
      " 9   Text          468 non-null    object\n",
      "dtypes: int64(5), object(5)\n",
      "memory usage: 36.7+ KB\n"
     ]
    }
   ],
   "source": [
    "# print a concise summary of data \n",
    "df.info()"
   ]
  },
  {
   "cell_type": "code",
   "execution_count": 20,
   "id": "ca741bec-27b2-4103-b514-9be8673d14c3",
   "metadata": {},
   "outputs": [
    {
     "data": {
      "text/html": [
       "<div>\n",
       "<style scoped>\n",
       "    .dataframe tbody tr th:only-of-type {\n",
       "        vertical-align: middle;\n",
       "    }\n",
       "\n",
       "    .dataframe tbody tr th {\n",
       "        vertical-align: top;\n",
       "    }\n",
       "\n",
       "    .dataframe thead th {\n",
       "        text-align: right;\n",
       "    }\n",
       "</style>\n",
       "<table border=\"1\" class=\"dataframe\">\n",
       "  <thead>\n",
       "    <tr style=\"text-align: right;\">\n",
       "      <th></th>\n",
       "      <th>Date</th>\n",
       "      <th>Gender</th>\n",
       "      <th>Service</th>\n",
       "      <th>Age</th>\n",
       "      <th>Location</th>\n",
       "      <th>Likes</th>\n",
       "      <th>Share</th>\n",
       "      <th>Comments</th>\n",
       "      <th>Engagements</th>\n",
       "      <th>Text</th>\n",
       "      <th>Month</th>\n",
       "      <th>Year</th>\n",
       "      <th>Time</th>\n",
       "    </tr>\n",
       "  </thead>\n",
       "  <tbody>\n",
       "    <tr>\n",
       "      <th>0</th>\n",
       "      <td>2021-12-30T19:56:11.995Z</td>\n",
       "      <td>Female</td>\n",
       "      <td>Kaafiye</td>\n",
       "      <td>34</td>\n",
       "      <td>Gabiley</td>\n",
       "      <td>1200</td>\n",
       "      <td>700</td>\n",
       "      <td>200</td>\n",
       "      <td>5600</td>\n",
       "      <td>Telesom is the leading Telecom in Somaliland</td>\n",
       "      <td>12</td>\n",
       "      <td>2021</td>\n",
       "      <td>19:56:11.995000</td>\n",
       "    </tr>\n",
       "    <tr>\n",
       "      <th>1</th>\n",
       "      <td>2021-12-31T17:16:01.168Z</td>\n",
       "      <td>Female</td>\n",
       "      <td>Waafi</td>\n",
       "      <td>43</td>\n",
       "      <td>Berbera</td>\n",
       "      <td>2500</td>\n",
       "      <td>900</td>\n",
       "      <td>250</td>\n",
       "      <td>7500</td>\n",
       "      <td>Telesom innovate new service, I like your serv...</td>\n",
       "      <td>12</td>\n",
       "      <td>2021</td>\n",
       "      <td>17:16:01.168000</td>\n",
       "    </tr>\n",
       "    <tr>\n",
       "      <th>2</th>\n",
       "      <td>2021-12-30T16:47:34.685Z</td>\n",
       "      <td>Female</td>\n",
       "      <td>Internet</td>\n",
       "      <td>32</td>\n",
       "      <td>Ceerigabo</td>\n",
       "      <td>850</td>\n",
       "      <td>150</td>\n",
       "      <td>100</td>\n",
       "      <td>3300</td>\n",
       "      <td>Telesom you have dedicated network coverage, w...</td>\n",
       "      <td>12</td>\n",
       "      <td>2021</td>\n",
       "      <td>16:47:34.685000</td>\n",
       "    </tr>\n",
       "    <tr>\n",
       "      <th>3</th>\n",
       "      <td>2021-12-31T00:07:54.511Z</td>\n",
       "      <td>Male</td>\n",
       "      <td>Aqoonmaal</td>\n",
       "      <td>17</td>\n",
       "      <td>Gabiley</td>\n",
       "      <td>920</td>\n",
       "      <td>220</td>\n",
       "      <td>300</td>\n",
       "      <td>4500</td>\n",
       "      <td>Telesom are always telecom pioneers</td>\n",
       "      <td>12</td>\n",
       "      <td>2021</td>\n",
       "      <td>00:07:54.511000</td>\n",
       "    </tr>\n",
       "    <tr>\n",
       "      <th>4</th>\n",
       "      <td>2021-12-30T15:52:30.802Z</td>\n",
       "      <td>Male</td>\n",
       "      <td>Mushaax</td>\n",
       "      <td>27</td>\n",
       "      <td>Oodweyne</td>\n",
       "      <td>2820</td>\n",
       "      <td>3553</td>\n",
       "      <td>2906</td>\n",
       "      <td>1746</td>\n",
       "      <td>Telesom you have dedicated network coverage, w...</td>\n",
       "      <td>12</td>\n",
       "      <td>2021</td>\n",
       "      <td>15:52:30.802000</td>\n",
       "    </tr>\n",
       "  </tbody>\n",
       "</table>\n",
       "</div>"
      ],
      "text/plain": [
       "                       Date  Gender    Service  Age   Location  Likes  Share  \\\n",
       "0  2021-12-30T19:56:11.995Z  Female    Kaafiye   34    Gabiley   1200    700   \n",
       "1  2021-12-31T17:16:01.168Z  Female      Waafi   43    Berbera   2500    900   \n",
       "2  2021-12-30T16:47:34.685Z  Female   Internet   32  Ceerigabo    850    150   \n",
       "3  2021-12-31T00:07:54.511Z    Male  Aqoonmaal   17    Gabiley    920    220   \n",
       "4  2021-12-30T15:52:30.802Z    Male    Mushaax   27   Oodweyne   2820   3553   \n",
       "\n",
       "   Comments   Engagements                                                Text  \\\n",
       "0        200          5600      Telesom is the leading Telecom in Somaliland    \n",
       "1        250          7500  Telesom innovate new service, I like your serv...   \n",
       "2        100          3300  Telesom you have dedicated network coverage, w...   \n",
       "3        300          4500                Telesom are always telecom pioneers   \n",
       "4       2906          1746  Telesom you have dedicated network coverage, w...   \n",
       "\n",
       "   Month  Year             Time  \n",
       "0     12  2021  19:56:11.995000  \n",
       "1     12  2021  17:16:01.168000  \n",
       "2     12  2021  16:47:34.685000  \n",
       "3     12  2021  00:07:54.511000  \n",
       "4     12  2021  15:52:30.802000  "
      ]
     },
     "execution_count": 20,
     "metadata": {},
     "output_type": "execute_result"
    }
   ],
   "source": [
    "df['Month'] =pd.to_datetime(df['Date'], format=\"%Y/%m/%d %H:%M:%S%\").dt.month\n",
    "df['Year'] =pd.to_datetime(df['Date'], format=\"%Y/%m/%d %H:%M:%S%\").dt.year\n",
    "df['Time'] =pd.to_datetime(df['Date'], format=\"%Y/%m/%d %H:%M:%S%\").dt.time\n",
    "df.head(5)"
   ]
  },
  {
   "cell_type": "code",
   "execution_count": 21,
   "id": "4d8342b2-8139-4742-97f2-8cab1614188d",
   "metadata": {},
   "outputs": [
    {
     "name": "stdout",
     "output_type": "stream",
     "text": [
      "<class 'pandas.core.frame.DataFrame'>\n",
      "RangeIndex: 468 entries, 0 to 467\n",
      "Data columns (total 13 columns):\n",
      " #   Column        Non-Null Count  Dtype \n",
      "---  ------        --------------  ----- \n",
      " 0   Date          468 non-null    object\n",
      " 1   Gender        468 non-null    object\n",
      " 2   Service       468 non-null    object\n",
      " 3   Age           468 non-null    int64 \n",
      " 4   Location      468 non-null    object\n",
      " 5   Likes         468 non-null    int64 \n",
      " 6   Share         468 non-null    int64 \n",
      " 7   Comments      468 non-null    int64 \n",
      " 8   Engagements   468 non-null    int64 \n",
      " 9   Text          468 non-null    object\n",
      " 10  Month         468 non-null    int64 \n",
      " 11  Year          468 non-null    int64 \n",
      " 12  Time          468 non-null    object\n",
      "dtypes: int64(7), object(6)\n",
      "memory usage: 47.7+ KB\n"
     ]
    }
   ],
   "source": [
    "df.info()"
   ]
  },
  {
   "cell_type": "code",
   "execution_count": 23,
   "id": "bd9e1fa2-624b-466d-8bdb-3d70cba1bbe2",
   "metadata": {},
   "outputs": [
    {
     "data": {
      "application/vnd.plotly.v1+json": {
       "config": {
        "plotlyServerURL": "https://plot.ly"
       },
       "data": [
        {
         "domain": {
          "x": [
           0,
           1
          ],
          "y": [
           0,
           1
          ]
         },
         "hole": 0.4,
         "hoverinfo": "label+percent",
         "hovertemplate": "Gender=%{value}<extra></extra>",
         "labels": [
          54,
          46
         ],
         "legendgroup": "",
         "name": "",
         "showlegend": true,
         "textfont": {
          "size": 20
         },
         "textinfo": "percent",
         "title": {
          "font": {
           "color": "darkred",
           "family": "Verdana",
           "size": 60
          }
         },
         "type": "pie",
         "values": [
          54,
          46
         ]
        }
       ],
       "layout": {
        "autosize": true,
        "legend": {
         "tracegroupgap": 0
        },
        "template": {
         "data": {
          "bar": [
           {
            "error_x": {
             "color": "#2a3f5f"
            },
            "error_y": {
             "color": "#2a3f5f"
            },
            "marker": {
             "line": {
              "color": "white",
              "width": 0.5
             },
             "pattern": {
              "fillmode": "overlay",
              "size": 10,
              "solidity": 0.2
             }
            },
            "type": "bar"
           }
          ],
          "barpolar": [
           {
            "marker": {
             "line": {
              "color": "white",
              "width": 0.5
             },
             "pattern": {
              "fillmode": "overlay",
              "size": 10,
              "solidity": 0.2
             }
            },
            "type": "barpolar"
           }
          ],
          "carpet": [
           {
            "aaxis": {
             "endlinecolor": "#2a3f5f",
             "gridcolor": "#C8D4E3",
             "linecolor": "#C8D4E3",
             "minorgridcolor": "#C8D4E3",
             "startlinecolor": "#2a3f5f"
            },
            "baxis": {
             "endlinecolor": "#2a3f5f",
             "gridcolor": "#C8D4E3",
             "linecolor": "#C8D4E3",
             "minorgridcolor": "#C8D4E3",
             "startlinecolor": "#2a3f5f"
            },
            "type": "carpet"
           }
          ],
          "choropleth": [
           {
            "colorbar": {
             "outlinewidth": 0,
             "ticks": ""
            },
            "type": "choropleth"
           }
          ],
          "contour": [
           {
            "colorbar": {
             "outlinewidth": 0,
             "ticks": ""
            },
            "colorscale": [
             [
              0,
              "#0d0887"
             ],
             [
              0.1111111111111111,
              "#46039f"
             ],
             [
              0.2222222222222222,
              "#7201a8"
             ],
             [
              0.3333333333333333,
              "#9c179e"
             ],
             [
              0.4444444444444444,
              "#bd3786"
             ],
             [
              0.5555555555555556,
              "#d8576b"
             ],
             [
              0.6666666666666666,
              "#ed7953"
             ],
             [
              0.7777777777777778,
              "#fb9f3a"
             ],
             [
              0.8888888888888888,
              "#fdca26"
             ],
             [
              1,
              "#f0f921"
             ]
            ],
            "type": "contour"
           }
          ],
          "contourcarpet": [
           {
            "colorbar": {
             "outlinewidth": 0,
             "ticks": ""
            },
            "type": "contourcarpet"
           }
          ],
          "heatmap": [
           {
            "colorbar": {
             "outlinewidth": 0,
             "ticks": ""
            },
            "colorscale": [
             [
              0,
              "#0d0887"
             ],
             [
              0.1111111111111111,
              "#46039f"
             ],
             [
              0.2222222222222222,
              "#7201a8"
             ],
             [
              0.3333333333333333,
              "#9c179e"
             ],
             [
              0.4444444444444444,
              "#bd3786"
             ],
             [
              0.5555555555555556,
              "#d8576b"
             ],
             [
              0.6666666666666666,
              "#ed7953"
             ],
             [
              0.7777777777777778,
              "#fb9f3a"
             ],
             [
              0.8888888888888888,
              "#fdca26"
             ],
             [
              1,
              "#f0f921"
             ]
            ],
            "type": "heatmap"
           }
          ],
          "heatmapgl": [
           {
            "colorbar": {
             "outlinewidth": 0,
             "ticks": ""
            },
            "colorscale": [
             [
              0,
              "#0d0887"
             ],
             [
              0.1111111111111111,
              "#46039f"
             ],
             [
              0.2222222222222222,
              "#7201a8"
             ],
             [
              0.3333333333333333,
              "#9c179e"
             ],
             [
              0.4444444444444444,
              "#bd3786"
             ],
             [
              0.5555555555555556,
              "#d8576b"
             ],
             [
              0.6666666666666666,
              "#ed7953"
             ],
             [
              0.7777777777777778,
              "#fb9f3a"
             ],
             [
              0.8888888888888888,
              "#fdca26"
             ],
             [
              1,
              "#f0f921"
             ]
            ],
            "type": "heatmapgl"
           }
          ],
          "histogram": [
           {
            "marker": {
             "pattern": {
              "fillmode": "overlay",
              "size": 10,
              "solidity": 0.2
             }
            },
            "type": "histogram"
           }
          ],
          "histogram2d": [
           {
            "colorbar": {
             "outlinewidth": 0,
             "ticks": ""
            },
            "colorscale": [
             [
              0,
              "#0d0887"
             ],
             [
              0.1111111111111111,
              "#46039f"
             ],
             [
              0.2222222222222222,
              "#7201a8"
             ],
             [
              0.3333333333333333,
              "#9c179e"
             ],
             [
              0.4444444444444444,
              "#bd3786"
             ],
             [
              0.5555555555555556,
              "#d8576b"
             ],
             [
              0.6666666666666666,
              "#ed7953"
             ],
             [
              0.7777777777777778,
              "#fb9f3a"
             ],
             [
              0.8888888888888888,
              "#fdca26"
             ],
             [
              1,
              "#f0f921"
             ]
            ],
            "type": "histogram2d"
           }
          ],
          "histogram2dcontour": [
           {
            "colorbar": {
             "outlinewidth": 0,
             "ticks": ""
            },
            "colorscale": [
             [
              0,
              "#0d0887"
             ],
             [
              0.1111111111111111,
              "#46039f"
             ],
             [
              0.2222222222222222,
              "#7201a8"
             ],
             [
              0.3333333333333333,
              "#9c179e"
             ],
             [
              0.4444444444444444,
              "#bd3786"
             ],
             [
              0.5555555555555556,
              "#d8576b"
             ],
             [
              0.6666666666666666,
              "#ed7953"
             ],
             [
              0.7777777777777778,
              "#fb9f3a"
             ],
             [
              0.8888888888888888,
              "#fdca26"
             ],
             [
              1,
              "#f0f921"
             ]
            ],
            "type": "histogram2dcontour"
           }
          ],
          "mesh3d": [
           {
            "colorbar": {
             "outlinewidth": 0,
             "ticks": ""
            },
            "type": "mesh3d"
           }
          ],
          "parcoords": [
           {
            "line": {
             "colorbar": {
              "outlinewidth": 0,
              "ticks": ""
             }
            },
            "type": "parcoords"
           }
          ],
          "pie": [
           {
            "automargin": true,
            "type": "pie"
           }
          ],
          "scatter": [
           {
            "fillpattern": {
             "fillmode": "overlay",
             "size": 10,
             "solidity": 0.2
            },
            "type": "scatter"
           }
          ],
          "scatter3d": [
           {
            "line": {
             "colorbar": {
              "outlinewidth": 0,
              "ticks": ""
             }
            },
            "marker": {
             "colorbar": {
              "outlinewidth": 0,
              "ticks": ""
             }
            },
            "type": "scatter3d"
           }
          ],
          "scattercarpet": [
           {
            "marker": {
             "colorbar": {
              "outlinewidth": 0,
              "ticks": ""
             }
            },
            "type": "scattercarpet"
           }
          ],
          "scattergeo": [
           {
            "marker": {
             "colorbar": {
              "outlinewidth": 0,
              "ticks": ""
             }
            },
            "type": "scattergeo"
           }
          ],
          "scattergl": [
           {
            "marker": {
             "colorbar": {
              "outlinewidth": 0,
              "ticks": ""
             }
            },
            "type": "scattergl"
           }
          ],
          "scattermapbox": [
           {
            "marker": {
             "colorbar": {
              "outlinewidth": 0,
              "ticks": ""
             }
            },
            "type": "scattermapbox"
           }
          ],
          "scatterpolar": [
           {
            "marker": {
             "colorbar": {
              "outlinewidth": 0,
              "ticks": ""
             }
            },
            "type": "scatterpolar"
           }
          ],
          "scatterpolargl": [
           {
            "marker": {
             "colorbar": {
              "outlinewidth": 0,
              "ticks": ""
             }
            },
            "type": "scatterpolargl"
           }
          ],
          "scatterternary": [
           {
            "marker": {
             "colorbar": {
              "outlinewidth": 0,
              "ticks": ""
             }
            },
            "type": "scatterternary"
           }
          ],
          "surface": [
           {
            "colorbar": {
             "outlinewidth": 0,
             "ticks": ""
            },
            "colorscale": [
             [
              0,
              "#0d0887"
             ],
             [
              0.1111111111111111,
              "#46039f"
             ],
             [
              0.2222222222222222,
              "#7201a8"
             ],
             [
              0.3333333333333333,
              "#9c179e"
             ],
             [
              0.4444444444444444,
              "#bd3786"
             ],
             [
              0.5555555555555556,
              "#d8576b"
             ],
             [
              0.6666666666666666,
              "#ed7953"
             ],
             [
              0.7777777777777778,
              "#fb9f3a"
             ],
             [
              0.8888888888888888,
              "#fdca26"
             ],
             [
              1,
              "#f0f921"
             ]
            ],
            "type": "surface"
           }
          ],
          "table": [
           {
            "cells": {
             "fill": {
              "color": "#EBF0F8"
             },
             "line": {
              "color": "white"
             }
            },
            "header": {
             "fill": {
              "color": "#C8D4E3"
             },
             "line": {
              "color": "white"
             }
            },
            "type": "table"
           }
          ]
         },
         "layout": {
          "annotationdefaults": {
           "arrowcolor": "#2a3f5f",
           "arrowhead": 0,
           "arrowwidth": 1
          },
          "autotypenumbers": "strict",
          "coloraxis": {
           "colorbar": {
            "outlinewidth": 0,
            "ticks": ""
           }
          },
          "colorscale": {
           "diverging": [
            [
             0,
             "#8e0152"
            ],
            [
             0.1,
             "#c51b7d"
            ],
            [
             0.2,
             "#de77ae"
            ],
            [
             0.3,
             "#f1b6da"
            ],
            [
             0.4,
             "#fde0ef"
            ],
            [
             0.5,
             "#f7f7f7"
            ],
            [
             0.6,
             "#e6f5d0"
            ],
            [
             0.7,
             "#b8e186"
            ],
            [
             0.8,
             "#7fbc41"
            ],
            [
             0.9,
             "#4d9221"
            ],
            [
             1,
             "#276419"
            ]
           ],
           "sequential": [
            [
             0,
             "#0d0887"
            ],
            [
             0.1111111111111111,
             "#46039f"
            ],
            [
             0.2222222222222222,
             "#7201a8"
            ],
            [
             0.3333333333333333,
             "#9c179e"
            ],
            [
             0.4444444444444444,
             "#bd3786"
            ],
            [
             0.5555555555555556,
             "#d8576b"
            ],
            [
             0.6666666666666666,
             "#ed7953"
            ],
            [
             0.7777777777777778,
             "#fb9f3a"
            ],
            [
             0.8888888888888888,
             "#fdca26"
            ],
            [
             1,
             "#f0f921"
            ]
           ],
           "sequentialminus": [
            [
             0,
             "#0d0887"
            ],
            [
             0.1111111111111111,
             "#46039f"
            ],
            [
             0.2222222222222222,
             "#7201a8"
            ],
            [
             0.3333333333333333,
             "#9c179e"
            ],
            [
             0.4444444444444444,
             "#bd3786"
            ],
            [
             0.5555555555555556,
             "#d8576b"
            ],
            [
             0.6666666666666666,
             "#ed7953"
            ],
            [
             0.7777777777777778,
             "#fb9f3a"
            ],
            [
             0.8888888888888888,
             "#fdca26"
            ],
            [
             1,
             "#f0f921"
            ]
           ]
          },
          "colorway": [
           "#636efa",
           "#EF553B",
           "#00cc96",
           "#ab63fa",
           "#FFA15A",
           "#19d3f3",
           "#FF6692",
           "#B6E880",
           "#FF97FF",
           "#FECB52"
          ],
          "font": {
           "color": "#2a3f5f"
          },
          "geo": {
           "bgcolor": "white",
           "lakecolor": "white",
           "landcolor": "white",
           "showlakes": true,
           "showland": true,
           "subunitcolor": "#C8D4E3"
          },
          "hoverlabel": {
           "align": "left"
          },
          "hovermode": "closest",
          "mapbox": {
           "style": "light"
          },
          "paper_bgcolor": "white",
          "plot_bgcolor": "white",
          "polar": {
           "angularaxis": {
            "gridcolor": "#EBF0F8",
            "linecolor": "#EBF0F8",
            "ticks": ""
           },
           "bgcolor": "white",
           "radialaxis": {
            "gridcolor": "#EBF0F8",
            "linecolor": "#EBF0F8",
            "ticks": ""
           }
          },
          "scene": {
           "xaxis": {
            "backgroundcolor": "white",
            "gridcolor": "#DFE8F3",
            "gridwidth": 2,
            "linecolor": "#EBF0F8",
            "showbackground": true,
            "ticks": "",
            "zerolinecolor": "#EBF0F8"
           },
           "yaxis": {
            "backgroundcolor": "white",
            "gridcolor": "#DFE8F3",
            "gridwidth": 2,
            "linecolor": "#EBF0F8",
            "showbackground": true,
            "ticks": "",
            "zerolinecolor": "#EBF0F8"
           },
           "zaxis": {
            "backgroundcolor": "white",
            "gridcolor": "#DFE8F3",
            "gridwidth": 2,
            "linecolor": "#EBF0F8",
            "showbackground": true,
            "ticks": "",
            "zerolinecolor": "#EBF0F8"
           }
          },
          "shapedefaults": {
           "line": {
            "color": "#2a3f5f"
           }
          },
          "ternary": {
           "aaxis": {
            "gridcolor": "#DFE8F3",
            "linecolor": "#A2B1C6",
            "ticks": ""
           },
           "baxis": {
            "gridcolor": "#DFE8F3",
            "linecolor": "#A2B1C6",
            "ticks": ""
           },
           "bgcolor": "white",
           "caxis": {
            "gridcolor": "#DFE8F3",
            "linecolor": "#A2B1C6",
            "ticks": ""
           }
          },
          "title": {
           "x": 0.05
          },
          "xaxis": {
           "automargin": true,
           "gridcolor": "#EBF0F8",
           "linecolor": "#EBF0F8",
           "ticks": "",
           "title": {
            "standoff": 15
           },
           "zerolinecolor": "#EBF0F8",
           "zerolinewidth": 2
          },
          "yaxis": {
           "automargin": true,
           "gridcolor": "#EBF0F8",
           "linecolor": "#EBF0F8",
           "ticks": "",
           "title": {
            "standoff": 15
           },
           "zerolinecolor": "#EBF0F8",
           "zerolinewidth": 2
          }
         }
        },
        "title": {
         "text": "Distribution of gender"
        }
       }
      },
      "image/png": "[encoded data removed]",
      "text/html": [
       "<div>                            <div id=\"aaff8a7f-287a-4a5d-a590-7f5b6a734aab\" class=\"plotly-graph-div\" style=\"height:525px; width:100%;\"></div>            <script type=\"text/javascript\">                require([\"plotly\"], function(Plotly) {                    window.PLOTLYENV=window.PLOTLYENV || {};                                    if (document.getElementById(\"aaff8a7f-287a-4a5d-a590-7f5b6a734aab\")) {                    Plotly.newPlot(                        \"aaff8a7f-287a-4a5d-a590-7f5b6a734aab\",                        [{\"domain\":{\"x\":[0.0,1.0],\"y\":[0.0,1.0]},\"hole\":0.4,\"hovertemplate\":\"Gender=%{value}<extra></extra>\",\"labels\":[54.0,46.0],\"legendgroup\":\"\",\"name\":\"\",\"showlegend\":true,\"values\":[54.0,46.0],\"type\":\"pie\",\"title\":{\"font\":{\"color\":\"darkred\",\"family\":\"Verdana\",\"size\":60}},\"textfont\":{\"size\":20},\"hoverinfo\":\"label+percent\",\"textinfo\":\"percent\"}],                        {\"template\":{\"data\":{\"histogram2dcontour\":[{\"type\":\"histogram2dcontour\",\"colorbar\":{\"outlinewidth\":0,\"ticks\":\"\"},\"colorscale\":[[0.0,\"#0d0887\"],[0.1111111111111111,\"#46039f\"],[0.2222222222222222,\"#7201a8\"],[0.3333333333333333,\"#9c179e\"],[0.4444444444444444,\"#bd3786\"],[0.5555555555555556,\"#d8576b\"],[0.6666666666666666,\"#ed7953\"],[0.7777777777777778,\"#fb9f3a\"],[0.8888888888888888,\"#fdca26\"],[1.0,\"#f0f921\"]]}],\"choropleth\":[{\"type\":\"choropleth\",\"colorbar\":{\"outlinewidth\":0,\"ticks\":\"\"}}],\"histogram2d\":[{\"type\":\"histogram2d\",\"colorbar\":{\"outlinewidth\":0,\"ticks\":\"\"},\"colorscale\":[[0.0,\"#0d0887\"],[0.1111111111111111,\"#46039f\"],[0.2222222222222222,\"#7201a8\"],[0.3333333333333333,\"#9c179e\"],[0.4444444444444444,\"#bd3786\"],[0.5555555555555556,\"#d8576b\"],[0.6666666666666666,\"#ed7953\"],[0.7777777777777778,\"#fb9f3a\"],[0.8888888888888888,\"#fdca26\"],[1.0,\"#f0f921\"]]}],\"heatmap\":[{\"type\":\"heatmap\",\"colorbar\":{\"outlinewidth\":0,\"ticks\":\"\"},\"colorscale\":[[0.0,\"#0d0887\"],[0.1111111111111111,\"#46039f\"],[0.2222222222222222,\"#7201a8\"],[0.3333333333333333,\"#9c179e\"],[0.4444444444444444,\"#bd3786\"],[0.5555555555555556,\"#d8576b\"],[0.6666666666666666,\"#ed7953\"],[0.7777777777777778,\"#fb9f3a\"],[0.8888888888888888,\"#fdca26\"],[1.0,\"#f0f921\"]]}],\"heatmapgl\":[{\"type\":\"heatmapgl\",\"colorbar\":{\"outlinewidth\":0,\"ticks\":\"\"},\"colorscale\":[[0.0,\"#0d0887\"],[0.1111111111111111,\"#46039f\"],[0.2222222222222222,\"#7201a8\"],[0.3333333333333333,\"#9c179e\"],[0.4444444444444444,\"#bd3786\"],[0.5555555555555556,\"#d8576b\"],[0.6666666666666666,\"#ed7953\"],[0.7777777777777778,\"#fb9f3a\"],[0.8888888888888888,\"#fdca26\"],[1.0,\"#f0f921\"]]}],\"contourcarpet\":[{\"type\":\"contourcarpet\",\"colorbar\":{\"outlinewidth\":0,\"ticks\":\"\"}}],\"contour\":[{\"type\":\"contour\",\"colorbar\":{\"outlinewidth\":0,\"ticks\":\"\"},\"colorscale\":[[0.0,\"#0d0887\"],[0.1111111111111111,\"#46039f\"],[0.2222222222222222,\"#7201a8\"],[0.3333333333333333,\"#9c179e\"],[0.4444444444444444,\"#bd3786\"],[0.5555555555555556,\"#d8576b\"],[0.6666666666666666,\"#ed7953\"],[0.7777777777777778,\"#fb9f3a\"],[0.8888888888888888,\"#fdca26\"],[1.0,\"#f0f921\"]]}],\"surface\":[{\"type\":\"surface\",\"colorbar\":{\"outlinewidth\":0,\"ticks\":\"\"},\"colorscale\":[[0.0,\"#0d0887\"],[0.1111111111111111,\"#46039f\"],[0.2222222222222222,\"#7201a8\"],[0.3333333333333333,\"#9c179e\"],[0.4444444444444444,\"#bd3786\"],[0.5555555555555556,\"#d8576b\"],[0.6666666666666666,\"#ed7953\"],[0.7777777777777778,\"#fb9f3a\"],[0.8888888888888888,\"#fdca26\"],[1.0,\"#f0f921\"]]}],\"mesh3d\":[{\"type\":\"mesh3d\",\"colorbar\":{\"outlinewidth\":0,\"ticks\":\"\"}}],\"scatter\":[{\"fillpattern\":{\"fillmode\":\"overlay\",\"size\":10,\"solidity\":0.2},\"type\":\"scatter\"}],\"parcoords\":[{\"type\":\"parcoords\",\"line\":{\"colorbar\":{\"outlinewidth\":0,\"ticks\":\"\"}}}],\"scatterpolargl\":[{\"type\":\"scatterpolargl\",\"marker\":{\"colorbar\":{\"outlinewidth\":0,\"ticks\":\"\"}}}],\"bar\":[{\"error_x\":{\"color\":\"#2a3f5f\"},\"error_y\":{\"color\":\"#2a3f5f\"},\"marker\":{\"line\":{\"color\":\"white\",\"width\":0.5},\"pattern\":{\"fillmode\":\"overlay\",\"size\":10,\"solidity\":0.2}},\"type\":\"bar\"}],\"scattergeo\":[{\"type\":\"scattergeo\",\"marker\":{\"colorbar\":{\"outlinewidth\":0,\"ticks\":\"\"}}}],\"scatterpolar\":[{\"type\":\"scatterpolar\",\"marker\":{\"colorbar\":{\"outlinewidth\":0,\"ticks\":\"\"}}}],\"histogram\":[{\"marker\":{\"pattern\":{\"fillmode\":\"overlay\",\"size\":10,\"solidity\":0.2}},\"type\":\"histogram\"}],\"scattergl\":[{\"type\":\"scattergl\",\"marker\":{\"colorbar\":{\"outlinewidth\":0,\"ticks\":\"\"}}}],\"scatter3d\":[{\"type\":\"scatter3d\",\"line\":{\"colorbar\":{\"outlinewidth\":0,\"ticks\":\"\"}},\"marker\":{\"colorbar\":{\"outlinewidth\":0,\"ticks\":\"\"}}}],\"scattermapbox\":[{\"type\":\"scattermapbox\",\"marker\":{\"colorbar\":{\"outlinewidth\":0,\"ticks\":\"\"}}}],\"scatterternary\":[{\"type\":\"scatterternary\",\"marker\":{\"colorbar\":{\"outlinewidth\":0,\"ticks\":\"\"}}}],\"scattercarpet\":[{\"type\":\"scattercarpet\",\"marker\":{\"colorbar\":{\"outlinewidth\":0,\"ticks\":\"\"}}}],\"carpet\":[{\"aaxis\":{\"endlinecolor\":\"#2a3f5f\",\"gridcolor\":\"#C8D4E3\",\"linecolor\":\"#C8D4E3\",\"minorgridcolor\":\"#C8D4E3\",\"startlinecolor\":\"#2a3f5f\"},\"baxis\":{\"endlinecolor\":\"#2a3f5f\",\"gridcolor\":\"#C8D4E3\",\"linecolor\":\"#C8D4E3\",\"minorgridcolor\":\"#C8D4E3\",\"startlinecolor\":\"#2a3f5f\"},\"type\":\"carpet\"}],\"table\":[{\"cells\":{\"fill\":{\"color\":\"#EBF0F8\"},\"line\":{\"color\":\"white\"}},\"header\":{\"fill\":{\"color\":\"#C8D4E3\"},\"line\":{\"color\":\"white\"}},\"type\":\"table\"}],\"barpolar\":[{\"marker\":{\"line\":{\"color\":\"white\",\"width\":0.5},\"pattern\":{\"fillmode\":\"overlay\",\"size\":10,\"solidity\":0.2}},\"type\":\"barpolar\"}],\"pie\":[{\"automargin\":true,\"type\":\"pie\"}]},\"layout\":{\"autotypenumbers\":\"strict\",\"colorway\":[\"#636efa\",\"#EF553B\",\"#00cc96\",\"#ab63fa\",\"#FFA15A\",\"#19d3f3\",\"#FF6692\",\"#B6E880\",\"#FF97FF\",\"#FECB52\"],\"font\":{\"color\":\"#2a3f5f\"},\"hovermode\":\"closest\",\"hoverlabel\":{\"align\":\"left\"},\"paper_bgcolor\":\"white\",\"plot_bgcolor\":\"white\",\"polar\":{\"bgcolor\":\"white\",\"angularaxis\":{\"gridcolor\":\"#EBF0F8\",\"linecolor\":\"#EBF0F8\",\"ticks\":\"\"},\"radialaxis\":{\"gridcolor\":\"#EBF0F8\",\"linecolor\":\"#EBF0F8\",\"ticks\":\"\"}},\"ternary\":{\"bgcolor\":\"white\",\"aaxis\":{\"gridcolor\":\"#DFE8F3\",\"linecolor\":\"#A2B1C6\",\"ticks\":\"\"},\"baxis\":{\"gridcolor\":\"#DFE8F3\",\"linecolor\":\"#A2B1C6\",\"ticks\":\"\"},\"caxis\":{\"gridcolor\":\"#DFE8F3\",\"linecolor\":\"#A2B1C6\",\"ticks\":\"\"}},\"coloraxis\":{\"colorbar\":{\"outlinewidth\":0,\"ticks\":\"\"}},\"colorscale\":{\"sequential\":[[0.0,\"#0d0887\"],[0.1111111111111111,\"#46039f\"],[0.2222222222222222,\"#7201a8\"],[0.3333333333333333,\"#9c179e\"],[0.4444444444444444,\"#bd3786\"],[0.5555555555555556,\"#d8576b\"],[0.6666666666666666,\"#ed7953\"],[0.7777777777777778,\"#fb9f3a\"],[0.8888888888888888,\"#fdca26\"],[1.0,\"#f0f921\"]],\"sequentialminus\":[[0.0,\"#0d0887\"],[0.1111111111111111,\"#46039f\"],[0.2222222222222222,\"#7201a8\"],[0.3333333333333333,\"#9c179e\"],[0.4444444444444444,\"#bd3786\"],[0.5555555555555556,\"#d8576b\"],[0.6666666666666666,\"#ed7953\"],[0.7777777777777778,\"#fb9f3a\"],[0.8888888888888888,\"#fdca26\"],[1.0,\"#f0f921\"]],\"diverging\":[[0,\"#8e0152\"],[0.1,\"#c51b7d\"],[0.2,\"#de77ae\"],[0.3,\"#f1b6da\"],[0.4,\"#fde0ef\"],[0.5,\"#f7f7f7\"],[0.6,\"#e6f5d0\"],[0.7,\"#b8e186\"],[0.8,\"#7fbc41\"],[0.9,\"#4d9221\"],[1,\"#276419\"]]},\"xaxis\":{\"gridcolor\":\"#EBF0F8\",\"linecolor\":\"#EBF0F8\",\"ticks\":\"\",\"title\":{\"standoff\":15},\"zerolinecolor\":\"#EBF0F8\",\"automargin\":true,\"zerolinewidth\":2},\"yaxis\":{\"gridcolor\":\"#EBF0F8\",\"linecolor\":\"#EBF0F8\",\"ticks\":\"\",\"title\":{\"standoff\":15},\"zerolinecolor\":\"#EBF0F8\",\"automargin\":true,\"zerolinewidth\":2},\"scene\":{\"xaxis\":{\"backgroundcolor\":\"white\",\"gridcolor\":\"#DFE8F3\",\"linecolor\":\"#EBF0F8\",\"showbackground\":true,\"ticks\":\"\",\"zerolinecolor\":\"#EBF0F8\",\"gridwidth\":2},\"yaxis\":{\"backgroundcolor\":\"white\",\"gridcolor\":\"#DFE8F3\",\"linecolor\":\"#EBF0F8\",\"showbackground\":true,\"ticks\":\"\",\"zerolinecolor\":\"#EBF0F8\",\"gridwidth\":2},\"zaxis\":{\"backgroundcolor\":\"white\",\"gridcolor\":\"#DFE8F3\",\"linecolor\":\"#EBF0F8\",\"showbackground\":true,\"ticks\":\"\",\"zerolinecolor\":\"#EBF0F8\",\"gridwidth\":2}},\"shapedefaults\":{\"line\":{\"color\":\"#2a3f5f\"}},\"annotationdefaults\":{\"arrowcolor\":\"#2a3f5f\",\"arrowhead\":0,\"arrowwidth\":1},\"geo\":{\"bgcolor\":\"white\",\"landcolor\":\"white\",\"subunitcolor\":\"#C8D4E3\",\"showland\":true,\"showlakes\":true,\"lakecolor\":\"white\"},\"title\":{\"x\":0.05},\"mapbox\":{\"style\":\"light\"}}},\"legend\":{\"tracegroupgap\":0},\"title\":{\"text\":\"Distribution of gender\"}},                        {\"responsive\": true}                    ).then(function(){\n",
       "                            \n",
       "var gd = document.getElementById('aaff8a7f-287a-4a5d-a590-7f5b6a734aab');\n",
       "var x = new MutationObserver(function (mutations, observer) {{\n",
       "        var display = window.getComputedStyle(gd).display;\n",
       "        if (!display || display === 'none') {{\n",
       "            console.log([gd, 'removed!']);\n",
       "            Plotly.purge(gd);\n",
       "            observer.disconnect();\n",
       "        }}\n",
       "}});\n",
       "\n",
       "// Listen for the removal of the full notebook cells\n",
       "var notebookContainer = gd.closest('#notebook-container');\n",
       "if (notebookContainer) {{\n",
       "    x.observe(notebookContainer, {childList: true});\n",
       "}}\n",
       "\n",
       "// Listen for the clearing of the current output cell\n",
       "var outputEl = gd.closest('.output');\n",
       "if (outputEl) {{\n",
       "    x.observe(outputEl, {childList: true});\n",
       "}}\n",
       "\n",
       "                        })                };                });            </script>        </div>"
      ]
     },
     "metadata": {},
     "output_type": "display_data"
    }
   ],
   "source": [
    "gender_dis = round(df['Gender'].value_counts(normalize=True)*100)\n",
    "fig_gender = px.pie(gender_dis, values='Gender', names='Gender', title='Distribution of gender', hole=0.4)\n",
    "fig_gender.update_traces(\n",
    "                   title_font = dict(size=60,family='Verdana', \n",
    "                                     color='darkred'),\n",
    "                   hoverinfo='label+percent',\n",
    "                    #label='Male','Female'\n",
    "                   textinfo='percent', textfont_size=20)\n",
    "fig_gender.show()"
   ]
  },
  {
   "cell_type": "code",
   "execution_count": 24,
   "id": "ca5b8790-4d71-4556-81ff-883b15d4f23a",
   "metadata": {},
   "outputs": [
    {
     "data": {
      "application/vnd.plotly.v1+json": {
       "config": {
        "plotlyServerURL": "https://plot.ly"
       },
       "data": [
        {
         "alignmentgroup": "True",
         "bingroup": "x",
         "histfunc": "sum",
         "hovertemplate": "Service=%{x}<br>sum of Likes=%{y}<extra></extra>",
         "legendgroup": "Kaafiye",
         "marker": {
          "color": "#636efa",
          "pattern": {
           "shape": ""
          }
         },
         "name": "Kaafiye",
         "offsetgroup": "Kaafiye",
         "orientation": "v",
         "showlegend": true,
         "type": "histogram",
         "x": [
          "Kaafiye",
          "Kaafiye",
          "Kaafiye",
          "Kaafiye",
          "Kaafiye",
          "Kaafiye",
          "Kaafiye",
          "Kaafiye",
          "Kaafiye",
          "Kaafiye",
          "Kaafiye",
          "Kaafiye",
          "Kaafiye",
          "Kaafiye",
          "Kaafiye",
          "Kaafiye",
          "Kaafiye",
          "Kaafiye",
          "Kaafiye",
          "Kaafiye",
          "Kaafiye",
          "Kaafiye",
          "Kaafiye",
          "Kaafiye",
          "Kaafiye",
          "Kaafiye",
          "Kaafiye",
          "Kaafiye",
          "Kaafiye",
          "Kaafiye",
          "Kaafiye",
          "Kaafiye",
          "Kaafiye",
          "Kaafiye",
          "Kaafiye",
          "Kaafiye",
          "Kaafiye",
          "Kaafiye",
          "Kaafiye",
          "Kaafiye",
          "Kaafiye",
          "Kaafiye",
          "Kaafiye",
          "Kaafiye",
          "Kaafiye",
          "Kaafiye",
          "Kaafiye",
          "Kaafiye",
          "Kaafiye",
          "Kaafiye",
          "Kaafiye",
          "Kaafiye",
          "Kaafiye",
          "Kaafiye",
          "Kaafiye",
          "Kaafiye",
          "Kaafiye",
          "Kaafiye",
          "Kaafiye",
          "Kaafiye",
          "Kaafiye",
          "Kaafiye",
          "Kaafiye",
          "Kaafiye",
          "Kaafiye",
          "Kaafiye",
          "Kaafiye",
          "Kaafiye",
          "Kaafiye",
          "Kaafiye",
          "Kaafiye",
          "Kaafiye",
          "Kaafiye",
          "Kaafiye",
          "Kaafiye",
          "Kaafiye",
          "Kaafiye",
          "Kaafiye",
          "Kaafiye",
          "Kaafiye",
          "Kaafiye",
          "Kaafiye",
          "Kaafiye",
          "Kaafiye",
          "Kaafiye",
          "Kaafiye"
         ],
         "xaxis": "x",
         "y": [
          1200,
          3553,
          307,
          728,
          3048,
          3454,
          1257,
          4029,
          3038,
          1884,
          1594,
          1098,
          4469,
          3813,
          1671,
          1041,
          1501,
          134,
          759,
          1356,
          3553,
          3479,
          667,
          4342,
          2011,
          3640,
          1401,
          1577,
          1027,
          3496,
          2025,
          3620,
          543,
          3978,
          4020,
          2292,
          3129,
          3675,
          3323,
          627,
          1281,
          4144,
          137,
          2240,
          3903,
          2317,
          1403,
          1705,
          4500,
          3724,
          326,
          3884,
          3295,
          3710,
          1705,
          4500,
          3724,
          326,
          1705,
          4500,
          3724,
          1705,
          4500,
          3724,
          1705,
          4500,
          3724,
          1705,
          4500,
          3724,
          1705,
          4500,
          3724,
          1705,
          4500,
          3724,
          1705,
          4500,
          3724,
          1705,
          4500,
          3724,
          1705,
          4500,
          3724,
          326
         ],
         "yaxis": "y"
        },
        {
         "alignmentgroup": "True",
         "bingroup": "x",
         "histfunc": "sum",
         "hovertemplate": "Service=%{x}<br>sum of Likes=%{y}<extra></extra>",
         "legendgroup": "Waafi",
         "marker": {
          "color": "#EF553B",
          "pattern": {
           "shape": ""
          }
         },
         "name": "Waafi",
         "offsetgroup": "Waafi",
         "orientation": "v",
         "showlegend": true,
         "type": "histogram",
         "x": [
          "Waafi",
          "Waafi",
          "Waafi",
          "Waafi",
          "Waafi",
          "Waafi",
          "Waafi",
          "Waafi",
          "Waafi",
          "Waafi",
          "Waafi",
          "Waafi",
          "Waafi",
          "Waafi",
          "Waafi",
          "Waafi",
          "Waafi",
          "Waafi",
          "Waafi",
          "Waafi",
          "Waafi",
          "Waafi",
          "Waafi",
          "Waafi",
          "Waafi",
          "Waafi",
          "Waafi",
          "Waafi",
          "Waafi",
          "Waafi",
          "Waafi",
          "Waafi",
          "Waafi",
          "Waafi",
          "Waafi",
          "Waafi",
          "Waafi",
          "Waafi",
          "Waafi",
          "Waafi",
          "Waafi",
          "Waafi",
          "Waafi",
          "Waafi",
          "Waafi",
          "Waafi",
          "Waafi",
          "Waafi",
          "Waafi",
          "Waafi",
          "Waafi",
          "Waafi",
          "Waafi",
          "Waafi",
          "Waafi",
          "Waafi",
          "Waafi",
          "Waafi",
          "Waafi",
          "Waafi",
          "Waafi",
          "Waafi",
          "Waafi",
          "Waafi",
          "Waafi",
          "Waafi",
          "Waafi",
          "Waafi",
          "Waafi",
          "Waafi",
          "Waafi",
          "Waafi",
          "Waafi",
          "Waafi",
          "Waafi",
          "Waafi",
          "Waafi",
          "Waafi",
          "Waafi",
          "Waafi",
          "Waafi",
          "Waafi",
          "Waafi",
          "Waafi"
         ],
         "xaxis": "x",
         "y": [
          2500,
          306,
          1518,
          3391,
          4296,
          2088,
          2176,
          4074,
          3829,
          1881,
          2104,
          2631,
          507,
          3031,
          2892,
          1352,
          3285,
          3322,
          2478,
          2206,
          3408,
          3655,
          3682,
          3480,
          4079,
          3649,
          2737,
          651,
          3254,
          1225,
          2274,
          1790,
          3592,
          1350,
          226,
          3329,
          2110,
          1000,
          1300,
          4420,
          3214,
          2860,
          2098,
          4287,
          3418,
          3121,
          2301,
          3368,
          3818,
          2991,
          185,
          1297,
          2584,
          3210,
          3368,
          3818,
          2991,
          3368,
          3818,
          2991,
          3368,
          3818,
          2991,
          3368,
          3818,
          2991,
          3368,
          3818,
          2991,
          3368,
          3818,
          2991,
          3368,
          3818,
          2991,
          3368,
          3818,
          2991,
          3368,
          3818,
          2991,
          3368,
          3818,
          2991
         ],
         "yaxis": "y"
        },
        {
         "alignmentgroup": "True",
         "bingroup": "x",
         "histfunc": "sum",
         "hovertemplate": "Service=%{x}<br>sum of Likes=%{y}<extra></extra>",
         "legendgroup": "Internet",
         "marker": {
          "color": "#00cc96",
          "pattern": {
           "shape": ""
          }
         },
         "name": "Internet",
         "offsetgroup": "Internet",
         "orientation": "v",
         "showlegend": true,
         "type": "histogram",
         "x": [
          "Internet",
          "Internet",
          "Internet",
          "Internet",
          "Internet",
          "Internet",
          "Internet",
          "Internet",
          "Internet",
          "Internet",
          "Internet",
          "Internet",
          "Internet",
          "Internet",
          "Internet",
          "Internet",
          "Internet",
          "Internet",
          "Internet",
          "Internet",
          "Internet",
          "Internet",
          "Internet",
          "Internet",
          "Internet",
          "Internet",
          "Internet",
          "Internet",
          "Internet",
          "Internet",
          "Internet",
          "Internet",
          "Internet",
          "Internet",
          "Internet",
          "Internet",
          "Internet",
          "Internet",
          "Internet",
          "Internet",
          "Internet",
          "Internet",
          "Internet",
          "Internet",
          "Internet",
          "Internet",
          "Internet",
          "Internet",
          "Internet",
          "Internet",
          "Internet",
          "Internet",
          "Internet",
          "Internet",
          "Internet",
          "Internet",
          "Internet",
          "Internet",
          "Internet",
          "Internet",
          "Internet",
          "Internet",
          "Internet",
          "Internet",
          "Internet",
          "Internet",
          "Internet",
          "Internet",
          "Internet",
          "Internet",
          "Internet",
          "Internet",
          "Internet",
          "Internet",
          "Internet",
          "Internet",
          "Internet",
          "Internet",
          "Internet",
          "Internet",
          "Internet",
          "Internet",
          "Internet",
          "Internet",
          "Internet",
          "Internet",
          "Internet",
          "Internet",
          "Internet",
          "Internet",
          "Internet",
          "Internet",
          "Internet"
         ],
         "xaxis": "x",
         "y": [
          850,
          1547,
          1109,
          2936,
          1433,
          549,
          3375,
          1132,
          1470,
          324,
          1795,
          1090,
          3241,
          2909,
          229,
          4100,
          4038,
          349,
          1575,
          1194,
          966,
          312,
          3065,
          619,
          3600,
          1726,
          2876,
          1669,
          3597,
          1054,
          2006,
          241,
          1339,
          4063,
          3553,
          4409,
          4432,
          3380,
          1011,
          3729,
          3852,
          3302,
          977,
          2664,
          357,
          2841,
          3502,
          3814,
          3022,
          1695,
          315,
          2406,
          371,
          3841,
          3502,
          3814,
          3022,
          1695,
          3502,
          3814,
          3022,
          3502,
          3814,
          3022,
          1695,
          3502,
          3814,
          3022,
          1695,
          3502,
          3814,
          3022,
          1695,
          3502,
          3814,
          3022,
          1695,
          3502,
          3814,
          3022,
          1695,
          3502,
          3814,
          3022,
          1695,
          3502,
          3814,
          3022,
          1695,
          3502,
          3814,
          3022,
          1695
         ],
         "yaxis": "y"
        },
        {
         "alignmentgroup": "True",
         "bingroup": "x",
         "histfunc": "sum",
         "hovertemplate": "Service=%{x}<br>sum of Likes=%{y}<extra></extra>",
         "legendgroup": "Aqoonmaal",
         "marker": {
          "color": "#ab63fa",
          "pattern": {
           "shape": ""
          }
         },
         "name": "Aqoonmaal",
         "offsetgroup": "Aqoonmaal",
         "orientation": "v",
         "showlegend": true,
         "type": "histogram",
         "x": [
          "Aqoonmaal",
          "Aqoonmaal",
          "Aqoonmaal",
          "Aqoonmaal",
          "Aqoonmaal",
          "Aqoonmaal",
          "Aqoonmaal",
          "Aqoonmaal",
          "Aqoonmaal",
          "Aqoonmaal",
          "Aqoonmaal",
          "Aqoonmaal",
          "Aqoonmaal",
          "Aqoonmaal",
          "Aqoonmaal",
          "Aqoonmaal",
          "Aqoonmaal",
          "Aqoonmaal",
          "Aqoonmaal",
          "Aqoonmaal",
          "Aqoonmaal",
          "Aqoonmaal",
          "Aqoonmaal",
          "Aqoonmaal",
          "Aqoonmaal",
          "Aqoonmaal",
          "Aqoonmaal",
          "Aqoonmaal",
          "Aqoonmaal",
          "Aqoonmaal",
          "Aqoonmaal",
          "Aqoonmaal",
          "Aqoonmaal",
          "Aqoonmaal",
          "Aqoonmaal",
          "Aqoonmaal",
          "Aqoonmaal",
          "Aqoonmaal",
          "Aqoonmaal",
          "Aqoonmaal",
          "Aqoonmaal",
          "Aqoonmaal",
          "Aqoonmaal",
          "Aqoonmaal",
          "Aqoonmaal",
          "Aqoonmaal",
          "Aqoonmaal",
          "Aqoonmaal",
          "Aqoonmaal",
          "Aqoonmaal",
          "Aqoonmaal",
          "Aqoonmaal",
          "Aqoonmaal",
          "Aqoonmaal",
          "Aqoonmaal",
          "Aqoonmaal",
          "Aqoonmaal",
          "Aqoonmaal",
          "Aqoonmaal",
          "Aqoonmaal",
          "Aqoonmaal",
          "Aqoonmaal",
          "Aqoonmaal",
          "Aqoonmaal",
          "Aqoonmaal",
          "Aqoonmaal",
          "Aqoonmaal",
          "Aqoonmaal",
          "Aqoonmaal",
          "Aqoonmaal",
          "Aqoonmaal",
          "Aqoonmaal",
          "Aqoonmaal",
          "Aqoonmaal",
          "Aqoonmaal",
          "Aqoonmaal",
          "Aqoonmaal",
          "Aqoonmaal",
          "Aqoonmaal",
          "Aqoonmaal",
          "Aqoonmaal",
          "Aqoonmaal",
          "Aqoonmaal",
          "Aqoonmaal",
          "Aqoonmaal",
          "Aqoonmaal",
          "Aqoonmaal",
          "Aqoonmaal",
          "Aqoonmaal",
          "Aqoonmaal",
          "Aqoonmaal",
          "Aqoonmaal",
          "Aqoonmaal",
          "Aqoonmaal",
          "Aqoonmaal",
          "Aqoonmaal",
          "Aqoonmaal",
          "Aqoonmaal",
          "Aqoonmaal",
          "Aqoonmaal",
          "Aqoonmaal",
          "Aqoonmaal",
          "Aqoonmaal",
          "Aqoonmaal",
          "Aqoonmaal",
          "Aqoonmaal",
          "Aqoonmaal",
          "Aqoonmaal",
          "Aqoonmaal",
          "Aqoonmaal",
          "Aqoonmaal",
          "Aqoonmaal",
          "Aqoonmaal",
          "Aqoonmaal"
         ],
         "xaxis": "x",
         "y": [
          920,
          4052,
          1531,
          974,
          1498,
          4027,
          3435,
          4447,
          2255,
          4373,
          1325,
          413,
          4319,
          616,
          1560,
          1849,
          2724,
          446,
          733,
          2147,
          3341,
          2615,
          1754,
          3245,
          626,
          1728,
          3170,
          565,
          2423,
          953,
          3251,
          4113,
          3075,
          3222,
          3955,
          610,
          558,
          1709,
          1265,
          1620,
          3799,
          1728,
          1643,
          596,
          750,
          1898,
          2592,
          4465,
          3402,
          806,
          1893,
          3934,
          1578,
          590,
          3609,
          3395,
          750,
          1898,
          2592,
          4465,
          3402,
          806,
          750,
          1898,
          2592,
          4465,
          3402,
          750,
          1898,
          2592,
          4465,
          3402,
          750,
          1898,
          2592,
          4465,
          3402,
          806,
          750,
          1898,
          2592,
          4465,
          3402,
          806,
          750,
          1898,
          2592,
          4465,
          3402,
          806,
          750,
          1898,
          2592,
          4465,
          3402,
          806,
          750,
          1898,
          2592,
          4465,
          3402,
          806,
          750,
          1898,
          2592,
          4465,
          3402,
          806,
          750,
          1898,
          2592,
          4465,
          3402,
          806
         ],
         "yaxis": "y"
        },
        {
         "alignmentgroup": "True",
         "bingroup": "x",
         "histfunc": "sum",
         "hovertemplate": "Service=%{x}<br>sum of Likes=%{y}<extra></extra>",
         "legendgroup": "Mushaax",
         "marker": {
          "color": "#FFA15A",
          "pattern": {
           "shape": ""
          }
         },
         "name": "Mushaax",
         "offsetgroup": "Mushaax",
         "orientation": "v",
         "showlegend": true,
         "type": "histogram",
         "x": [
          "Mushaax",
          "Mushaax",
          "Mushaax",
          "Mushaax",
          "Mushaax",
          "Mushaax",
          "Mushaax",
          "Mushaax",
          "Mushaax",
          "Mushaax",
          "Mushaax",
          "Mushaax",
          "Mushaax",
          "Mushaax",
          "Mushaax",
          "Mushaax",
          "Mushaax",
          "Mushaax",
          "Mushaax",
          "Mushaax",
          "Mushaax",
          "Mushaax",
          "Mushaax",
          "Mushaax",
          "Mushaax",
          "Mushaax",
          "Mushaax",
          "Mushaax",
          "Mushaax",
          "Mushaax",
          "Mushaax",
          "Mushaax",
          "Mushaax",
          "Mushaax",
          "Mushaax",
          "Mushaax",
          "Mushaax",
          "Mushaax",
          "Mushaax",
          "Mushaax",
          "Mushaax",
          "Mushaax",
          "Mushaax",
          "Mushaax",
          "Mushaax",
          "Mushaax",
          "Mushaax",
          "Mushaax",
          "Mushaax",
          "Mushaax",
          "Mushaax",
          "Mushaax",
          "Mushaax",
          "Mushaax",
          "Mushaax",
          "Mushaax",
          "Mushaax",
          "Mushaax",
          "Mushaax",
          "Mushaax",
          "Mushaax",
          "Mushaax",
          "Mushaax",
          "Mushaax",
          "Mushaax",
          "Mushaax",
          "Mushaax",
          "Mushaax",
          "Mushaax",
          "Mushaax",
          "Mushaax",
          "Mushaax",
          "Mushaax",
          "Mushaax",
          "Mushaax",
          "Mushaax",
          "Mushaax",
          "Mushaax",
          "Mushaax",
          "Mushaax",
          "Mushaax",
          "Mushaax",
          "Mushaax",
          "Mushaax",
          "Mushaax",
          "Mushaax",
          "Mushaax",
          "Mushaax",
          "Mushaax",
          "Mushaax",
          "Mushaax"
         ],
         "xaxis": "x",
         "y": [
          2820,
          2812,
          120,
          3170,
          526,
          2682,
          3271,
          2588,
          3886,
          886,
          3800,
          3625,
          4281,
          2485,
          816,
          980,
          2634,
          3609,
          1988,
          3215,
          2828,
          4245,
          266,
          4484,
          295,
          2511,
          3740,
          4495,
          4146,
          3471,
          2892,
          3591,
          4291,
          3795,
          2527,
          709,
          1588,
          644,
          177,
          995,
          740,
          1185,
          1072,
          3537,
          302,
          638,
          2967,
          3987,
          3942,
          1712,
          3576,
          893,
          4368,
          2967,
          3987,
          3942,
          1712,
          2967,
          3987,
          3942,
          2967,
          3987,
          3942,
          2967,
          3987,
          3942,
          1712,
          2967,
          3987,
          3942,
          1712,
          2967,
          3987,
          3942,
          1712,
          2967,
          3987,
          3942,
          1712,
          2967,
          3987,
          3942,
          1712,
          2967,
          3987,
          3942,
          1712,
          2967,
          3987,
          3942,
          1712
         ],
         "yaxis": "y"
        }
       ],
       "layout": {
        "autosize": true,
        "barmode": "relative",
        "legend": {
         "title": {
          "text": "Service"
         },
         "tracegroupgap": 0
        },
        "margin": {
         "t": 60
        },
        "template": {
         "data": {
          "bar": [
           {
            "error_x": {
             "color": "#2a3f5f"
            },
            "error_y": {
             "color": "#2a3f5f"
            },
            "marker": {
             "line": {
              "color": "white",
              "width": 0.5
             },
             "pattern": {
              "fillmode": "overlay",
              "size": 10,
              "solidity": 0.2
             }
            },
            "type": "bar"
           }
          ],
          "barpolar": [
           {
            "marker": {
             "line": {
              "color": "white",
              "width": 0.5
             },
             "pattern": {
              "fillmode": "overlay",
              "size": 10,
              "solidity": 0.2
             }
            },
            "type": "barpolar"
           }
          ],
          "carpet": [
           {
            "aaxis": {
             "endlinecolor": "#2a3f5f",
             "gridcolor": "#C8D4E3",
             "linecolor": "#C8D4E3",
             "minorgridcolor": "#C8D4E3",
             "startlinecolor": "#2a3f5f"
            },
            "baxis": {
             "endlinecolor": "#2a3f5f",
             "gridcolor": "#C8D4E3",
             "linecolor": "#C8D4E3",
             "minorgridcolor": "#C8D4E3",
             "startlinecolor": "#2a3f5f"
            },
            "type": "carpet"
           }
          ],
          "choropleth": [
           {
            "colorbar": {
             "outlinewidth": 0,
             "ticks": ""
            },
            "type": "choropleth"
           }
          ],
          "contour": [
           {
            "colorbar": {
             "outlinewidth": 0,
             "ticks": ""
            },
            "colorscale": [
             [
              0,
              "#0d0887"
             ],
             [
              0.1111111111111111,
              "#46039f"
             ],
             [
              0.2222222222222222,
              "#7201a8"
             ],
             [
              0.3333333333333333,
              "#9c179e"
             ],
             [
              0.4444444444444444,
              "#bd3786"
             ],
             [
              0.5555555555555556,
              "#d8576b"
             ],
             [
              0.6666666666666666,
              "#ed7953"
             ],
             [
              0.7777777777777778,
              "#fb9f3a"
             ],
             [
              0.8888888888888888,
              "#fdca26"
             ],
             [
              1,
              "#f0f921"
             ]
            ],
            "type": "contour"
           }
          ],
          "contourcarpet": [
           {
            "colorbar": {
             "outlinewidth": 0,
             "ticks": ""
            },
            "type": "contourcarpet"
           }
          ],
          "heatmap": [
           {
            "colorbar": {
             "outlinewidth": 0,
             "ticks": ""
            },
            "colorscale": [
             [
              0,
              "#0d0887"
             ],
             [
              0.1111111111111111,
              "#46039f"
             ],
             [
              0.2222222222222222,
              "#7201a8"
             ],
             [
              0.3333333333333333,
              "#9c179e"
             ],
             [
              0.4444444444444444,
              "#bd3786"
             ],
             [
              0.5555555555555556,
              "#d8576b"
             ],
             [
              0.6666666666666666,
              "#ed7953"
             ],
             [
              0.7777777777777778,
              "#fb9f3a"
             ],
             [
              0.8888888888888888,
              "#fdca26"
             ],
             [
              1,
              "#f0f921"
             ]
            ],
            "type": "heatmap"
           }
          ],
          "heatmapgl": [
           {
            "colorbar": {
             "outlinewidth": 0,
             "ticks": ""
            },
            "colorscale": [
             [
              0,
              "#0d0887"
             ],
             [
              0.1111111111111111,
              "#46039f"
             ],
             [
              0.2222222222222222,
              "#7201a8"
             ],
             [
              0.3333333333333333,
              "#9c179e"
             ],
             [
              0.4444444444444444,
              "#bd3786"
             ],
             [
              0.5555555555555556,
              "#d8576b"
             ],
             [
              0.6666666666666666,
              "#ed7953"
             ],
             [
              0.7777777777777778,
              "#fb9f3a"
             ],
             [
              0.8888888888888888,
              "#fdca26"
             ],
             [
              1,
              "#f0f921"
             ]
            ],
            "type": "heatmapgl"
           }
          ],
          "histogram": [
           {
            "marker": {
             "pattern": {
              "fillmode": "overlay",
              "size": 10,
              "solidity": 0.2
             }
            },
            "type": "histogram"
           }
          ],
          "histogram2d": [
           {
            "colorbar": {
             "outlinewidth": 0,
             "ticks": ""
            },
            "colorscale": [
             [
              0,
              "#0d0887"
             ],
             [
              0.1111111111111111,
              "#46039f"
             ],
             [
              0.2222222222222222,
              "#7201a8"
             ],
             [
              0.3333333333333333,
              "#9c179e"
             ],
             [
              0.4444444444444444,
              "#bd3786"
             ],
             [
              0.5555555555555556,
              "#d8576b"
             ],
             [
              0.6666666666666666,
              "#ed7953"
             ],
             [
              0.7777777777777778,
              "#fb9f3a"
             ],
             [
              0.8888888888888888,
              "#fdca26"
             ],
             [
              1,
              "#f0f921"
             ]
            ],
            "type": "histogram2d"
           }
          ],
          "histogram2dcontour": [
           {
            "colorbar": {
             "outlinewidth": 0,
             "ticks": ""
            },
            "colorscale": [
             [
              0,
              "#0d0887"
             ],
             [
              0.1111111111111111,
              "#46039f"
             ],
             [
              0.2222222222222222,
              "#7201a8"
             ],
             [
              0.3333333333333333,
              "#9c179e"
             ],
             [
              0.4444444444444444,
              "#bd3786"
             ],
             [
              0.5555555555555556,
              "#d8576b"
             ],
             [
              0.6666666666666666,
              "#ed7953"
             ],
             [
              0.7777777777777778,
              "#fb9f3a"
             ],
             [
              0.8888888888888888,
              "#fdca26"
             ],
             [
              1,
              "#f0f921"
             ]
            ],
            "type": "histogram2dcontour"
           }
          ],
          "mesh3d": [
           {
            "colorbar": {
             "outlinewidth": 0,
             "ticks": ""
            },
            "type": "mesh3d"
           }
          ],
          "parcoords": [
           {
            "line": {
             "colorbar": {
              "outlinewidth": 0,
              "ticks": ""
             }
            },
            "type": "parcoords"
           }
          ],
          "pie": [
           {
            "automargin": true,
            "type": "pie"
           }
          ],
          "scatter": [
           {
            "fillpattern": {
             "fillmode": "overlay",
             "size": 10,
             "solidity": 0.2
            },
            "type": "scatter"
           }
          ],
          "scatter3d": [
           {
            "line": {
             "colorbar": {
              "outlinewidth": 0,
              "ticks": ""
             }
            },
            "marker": {
             "colorbar": {
              "outlinewidth": 0,
              "ticks": ""
             }
            },
            "type": "scatter3d"
           }
          ],
          "scattercarpet": [
           {
            "marker": {
             "colorbar": {
              "outlinewidth": 0,
              "ticks": ""
             }
            },
            "type": "scattercarpet"
           }
          ],
          "scattergeo": [
           {
            "marker": {
             "colorbar": {
              "outlinewidth": 0,
              "ticks": ""
             }
            },
            "type": "scattergeo"
           }
          ],
          "scattergl": [
           {
            "marker": {
             "colorbar": {
              "outlinewidth": 0,
              "ticks": ""
             }
            },
            "type": "scattergl"
           }
          ],
          "scattermapbox": [
           {
            "marker": {
             "colorbar": {
              "outlinewidth": 0,
              "ticks": ""
             }
            },
            "type": "scattermapbox"
           }
          ],
          "scatterpolar": [
           {
            "marker": {
             "colorbar": {
              "outlinewidth": 0,
              "ticks": ""
             }
            },
            "type": "scatterpolar"
           }
          ],
          "scatterpolargl": [
           {
            "marker": {
             "colorbar": {
              "outlinewidth": 0,
              "ticks": ""
             }
            },
            "type": "scatterpolargl"
           }
          ],
          "scatterternary": [
           {
            "marker": {
             "colorbar": {
              "outlinewidth": 0,
              "ticks": ""
             }
            },
            "type": "scatterternary"
           }
          ],
          "surface": [
           {
            "colorbar": {
             "outlinewidth": 0,
             "ticks": ""
            },
            "colorscale": [
             [
              0,
              "#0d0887"
             ],
             [
              0.1111111111111111,
              "#46039f"
             ],
             [
              0.2222222222222222,
              "#7201a8"
             ],
             [
              0.3333333333333333,
              "#9c179e"
             ],
             [
              0.4444444444444444,
              "#bd3786"
             ],
             [
              0.5555555555555556,
              "#d8576b"
             ],
             [
              0.6666666666666666,
              "#ed7953"
             ],
             [
              0.7777777777777778,
              "#fb9f3a"
             ],
             [
              0.8888888888888888,
              "#fdca26"
             ],
             [
              1,
              "#f0f921"
             ]
            ],
            "type": "surface"
           }
          ],
          "table": [
           {
            "cells": {
             "fill": {
              "color": "#EBF0F8"
             },
             "line": {
              "color": "white"
             }
            },
            "header": {
             "fill": {
              "color": "#C8D4E3"
             },
             "line": {
              "color": "white"
             }
            },
            "type": "table"
           }
          ]
         },
         "layout": {
          "annotationdefaults": {
           "arrowcolor": "#2a3f5f",
           "arrowhead": 0,
           "arrowwidth": 1
          },
          "autotypenumbers": "strict",
          "coloraxis": {
           "colorbar": {
            "outlinewidth": 0,
            "ticks": ""
           }
          },
          "colorscale": {
           "diverging": [
            [
             0,
             "#8e0152"
            ],
            [
             0.1,
             "#c51b7d"
            ],
            [
             0.2,
             "#de77ae"
            ],
            [
             0.3,
             "#f1b6da"
            ],
            [
             0.4,
             "#fde0ef"
            ],
            [
             0.5,
             "#f7f7f7"
            ],
            [
             0.6,
             "#e6f5d0"
            ],
            [
             0.7,
             "#b8e186"
            ],
            [
             0.8,
             "#7fbc41"
            ],
            [
             0.9,
             "#4d9221"
            ],
            [
             1,
             "#276419"
            ]
           ],
           "sequential": [
            [
             0,
             "#0d0887"
            ],
            [
             0.1111111111111111,
             "#46039f"
            ],
            [
             0.2222222222222222,
             "#7201a8"
            ],
            [
             0.3333333333333333,
             "#9c179e"
            ],
            [
             0.4444444444444444,
             "#bd3786"
            ],
            [
             0.5555555555555556,
             "#d8576b"
            ],
            [
             0.6666666666666666,
             "#ed7953"
            ],
            [
             0.7777777777777778,
             "#fb9f3a"
            ],
            [
             0.8888888888888888,
             "#fdca26"
            ],
            [
             1,
             "#f0f921"
            ]
           ],
           "sequentialminus": [
            [
             0,
             "#0d0887"
            ],
            [
             0.1111111111111111,
             "#46039f"
            ],
            [
             0.2222222222222222,
             "#7201a8"
            ],
            [
             0.3333333333333333,
             "#9c179e"
            ],
            [
             0.4444444444444444,
             "#bd3786"
            ],
            [
             0.5555555555555556,
             "#d8576b"
            ],
            [
             0.6666666666666666,
             "#ed7953"
            ],
            [
             0.7777777777777778,
             "#fb9f3a"
            ],
            [
             0.8888888888888888,
             "#fdca26"
            ],
            [
             1,
             "#f0f921"
            ]
           ]
          },
          "colorway": [
           "#636efa",
           "#EF553B",
           "#00cc96",
           "#ab63fa",
           "#FFA15A",
           "#19d3f3",
           "#FF6692",
           "#B6E880",
           "#FF97FF",
           "#FECB52"
          ],
          "font": {
           "color": "#2a3f5f"
          },
          "geo": {
           "bgcolor": "white",
           "lakecolor": "white",
           "landcolor": "white",
           "showlakes": true,
           "showland": true,
           "subunitcolor": "#C8D4E3"
          },
          "hoverlabel": {
           "align": "left"
          },
          "hovermode": "closest",
          "mapbox": {
           "style": "light"
          },
          "paper_bgcolor": "white",
          "plot_bgcolor": "white",
          "polar": {
           "angularaxis": {
            "gridcolor": "#EBF0F8",
            "linecolor": "#EBF0F8",
            "ticks": ""
           },
           "bgcolor": "white",
           "radialaxis": {
            "gridcolor": "#EBF0F8",
            "linecolor": "#EBF0F8",
            "ticks": ""
           }
          },
          "scene": {
           "xaxis": {
            "backgroundcolor": "white",
            "gridcolor": "#DFE8F3",
            "gridwidth": 2,
            "linecolor": "#EBF0F8",
            "showbackground": true,
            "ticks": "",
            "zerolinecolor": "#EBF0F8"
           },
           "yaxis": {
            "backgroundcolor": "white",
            "gridcolor": "#DFE8F3",
            "gridwidth": 2,
            "linecolor": "#EBF0F8",
            "showbackground": true,
            "ticks": "",
            "zerolinecolor": "#EBF0F8"
           },
           "zaxis": {
            "backgroundcolor": "white",
            "gridcolor": "#DFE8F3",
            "gridwidth": 2,
            "linecolor": "#EBF0F8",
            "showbackground": true,
            "ticks": "",
            "zerolinecolor": "#EBF0F8"
           }
          },
          "shapedefaults": {
           "line": {
            "color": "#2a3f5f"
           }
          },
          "ternary": {
           "aaxis": {
            "gridcolor": "#DFE8F3",
            "linecolor": "#A2B1C6",
            "ticks": ""
           },
           "baxis": {
            "gridcolor": "#DFE8F3",
            "linecolor": "#A2B1C6",
            "ticks": ""
           },
           "bgcolor": "white",
           "caxis": {
            "gridcolor": "#DFE8F3",
            "linecolor": "#A2B1C6",
            "ticks": ""
           }
          },
          "title": {
           "x": 0.05
          },
          "xaxis": {
           "automargin": true,
           "gridcolor": "#EBF0F8",
           "linecolor": "#EBF0F8",
           "ticks": "",
           "title": {
            "standoff": 15
           },
           "zerolinecolor": "#EBF0F8",
           "zerolinewidth": 2
          },
          "yaxis": {
           "automargin": true,
           "gridcolor": "#EBF0F8",
           "linecolor": "#EBF0F8",
           "ticks": "",
           "title": {
            "standoff": 15
           },
           "zerolinecolor": "#EBF0F8",
           "zerolinewidth": 2
          }
         }
        },
        "xaxis": {
         "anchor": "y",
         "autorange": true,
         "categoryarray": [
          "Kaafiye",
          "Waafi",
          "Internet",
          "Aqoonmaal",
          "Mushaax"
         ],
         "categoryorder": "array",
         "domain": [
          0,
          1
         ],
         "range": [
          -0.5,
          4.5
         ],
         "title": {
          "text": "Service"
         },
         "type": "category"
        },
        "yaxis": {
         "anchor": "x",
         "autorange": true,
         "domain": [
          0,
          1
         ],
         "range": [
          0,
          275408.4210526316
         ],
         "title": {
          "text": "sum of Likes"
         },
         "type": "linear"
        }
       }
      },
      "image/png": "[encoded data removed]",
      "text/html": [
       "<div>                            <div id=\"a00ccc1c-1c7e-4829-8ccf-f767d012d7b8\" class=\"plotly-graph-div\" style=\"height:525px; width:100%;\"></div>            <script type=\"text/javascript\">                require([\"plotly\"], function(Plotly) {                    window.PLOTLYENV=window.PLOTLYENV || {};                                    if (document.getElementById(\"a00ccc1c-1c7e-4829-8ccf-f767d012d7b8\")) {                    Plotly.newPlot(                        \"a00ccc1c-1c7e-4829-8ccf-f767d012d7b8\",                        [{\"alignmentgroup\":\"True\",\"bingroup\":\"x\",\"histfunc\":\"sum\",\"hovertemplate\":\"Service=%{x}<br>sum of Likes=%{y}<extra></extra>\",\"legendgroup\":\"Kaafiye\",\"marker\":{\"color\":\"#636efa\",\"pattern\":{\"shape\":\"\"}},\"name\":\"Kaafiye\",\"offsetgroup\":\"Kaafiye\",\"orientation\":\"v\",\"showlegend\":true,\"x\":[\"Kaafiye\",\"Kaafiye\",\"Kaafiye\",\"Kaafiye\",\"Kaafiye\",\"Kaafiye\",\"Kaafiye\",\"Kaafiye\",\"Kaafiye\",\"Kaafiye\",\"Kaafiye\",\"Kaafiye\",\"Kaafiye\",\"Kaafiye\",\"Kaafiye\",\"Kaafiye\",\"Kaafiye\",\"Kaafiye\",\"Kaafiye\",\"Kaafiye\",\"Kaafiye\",\"Kaafiye\",\"Kaafiye\",\"Kaafiye\",\"Kaafiye\",\"Kaafiye\",\"Kaafiye\",\"Kaafiye\",\"Kaafiye\",\"Kaafiye\",\"Kaafiye\",\"Kaafiye\",\"Kaafiye\",\"Kaafiye\",\"Kaafiye\",\"Kaafiye\",\"Kaafiye\",\"Kaafiye\",\"Kaafiye\",\"Kaafiye\",\"Kaafiye\",\"Kaafiye\",\"Kaafiye\",\"Kaafiye\",\"Kaafiye\",\"Kaafiye\",\"Kaafiye\",\"Kaafiye\",\"Kaafiye\",\"Kaafiye\",\"Kaafiye\",\"Kaafiye\",\"Kaafiye\",\"Kaafiye\",\"Kaafiye\",\"Kaafiye\",\"Kaafiye\",\"Kaafiye\",\"Kaafiye\",\"Kaafiye\",\"Kaafiye\",\"Kaafiye\",\"Kaafiye\",\"Kaafiye\",\"Kaafiye\",\"Kaafiye\",\"Kaafiye\",\"Kaafiye\",\"Kaafiye\",\"Kaafiye\",\"Kaafiye\",\"Kaafiye\",\"Kaafiye\",\"Kaafiye\",\"Kaafiye\",\"Kaafiye\",\"Kaafiye\",\"Kaafiye\",\"Kaafiye\",\"Kaafiye\",\"Kaafiye\",\"Kaafiye\",\"Kaafiye\",\"Kaafiye\",\"Kaafiye\",\"Kaafiye\"],\"xaxis\":\"x\",\"y\":[1200,3553,307,728,3048,3454,1257,4029,3038,1884,1594,1098,4469,3813,1671,1041,1501,134,759,1356,3553,3479,667,4342,2011,3640,1401,1577,1027,3496,2025,3620,543,3978,4020,2292,3129,3675,3323,627,1281,4144,137,2240,3903,2317,1403,1705,4500,3724,326,3884,3295,3710,1705,4500,3724,326,1705,4500,3724,1705,4500,3724,1705,4500,3724,1705,4500,3724,1705,4500,3724,1705,4500,3724,1705,4500,3724,1705,4500,3724,1705,4500,3724,326],\"yaxis\":\"y\",\"type\":\"histogram\"},{\"alignmentgroup\":\"True\",\"bingroup\":\"x\",\"histfunc\":\"sum\",\"hovertemplate\":\"Service=%{x}<br>sum of Likes=%{y}<extra></extra>\",\"legendgroup\":\"Waafi\",\"marker\":{\"color\":\"#EF553B\",\"pattern\":{\"shape\":\"\"}},\"name\":\"Waafi\",\"offsetgroup\":\"Waafi\",\"orientation\":\"v\",\"showlegend\":true,\"x\":[\"Waafi\",\"Waafi\",\"Waafi\",\"Waafi\",\"Waafi\",\"Waafi\",\"Waafi\",\"Waafi\",\"Waafi\",\"Waafi\",\"Waafi\",\"Waafi\",\"Waafi\",\"Waafi\",\"Waafi\",\"Waafi\",\"Waafi\",\"Waafi\",\"Waafi\",\"Waafi\",\"Waafi\",\"Waafi\",\"Waafi\",\"Waafi\",\"Waafi\",\"Waafi\",\"Waafi\",\"Waafi\",\"Waafi\",\"Waafi\",\"Waafi\",\"Waafi\",\"Waafi\",\"Waafi\",\"Waafi\",\"Waafi\",\"Waafi\",\"Waafi\",\"Waafi\",\"Waafi\",\"Waafi\",\"Waafi\",\"Waafi\",\"Waafi\",\"Waafi\",\"Waafi\",\"Waafi\",\"Waafi\",\"Waafi\",\"Waafi\",\"Waafi\",\"Waafi\",\"Waafi\",\"Waafi\",\"Waafi\",\"Waafi\",\"Waafi\",\"Waafi\",\"Waafi\",\"Waafi\",\"Waafi\",\"Waafi\",\"Waafi\",\"Waafi\",\"Waafi\",\"Waafi\",\"Waafi\",\"Waafi\",\"Waafi\",\"Waafi\",\"Waafi\",\"Waafi\",\"Waafi\",\"Waafi\",\"Waafi\",\"Waafi\",\"Waafi\",\"Waafi\",\"Waafi\",\"Waafi\",\"Waafi\",\"Waafi\",\"Waafi\",\"Waafi\"],\"xaxis\":\"x\",\"y\":[2500,306,1518,3391,4296,2088,2176,4074,3829,1881,2104,2631,507,3031,2892,1352,3285,3322,2478,2206,3408,3655,3682,3480,4079,3649,2737,651,3254,1225,2274,1790,3592,1350,226,3329,2110,1000,1300,4420,3214,2860,2098,4287,3418,3121,2301,3368,3818,2991,185,1297,2584,3210,3368,3818,2991,3368,3818,2991,3368,3818,2991,3368,3818,2991,3368,3818,2991,3368,3818,2991,3368,3818,2991,3368,3818,2991,3368,3818,2991,3368,3818,2991],\"yaxis\":\"y\",\"type\":\"histogram\"},{\"alignmentgroup\":\"True\",\"bingroup\":\"x\",\"histfunc\":\"sum\",\"hovertemplate\":\"Service=%{x}<br>sum of Likes=%{y}<extra></extra>\",\"legendgroup\":\"Internet\",\"marker\":{\"color\":\"#00cc96\",\"pattern\":{\"shape\":\"\"}},\"name\":\"Internet\",\"offsetgroup\":\"Internet\",\"orientation\":\"v\",\"showlegend\":true,\"x\":[\"Internet\",\"Internet\",\"Internet\",\"Internet\",\"Internet\",\"Internet\",\"Internet\",\"Internet\",\"Internet\",\"Internet\",\"Internet\",\"Internet\",\"Internet\",\"Internet\",\"Internet\",\"Internet\",\"Internet\",\"Internet\",\"Internet\",\"Internet\",\"Internet\",\"Internet\",\"Internet\",\"Internet\",\"Internet\",\"Internet\",\"Internet\",\"Internet\",\"Internet\",\"Internet\",\"Internet\",\"Internet\",\"Internet\",\"Internet\",\"Internet\",\"Internet\",\"Internet\",\"Internet\",\"Internet\",\"Internet\",\"Internet\",\"Internet\",\"Internet\",\"Internet\",\"Internet\",\"Internet\",\"Internet\",\"Internet\",\"Internet\",\"Internet\",\"Internet\",\"Internet\",\"Internet\",\"Internet\",\"Internet\",\"Internet\",\"Internet\",\"Internet\",\"Internet\",\"Internet\",\"Internet\",\"Internet\",\"Internet\",\"Internet\",\"Internet\",\"Internet\",\"Internet\",\"Internet\",\"Internet\",\"Internet\",\"Internet\",\"Internet\",\"Internet\",\"Internet\",\"Internet\",\"Internet\",\"Internet\",\"Internet\",\"Internet\",\"Internet\",\"Internet\",\"Internet\",\"Internet\",\"Internet\",\"Internet\",\"Internet\",\"Internet\",\"Internet\",\"Internet\",\"Internet\",\"Internet\",\"Internet\",\"Internet\"],\"xaxis\":\"x\",\"y\":[850,1547,1109,2936,1433,549,3375,1132,1470,324,1795,1090,3241,2909,229,4100,4038,349,1575,1194,966,312,3065,619,3600,1726,2876,1669,3597,1054,2006,241,1339,4063,3553,4409,4432,3380,1011,3729,3852,3302,977,2664,357,2841,3502,3814,3022,1695,315,2406,371,3841,3502,3814,3022,1695,3502,3814,3022,3502,3814,3022,1695,3502,3814,3022,1695,3502,3814,3022,1695,3502,3814,3022,1695,3502,3814,3022,1695,3502,3814,3022,1695,3502,3814,3022,1695,3502,3814,3022,1695],\"yaxis\":\"y\",\"type\":\"histogram\"},{\"alignmentgroup\":\"True\",\"bingroup\":\"x\",\"histfunc\":\"sum\",\"hovertemplate\":\"Service=%{x}<br>sum of Likes=%{y}<extra></extra>\",\"legendgroup\":\"Aqoonmaal\",\"marker\":{\"color\":\"#ab63fa\",\"pattern\":{\"shape\":\"\"}},\"name\":\"Aqoonmaal\",\"offsetgroup\":\"Aqoonmaal\",\"orientation\":\"v\",\"showlegend\":true,\"x\":[\"Aqoonmaal\",\"Aqoonmaal\",\"Aqoonmaal\",\"Aqoonmaal\",\"Aqoonmaal\",\"Aqoonmaal\",\"Aqoonmaal\",\"Aqoonmaal\",\"Aqoonmaal\",\"Aqoonmaal\",\"Aqoonmaal\",\"Aqoonmaal\",\"Aqoonmaal\",\"Aqoonmaal\",\"Aqoonmaal\",\"Aqoonmaal\",\"Aqoonmaal\",\"Aqoonmaal\",\"Aqoonmaal\",\"Aqoonmaal\",\"Aqoonmaal\",\"Aqoonmaal\",\"Aqoonmaal\",\"Aqoonmaal\",\"Aqoonmaal\",\"Aqoonmaal\",\"Aqoonmaal\",\"Aqoonmaal\",\"Aqoonmaal\",\"Aqoonmaal\",\"Aqoonmaal\",\"Aqoonmaal\",\"Aqoonmaal\",\"Aqoonmaal\",\"Aqoonmaal\",\"Aqoonmaal\",\"Aqoonmaal\",\"Aqoonmaal\",\"Aqoonmaal\",\"Aqoonmaal\",\"Aqoonmaal\",\"Aqoonmaal\",\"Aqoonmaal\",\"Aqoonmaal\",\"Aqoonmaal\",\"Aqoonmaal\",\"Aqoonmaal\",\"Aqoonmaal\",\"Aqoonmaal\",\"Aqoonmaal\",\"Aqoonmaal\",\"Aqoonmaal\",\"Aqoonmaal\",\"Aqoonmaal\",\"Aqoonmaal\",\"Aqoonmaal\",\"Aqoonmaal\",\"Aqoonmaal\",\"Aqoonmaal\",\"Aqoonmaal\",\"Aqoonmaal\",\"Aqoonmaal\",\"Aqoonmaal\",\"Aqoonmaal\",\"Aqoonmaal\",\"Aqoonmaal\",\"Aqoonmaal\",\"Aqoonmaal\",\"Aqoonmaal\",\"Aqoonmaal\",\"Aqoonmaal\",\"Aqoonmaal\",\"Aqoonmaal\",\"Aqoonmaal\",\"Aqoonmaal\",\"Aqoonmaal\",\"Aqoonmaal\",\"Aqoonmaal\",\"Aqoonmaal\",\"Aqoonmaal\",\"Aqoonmaal\",\"Aqoonmaal\",\"Aqoonmaal\",\"Aqoonmaal\",\"Aqoonmaal\",\"Aqoonmaal\",\"Aqoonmaal\",\"Aqoonmaal\",\"Aqoonmaal\",\"Aqoonmaal\",\"Aqoonmaal\",\"Aqoonmaal\",\"Aqoonmaal\",\"Aqoonmaal\",\"Aqoonmaal\",\"Aqoonmaal\",\"Aqoonmaal\",\"Aqoonmaal\",\"Aqoonmaal\",\"Aqoonmaal\",\"Aqoonmaal\",\"Aqoonmaal\",\"Aqoonmaal\",\"Aqoonmaal\",\"Aqoonmaal\",\"Aqoonmaal\",\"Aqoonmaal\",\"Aqoonmaal\",\"Aqoonmaal\",\"Aqoonmaal\",\"Aqoonmaal\",\"Aqoonmaal\",\"Aqoonmaal\",\"Aqoonmaal\"],\"xaxis\":\"x\",\"y\":[920,4052,1531,974,1498,4027,3435,4447,2255,4373,1325,413,4319,616,1560,1849,2724,446,733,2147,3341,2615,1754,3245,626,1728,3170,565,2423,953,3251,4113,3075,3222,3955,610,558,1709,1265,1620,3799,1728,1643,596,750,1898,2592,4465,3402,806,1893,3934,1578,590,3609,3395,750,1898,2592,4465,3402,806,750,1898,2592,4465,3402,750,1898,2592,4465,3402,750,1898,2592,4465,3402,806,750,1898,2592,4465,3402,806,750,1898,2592,4465,3402,806,750,1898,2592,4465,3402,806,750,1898,2592,4465,3402,806,750,1898,2592,4465,3402,806,750,1898,2592,4465,3402,806],\"yaxis\":\"y\",\"type\":\"histogram\"},{\"alignmentgroup\":\"True\",\"bingroup\":\"x\",\"histfunc\":\"sum\",\"hovertemplate\":\"Service=%{x}<br>sum of Likes=%{y}<extra></extra>\",\"legendgroup\":\"Mushaax\",\"marker\":{\"color\":\"#FFA15A\",\"pattern\":{\"shape\":\"\"}},\"name\":\"Mushaax\",\"offsetgroup\":\"Mushaax\",\"orientation\":\"v\",\"showlegend\":true,\"x\":[\"Mushaax\",\"Mushaax\",\"Mushaax\",\"Mushaax\",\"Mushaax\",\"Mushaax\",\"Mushaax\",\"Mushaax\",\"Mushaax\",\"Mushaax\",\"Mushaax\",\"Mushaax\",\"Mushaax\",\"Mushaax\",\"Mushaax\",\"Mushaax\",\"Mushaax\",\"Mushaax\",\"Mushaax\",\"Mushaax\",\"Mushaax\",\"Mushaax\",\"Mushaax\",\"Mushaax\",\"Mushaax\",\"Mushaax\",\"Mushaax\",\"Mushaax\",\"Mushaax\",\"Mushaax\",\"Mushaax\",\"Mushaax\",\"Mushaax\",\"Mushaax\",\"Mushaax\",\"Mushaax\",\"Mushaax\",\"Mushaax\",\"Mushaax\",\"Mushaax\",\"Mushaax\",\"Mushaax\",\"Mushaax\",\"Mushaax\",\"Mushaax\",\"Mushaax\",\"Mushaax\",\"Mushaax\",\"Mushaax\",\"Mushaax\",\"Mushaax\",\"Mushaax\",\"Mushaax\",\"Mushaax\",\"Mushaax\",\"Mushaax\",\"Mushaax\",\"Mushaax\",\"Mushaax\",\"Mushaax\",\"Mushaax\",\"Mushaax\",\"Mushaax\",\"Mushaax\",\"Mushaax\",\"Mushaax\",\"Mushaax\",\"Mushaax\",\"Mushaax\",\"Mushaax\",\"Mushaax\",\"Mushaax\",\"Mushaax\",\"Mushaax\",\"Mushaax\",\"Mushaax\",\"Mushaax\",\"Mushaax\",\"Mushaax\",\"Mushaax\",\"Mushaax\",\"Mushaax\",\"Mushaax\",\"Mushaax\",\"Mushaax\",\"Mushaax\",\"Mushaax\",\"Mushaax\",\"Mushaax\",\"Mushaax\",\"Mushaax\"],\"xaxis\":\"x\",\"y\":[2820,2812,120,3170,526,2682,3271,2588,3886,886,3800,3625,4281,2485,816,980,2634,3609,1988,3215,2828,4245,266,4484,295,2511,3740,4495,4146,3471,2892,3591,4291,3795,2527,709,1588,644,177,995,740,1185,1072,3537,302,638,2967,3987,3942,1712,3576,893,4368,2967,3987,3942,1712,2967,3987,3942,2967,3987,3942,2967,3987,3942,1712,2967,3987,3942,1712,2967,3987,3942,1712,2967,3987,3942,1712,2967,3987,3942,1712,2967,3987,3942,1712,2967,3987,3942,1712],\"yaxis\":\"y\",\"type\":\"histogram\"}],                        {\"template\":{\"data\":{\"histogram2dcontour\":[{\"type\":\"histogram2dcontour\",\"colorbar\":{\"outlinewidth\":0,\"ticks\":\"\"},\"colorscale\":[[0.0,\"#0d0887\"],[0.1111111111111111,\"#46039f\"],[0.2222222222222222,\"#7201a8\"],[0.3333333333333333,\"#9c179e\"],[0.4444444444444444,\"#bd3786\"],[0.5555555555555556,\"#d8576b\"],[0.6666666666666666,\"#ed7953\"],[0.7777777777777778,\"#fb9f3a\"],[0.8888888888888888,\"#fdca26\"],[1.0,\"#f0f921\"]]}],\"choropleth\":[{\"type\":\"choropleth\",\"colorbar\":{\"outlinewidth\":0,\"ticks\":\"\"}}],\"histogram2d\":[{\"type\":\"histogram2d\",\"colorbar\":{\"outlinewidth\":0,\"ticks\":\"\"},\"colorscale\":[[0.0,\"#0d0887\"],[0.1111111111111111,\"#46039f\"],[0.2222222222222222,\"#7201a8\"],[0.3333333333333333,\"#9c179e\"],[0.4444444444444444,\"#bd3786\"],[0.5555555555555556,\"#d8576b\"],[0.6666666666666666,\"#ed7953\"],[0.7777777777777778,\"#fb9f3a\"],[0.8888888888888888,\"#fdca26\"],[1.0,\"#f0f921\"]]}],\"heatmap\":[{\"type\":\"heatmap\",\"colorbar\":{\"outlinewidth\":0,\"ticks\":\"\"},\"colorscale\":[[0.0,\"#0d0887\"],[0.1111111111111111,\"#46039f\"],[0.2222222222222222,\"#7201a8\"],[0.3333333333333333,\"#9c179e\"],[0.4444444444444444,\"#bd3786\"],[0.5555555555555556,\"#d8576b\"],[0.6666666666666666,\"#ed7953\"],[0.7777777777777778,\"#fb9f3a\"],[0.8888888888888888,\"#fdca26\"],[1.0,\"#f0f921\"]]}],\"heatmapgl\":[{\"type\":\"heatmapgl\",\"colorbar\":{\"outlinewidth\":0,\"ticks\":\"\"},\"colorscale\":[[0.0,\"#0d0887\"],[0.1111111111111111,\"#46039f\"],[0.2222222222222222,\"#7201a8\"],[0.3333333333333333,\"#9c179e\"],[0.4444444444444444,\"#bd3786\"],[0.5555555555555556,\"#d8576b\"],[0.6666666666666666,\"#ed7953\"],[0.7777777777777778,\"#fb9f3a\"],[0.8888888888888888,\"#fdca26\"],[1.0,\"#f0f921\"]]}],\"contourcarpet\":[{\"type\":\"contourcarpet\",\"colorbar\":{\"outlinewidth\":0,\"ticks\":\"\"}}],\"contour\":[{\"type\":\"contour\",\"colorbar\":{\"outlinewidth\":0,\"ticks\":\"\"},\"colorscale\":[[0.0,\"#0d0887\"],[0.1111111111111111,\"#46039f\"],[0.2222222222222222,\"#7201a8\"],[0.3333333333333333,\"#9c179e\"],[0.4444444444444444,\"#bd3786\"],[0.5555555555555556,\"#d8576b\"],[0.6666666666666666,\"#ed7953\"],[0.7777777777777778,\"#fb9f3a\"],[0.8888888888888888,\"#fdca26\"],[1.0,\"#f0f921\"]]}],\"surface\":[{\"type\":\"surface\",\"colorbar\":{\"outlinewidth\":0,\"ticks\":\"\"},\"colorscale\":[[0.0,\"#0d0887\"],[0.1111111111111111,\"#46039f\"],[0.2222222222222222,\"#7201a8\"],[0.3333333333333333,\"#9c179e\"],[0.4444444444444444,\"#bd3786\"],[0.5555555555555556,\"#d8576b\"],[0.6666666666666666,\"#ed7953\"],[0.7777777777777778,\"#fb9f3a\"],[0.8888888888888888,\"#fdca26\"],[1.0,\"#f0f921\"]]}],\"mesh3d\":[{\"type\":\"mesh3d\",\"colorbar\":{\"outlinewidth\":0,\"ticks\":\"\"}}],\"scatter\":[{\"fillpattern\":{\"fillmode\":\"overlay\",\"size\":10,\"solidity\":0.2},\"type\":\"scatter\"}],\"parcoords\":[{\"type\":\"parcoords\",\"line\":{\"colorbar\":{\"outlinewidth\":0,\"ticks\":\"\"}}}],\"scatterpolargl\":[{\"type\":\"scatterpolargl\",\"marker\":{\"colorbar\":{\"outlinewidth\":0,\"ticks\":\"\"}}}],\"bar\":[{\"error_x\":{\"color\":\"#2a3f5f\"},\"error_y\":{\"color\":\"#2a3f5f\"},\"marker\":{\"line\":{\"color\":\"white\",\"width\":0.5},\"pattern\":{\"fillmode\":\"overlay\",\"size\":10,\"solidity\":0.2}},\"type\":\"bar\"}],\"scattergeo\":[{\"type\":\"scattergeo\",\"marker\":{\"colorbar\":{\"outlinewidth\":0,\"ticks\":\"\"}}}],\"scatterpolar\":[{\"type\":\"scatterpolar\",\"marker\":{\"colorbar\":{\"outlinewidth\":0,\"ticks\":\"\"}}}],\"histogram\":[{\"marker\":{\"pattern\":{\"fillmode\":\"overlay\",\"size\":10,\"solidity\":0.2}},\"type\":\"histogram\"}],\"scattergl\":[{\"type\":\"scattergl\",\"marker\":{\"colorbar\":{\"outlinewidth\":0,\"ticks\":\"\"}}}],\"scatter3d\":[{\"type\":\"scatter3d\",\"line\":{\"colorbar\":{\"outlinewidth\":0,\"ticks\":\"\"}},\"marker\":{\"colorbar\":{\"outlinewidth\":0,\"ticks\":\"\"}}}],\"scattermapbox\":[{\"type\":\"scattermapbox\",\"marker\":{\"colorbar\":{\"outlinewidth\":0,\"ticks\":\"\"}}}],\"scatterternary\":[{\"type\":\"scatterternary\",\"marker\":{\"colorbar\":{\"outlinewidth\":0,\"ticks\":\"\"}}}],\"scattercarpet\":[{\"type\":\"scattercarpet\",\"marker\":{\"colorbar\":{\"outlinewidth\":0,\"ticks\":\"\"}}}],\"carpet\":[{\"aaxis\":{\"endlinecolor\":\"#2a3f5f\",\"gridcolor\":\"#C8D4E3\",\"linecolor\":\"#C8D4E3\",\"minorgridcolor\":\"#C8D4E3\",\"startlinecolor\":\"#2a3f5f\"},\"baxis\":{\"endlinecolor\":\"#2a3f5f\",\"gridcolor\":\"#C8D4E3\",\"linecolor\":\"#C8D4E3\",\"minorgridcolor\":\"#C8D4E3\",\"startlinecolor\":\"#2a3f5f\"},\"type\":\"carpet\"}],\"table\":[{\"cells\":{\"fill\":{\"color\":\"#EBF0F8\"},\"line\":{\"color\":\"white\"}},\"header\":{\"fill\":{\"color\":\"#C8D4E3\"},\"line\":{\"color\":\"white\"}},\"type\":\"table\"}],\"barpolar\":[{\"marker\":{\"line\":{\"color\":\"white\",\"width\":0.5},\"pattern\":{\"fillmode\":\"overlay\",\"size\":10,\"solidity\":0.2}},\"type\":\"barpolar\"}],\"pie\":[{\"automargin\":true,\"type\":\"pie\"}]},\"layout\":{\"autotypenumbers\":\"strict\",\"colorway\":[\"#636efa\",\"#EF553B\",\"#00cc96\",\"#ab63fa\",\"#FFA15A\",\"#19d3f3\",\"#FF6692\",\"#B6E880\",\"#FF97FF\",\"#FECB52\"],\"font\":{\"color\":\"#2a3f5f\"},\"hovermode\":\"closest\",\"hoverlabel\":{\"align\":\"left\"},\"paper_bgcolor\":\"white\",\"plot_bgcolor\":\"white\",\"polar\":{\"bgcolor\":\"white\",\"angularaxis\":{\"gridcolor\":\"#EBF0F8\",\"linecolor\":\"#EBF0F8\",\"ticks\":\"\"},\"radialaxis\":{\"gridcolor\":\"#EBF0F8\",\"linecolor\":\"#EBF0F8\",\"ticks\":\"\"}},\"ternary\":{\"bgcolor\":\"white\",\"aaxis\":{\"gridcolor\":\"#DFE8F3\",\"linecolor\":\"#A2B1C6\",\"ticks\":\"\"},\"baxis\":{\"gridcolor\":\"#DFE8F3\",\"linecolor\":\"#A2B1C6\",\"ticks\":\"\"},\"caxis\":{\"gridcolor\":\"#DFE8F3\",\"linecolor\":\"#A2B1C6\",\"ticks\":\"\"}},\"coloraxis\":{\"colorbar\":{\"outlinewidth\":0,\"ticks\":\"\"}},\"colorscale\":{\"sequential\":[[0.0,\"#0d0887\"],[0.1111111111111111,\"#46039f\"],[0.2222222222222222,\"#7201a8\"],[0.3333333333333333,\"#9c179e\"],[0.4444444444444444,\"#bd3786\"],[0.5555555555555556,\"#d8576b\"],[0.6666666666666666,\"#ed7953\"],[0.7777777777777778,\"#fb9f3a\"],[0.8888888888888888,\"#fdca26\"],[1.0,\"#f0f921\"]],\"sequentialminus\":[[0.0,\"#0d0887\"],[0.1111111111111111,\"#46039f\"],[0.2222222222222222,\"#7201a8\"],[0.3333333333333333,\"#9c179e\"],[0.4444444444444444,\"#bd3786\"],[0.5555555555555556,\"#d8576b\"],[0.6666666666666666,\"#ed7953\"],[0.7777777777777778,\"#fb9f3a\"],[0.8888888888888888,\"#fdca26\"],[1.0,\"#f0f921\"]],\"diverging\":[[0,\"#8e0152\"],[0.1,\"#c51b7d\"],[0.2,\"#de77ae\"],[0.3,\"#f1b6da\"],[0.4,\"#fde0ef\"],[0.5,\"#f7f7f7\"],[0.6,\"#e6f5d0\"],[0.7,\"#b8e186\"],[0.8,\"#7fbc41\"],[0.9,\"#4d9221\"],[1,\"#276419\"]]},\"xaxis\":{\"gridcolor\":\"#EBF0F8\",\"linecolor\":\"#EBF0F8\",\"ticks\":\"\",\"title\":{\"standoff\":15},\"zerolinecolor\":\"#EBF0F8\",\"automargin\":true,\"zerolinewidth\":2},\"yaxis\":{\"gridcolor\":\"#EBF0F8\",\"linecolor\":\"#EBF0F8\",\"ticks\":\"\",\"title\":{\"standoff\":15},\"zerolinecolor\":\"#EBF0F8\",\"automargin\":true,\"zerolinewidth\":2},\"scene\":{\"xaxis\":{\"backgroundcolor\":\"white\",\"gridcolor\":\"#DFE8F3\",\"linecolor\":\"#EBF0F8\",\"showbackground\":true,\"ticks\":\"\",\"zerolinecolor\":\"#EBF0F8\",\"gridwidth\":2},\"yaxis\":{\"backgroundcolor\":\"white\",\"gridcolor\":\"#DFE8F3\",\"linecolor\":\"#EBF0F8\",\"showbackground\":true,\"ticks\":\"\",\"zerolinecolor\":\"#EBF0F8\",\"gridwidth\":2},\"zaxis\":{\"backgroundcolor\":\"white\",\"gridcolor\":\"#DFE8F3\",\"linecolor\":\"#EBF0F8\",\"showbackground\":true,\"ticks\":\"\",\"zerolinecolor\":\"#EBF0F8\",\"gridwidth\":2}},\"shapedefaults\":{\"line\":{\"color\":\"#2a3f5f\"}},\"annotationdefaults\":{\"arrowcolor\":\"#2a3f5f\",\"arrowhead\":0,\"arrowwidth\":1},\"geo\":{\"bgcolor\":\"white\",\"landcolor\":\"white\",\"subunitcolor\":\"#C8D4E3\",\"showland\":true,\"showlakes\":true,\"lakecolor\":\"white\"},\"title\":{\"x\":0.05},\"mapbox\":{\"style\":\"light\"}}},\"xaxis\":{\"anchor\":\"y\",\"domain\":[0.0,1.0],\"title\":{\"text\":\"Service\"},\"categoryorder\":\"array\",\"categoryarray\":[\"Kaafiye\",\"Waafi\",\"Internet\",\"Aqoonmaal\",\"Mushaax\"]},\"yaxis\":{\"anchor\":\"x\",\"domain\":[0.0,1.0],\"title\":{\"text\":\"sum of Likes\"}},\"legend\":{\"title\":{\"text\":\"Service\"},\"tracegroupgap\":0},\"margin\":{\"t\":60},\"barmode\":\"relative\"},                        {\"responsive\": true}                    ).then(function(){\n",
       "                            \n",
       "var gd = document.getElementById('a00ccc1c-1c7e-4829-8ccf-f767d012d7b8');\n",
       "var x = new MutationObserver(function (mutations, observer) {{\n",
       "        var display = window.getComputedStyle(gd).display;\n",
       "        if (!display || display === 'none') {{\n",
       "            console.log([gd, 'removed!']);\n",
       "            Plotly.purge(gd);\n",
       "            observer.disconnect();\n",
       "        }}\n",
       "}});\n",
       "\n",
       "// Listen for the removal of the full notebook cells\n",
       "var notebookContainer = gd.closest('#notebook-container');\n",
       "if (notebookContainer) {{\n",
       "    x.observe(notebookContainer, {childList: true});\n",
       "}}\n",
       "\n",
       "// Listen for the clearing of the current output cell\n",
       "var outputEl = gd.closest('.output');\n",
       "if (outputEl) {{\n",
       "    x.observe(outputEl, {childList: true});\n",
       "}}\n",
       "\n",
       "                        })                };                });            </script>        </div>"
      ]
     },
     "metadata": {},
     "output_type": "display_data"
    }
   ],
   "source": [
    "fig_services = px.histogram(df, x='Service', y='Likes', color='Service')\n",
    "fig_services.show()"
   ]
  },
  {
   "cell_type": "code",
   "execution_count": 25,
   "id": "84439376-2431-432e-a2aa-59ab12f52e13",
   "metadata": {},
   "outputs": [
    {
     "data": {
      "application/vnd.plotly.v1+json": {
       "config": {
        "plotlyServerURL": "https://plot.ly"
       },
       "data": [
        {
         "alignmentgroup": "True",
         "bingroup": "x",
         "histfunc": "sum",
         "hovertemplate": "Service=%{x}<br>sum of Share=%{y}<extra></extra>",
         "legendgroup": "Kaafiye",
         "marker": {
          "color": "#636efa",
          "pattern": {
           "shape": ""
          }
         },
         "name": "Kaafiye",
         "offsetgroup": "Kaafiye",
         "orientation": "v",
         "showlegend": true,
         "type": "histogram",
         "x": [
          "Kaafiye",
          "Kaafiye",
          "Kaafiye",
          "Kaafiye",
          "Kaafiye",
          "Kaafiye",
          "Kaafiye",
          "Kaafiye",
          "Kaafiye",
          "Kaafiye",
          "Kaafiye",
          "Kaafiye",
          "Kaafiye",
          "Kaafiye",
          "Kaafiye",
          "Kaafiye",
          "Kaafiye",
          "Kaafiye",
          "Kaafiye",
          "Kaafiye",
          "Kaafiye",
          "Kaafiye",
          "Kaafiye",
          "Kaafiye",
          "Kaafiye",
          "Kaafiye",
          "Kaafiye",
          "Kaafiye",
          "Kaafiye",
          "Kaafiye",
          "Kaafiye",
          "Kaafiye",
          "Kaafiye",
          "Kaafiye",
          "Kaafiye",
          "Kaafiye",
          "Kaafiye",
          "Kaafiye",
          "Kaafiye",
          "Kaafiye",
          "Kaafiye",
          "Kaafiye",
          "Kaafiye",
          "Kaafiye",
          "Kaafiye",
          "Kaafiye",
          "Kaafiye",
          "Kaafiye",
          "Kaafiye",
          "Kaafiye",
          "Kaafiye",
          "Kaafiye",
          "Kaafiye",
          "Kaafiye",
          "Kaafiye",
          "Kaafiye",
          "Kaafiye",
          "Kaafiye",
          "Kaafiye",
          "Kaafiye",
          "Kaafiye",
          "Kaafiye",
          "Kaafiye",
          "Kaafiye",
          "Kaafiye",
          "Kaafiye",
          "Kaafiye",
          "Kaafiye",
          "Kaafiye",
          "Kaafiye",
          "Kaafiye",
          "Kaafiye",
          "Kaafiye",
          "Kaafiye",
          "Kaafiye",
          "Kaafiye",
          "Kaafiye",
          "Kaafiye",
          "Kaafiye",
          "Kaafiye",
          "Kaafiye",
          "Kaafiye",
          "Kaafiye",
          "Kaafiye",
          "Kaafiye",
          "Kaafiye"
         ],
         "xaxis": "x",
         "y": [
          700,
          167,
          1446,
          2409,
          1621,
          3438,
          3079,
          456,
          2441,
          2260,
          3365,
          4114,
          2182,
          1970,
          2109,
          2977,
          1966,
          4190,
          610,
          3388,
          710,
          3148,
          3301,
          3308,
          1531,
          3868,
          2432,
          1164,
          1834,
          3461,
          3474,
          310,
          1147,
          811,
          1685,
          2547,
          4192,
          4339,
          2295,
          1238,
          3681,
          2467,
          303,
          4099,
          3935,
          4207,
          917,
          2852,
          1587,
          3473,
          400,
          1070,
          3393,
          2365,
          2852,
          1587,
          3473,
          400,
          2852,
          1587,
          3473,
          2852,
          1587,
          3473,
          2852,
          1587,
          3473,
          2852,
          1587,
          3473,
          2852,
          1587,
          3473,
          2852,
          1587,
          3473,
          2852,
          1587,
          3473,
          2852,
          1587,
          3473,
          2852,
          1587,
          3473,
          400
         ],
         "yaxis": "y"
        },
        {
         "alignmentgroup": "True",
         "bingroup": "x",
         "histfunc": "sum",
         "hovertemplate": "Service=%{x}<br>sum of Share=%{y}<extra></extra>",
         "legendgroup": "Waafi",
         "marker": {
          "color": "#EF553B",
          "pattern": {
           "shape": ""
          }
         },
         "name": "Waafi",
         "offsetgroup": "Waafi",
         "orientation": "v",
         "showlegend": true,
         "type": "histogram",
         "x": [
          "Waafi",
          "Waafi",
          "Waafi",
          "Waafi",
          "Waafi",
          "Waafi",
          "Waafi",
          "Waafi",
          "Waafi",
          "Waafi",
          "Waafi",
          "Waafi",
          "Waafi",
          "Waafi",
          "Waafi",
          "Waafi",
          "Waafi",
          "Waafi",
          "Waafi",
          "Waafi",
          "Waafi",
          "Waafi",
          "Waafi",
          "Waafi",
          "Waafi",
          "Waafi",
          "Waafi",
          "Waafi",
          "Waafi",
          "Waafi",
          "Waafi",
          "Waafi",
          "Waafi",
          "Waafi",
          "Waafi",
          "Waafi",
          "Waafi",
          "Waafi",
          "Waafi",
          "Waafi",
          "Waafi",
          "Waafi",
          "Waafi",
          "Waafi",
          "Waafi",
          "Waafi",
          "Waafi",
          "Waafi",
          "Waafi",
          "Waafi",
          "Waafi",
          "Waafi",
          "Waafi",
          "Waafi",
          "Waafi",
          "Waafi",
          "Waafi",
          "Waafi",
          "Waafi",
          "Waafi",
          "Waafi",
          "Waafi",
          "Waafi",
          "Waafi",
          "Waafi",
          "Waafi",
          "Waafi",
          "Waafi",
          "Waafi",
          "Waafi",
          "Waafi",
          "Waafi",
          "Waafi",
          "Waafi",
          "Waafi",
          "Waafi",
          "Waafi",
          "Waafi",
          "Waafi",
          "Waafi",
          "Waafi",
          "Waafi",
          "Waafi",
          "Waafi"
         ],
         "xaxis": "x",
         "y": [
          900,
          4088,
          1344,
          1566,
          3476,
          3192,
          1883,
          247,
          3645,
          3040,
          844,
          3875,
          2412,
          353,
          4126,
          2559,
          2854,
          1135,
          1431,
          4044,
          173,
          1111,
          1648,
          2585,
          2965,
          3840,
          3622,
          4241,
          1136,
          2886,
          1169,
          1223,
          4404,
          2666,
          542,
          1596,
          4388,
          1396,
          2541,
          4486,
          1962,
          656,
          1777,
          2823,
          4275,
          3113,
          3256,
          583,
          4162,
          121,
          3841,
          2087,
          874,
          1958,
          583,
          4162,
          121,
          583,
          4162,
          121,
          583,
          4162,
          121,
          583,
          4162,
          121,
          583,
          4162,
          121,
          583,
          4162,
          121,
          583,
          4162,
          121,
          583,
          4162,
          121,
          583,
          4162,
          121,
          583,
          4162,
          121
         ],
         "yaxis": "y"
        },
        {
         "alignmentgroup": "True",
         "bingroup": "x",
         "histfunc": "sum",
         "hovertemplate": "Service=%{x}<br>sum of Share=%{y}<extra></extra>",
         "legendgroup": "Internet",
         "marker": {
          "color": "#00cc96",
          "pattern": {
           "shape": ""
          }
         },
         "name": "Internet",
         "offsetgroup": "Internet",
         "orientation": "v",
         "showlegend": true,
         "type": "histogram",
         "x": [
          "Internet",
          "Internet",
          "Internet",
          "Internet",
          "Internet",
          "Internet",
          "Internet",
          "Internet",
          "Internet",
          "Internet",
          "Internet",
          "Internet",
          "Internet",
          "Internet",
          "Internet",
          "Internet",
          "Internet",
          "Internet",
          "Internet",
          "Internet",
          "Internet",
          "Internet",
          "Internet",
          "Internet",
          "Internet",
          "Internet",
          "Internet",
          "Internet",
          "Internet",
          "Internet",
          "Internet",
          "Internet",
          "Internet",
          "Internet",
          "Internet",
          "Internet",
          "Internet",
          "Internet",
          "Internet",
          "Internet",
          "Internet",
          "Internet",
          "Internet",
          "Internet",
          "Internet",
          "Internet",
          "Internet",
          "Internet",
          "Internet",
          "Internet",
          "Internet",
          "Internet",
          "Internet",
          "Internet",
          "Internet",
          "Internet",
          "Internet",
          "Internet",
          "Internet",
          "Internet",
          "Internet",
          "Internet",
          "Internet",
          "Internet",
          "Internet",
          "Internet",
          "Internet",
          "Internet",
          "Internet",
          "Internet",
          "Internet",
          "Internet",
          "Internet",
          "Internet",
          "Internet",
          "Internet",
          "Internet",
          "Internet",
          "Internet",
          "Internet",
          "Internet",
          "Internet",
          "Internet",
          "Internet",
          "Internet",
          "Internet",
          "Internet",
          "Internet",
          "Internet",
          "Internet",
          "Internet",
          "Internet",
          "Internet"
         ],
         "xaxis": "x",
         "y": [
          150,
          1697,
          2249,
          3724,
          4114,
          2384,
          1823,
          2665,
          874,
          784,
          925,
          790,
          2126,
          2271,
          441,
          1764,
          2334,
          3159,
          682,
          843,
          3223,
          825,
          1135,
          1259,
          3047,
          1250,
          2817,
          1145,
          2089,
          2001,
          686,
          675,
          4087,
          950,
          2450,
          2530,
          1427,
          867,
          3022,
          680,
          1219,
          2849,
          343,
          402,
          3034,
          1876,
          712,
          1773,
          1476,
          3874,
          439,
          1997,
          1178,
          457,
          712,
          1773,
          1476,
          3874,
          712,
          1773,
          1476,
          712,
          1773,
          1476,
          3874,
          712,
          1773,
          1476,
          3874,
          712,
          1773,
          1476,
          3874,
          712,
          1773,
          1476,
          3874,
          712,
          1773,
          1476,
          3874,
          712,
          1773,
          1476,
          3874,
          712,
          1773,
          1476,
          3874,
          712,
          1773,
          1476,
          3874
         ],
         "yaxis": "y"
        },
        {
         "alignmentgroup": "True",
         "bingroup": "x",
         "histfunc": "sum",
         "hovertemplate": "Service=%{x}<br>sum of Share=%{y}<extra></extra>",
         "legendgroup": "Aqoonmaal",
         "marker": {
          "color": "#ab63fa",
          "pattern": {
           "shape": ""
          }
         },
         "name": "Aqoonmaal",
         "offsetgroup": "Aqoonmaal",
         "orientation": "v",
         "showlegend": true,
         "type": "histogram",
         "x": [
          "Aqoonmaal",
          "Aqoonmaal",
          "Aqoonmaal",
          "Aqoonmaal",
          "Aqoonmaal",
          "Aqoonmaal",
          "Aqoonmaal",
          "Aqoonmaal",
          "Aqoonmaal",
          "Aqoonmaal",
          "Aqoonmaal",
          "Aqoonmaal",
          "Aqoonmaal",
          "Aqoonmaal",
          "Aqoonmaal",
          "Aqoonmaal",
          "Aqoonmaal",
          "Aqoonmaal",
          "Aqoonmaal",
          "Aqoonmaal",
          "Aqoonmaal",
          "Aqoonmaal",
          "Aqoonmaal",
          "Aqoonmaal",
          "Aqoonmaal",
          "Aqoonmaal",
          "Aqoonmaal",
          "Aqoonmaal",
          "Aqoonmaal",
          "Aqoonmaal",
          "Aqoonmaal",
          "Aqoonmaal",
          "Aqoonmaal",
          "Aqoonmaal",
          "Aqoonmaal",
          "Aqoonmaal",
          "Aqoonmaal",
          "Aqoonmaal",
          "Aqoonmaal",
          "Aqoonmaal",
          "Aqoonmaal",
          "Aqoonmaal",
          "Aqoonmaal",
          "Aqoonmaal",
          "Aqoonmaal",
          "Aqoonmaal",
          "Aqoonmaal",
          "Aqoonmaal",
          "Aqoonmaal",
          "Aqoonmaal",
          "Aqoonmaal",
          "Aqoonmaal",
          "Aqoonmaal",
          "Aqoonmaal",
          "Aqoonmaal",
          "Aqoonmaal",
          "Aqoonmaal",
          "Aqoonmaal",
          "Aqoonmaal",
          "Aqoonmaal",
          "Aqoonmaal",
          "Aqoonmaal",
          "Aqoonmaal",
          "Aqoonmaal",
          "Aqoonmaal",
          "Aqoonmaal",
          "Aqoonmaal",
          "Aqoonmaal",
          "Aqoonmaal",
          "Aqoonmaal",
          "Aqoonmaal",
          "Aqoonmaal",
          "Aqoonmaal",
          "Aqoonmaal",
          "Aqoonmaal",
          "Aqoonmaal",
          "Aqoonmaal",
          "Aqoonmaal",
          "Aqoonmaal",
          "Aqoonmaal",
          "Aqoonmaal",
          "Aqoonmaal",
          "Aqoonmaal",
          "Aqoonmaal",
          "Aqoonmaal",
          "Aqoonmaal",
          "Aqoonmaal",
          "Aqoonmaal",
          "Aqoonmaal",
          "Aqoonmaal",
          "Aqoonmaal",
          "Aqoonmaal",
          "Aqoonmaal",
          "Aqoonmaal",
          "Aqoonmaal",
          "Aqoonmaal",
          "Aqoonmaal",
          "Aqoonmaal",
          "Aqoonmaal",
          "Aqoonmaal",
          "Aqoonmaal",
          "Aqoonmaal",
          "Aqoonmaal",
          "Aqoonmaal",
          "Aqoonmaal",
          "Aqoonmaal",
          "Aqoonmaal",
          "Aqoonmaal",
          "Aqoonmaal",
          "Aqoonmaal",
          "Aqoonmaal",
          "Aqoonmaal",
          "Aqoonmaal",
          "Aqoonmaal"
         ],
         "xaxis": "x",
         "y": [
          220,
          3124,
          3987,
          3356,
          3646,
          3418,
          3023,
          1112,
          1448,
          3790,
          3352,
          3757,
          657,
          2775,
          331,
          3034,
          1571,
          1752,
          2800,
          1806,
          1977,
          2126,
          4199,
          3343,
          905,
          4424,
          1983,
          3324,
          1272,
          1344,
          3764,
          2139,
          1751,
          2243,
          606,
          3555,
          336,
          2226,
          3160,
          4353,
          876,
          4381,
          496,
          3056,
          4402,
          2015,
          3206,
          1966,
          4438,
          3239,
          2628,
          1101,
          3757,
          1479,
          2979,
          665,
          4402,
          2015,
          3206,
          1966,
          4438,
          3239,
          4402,
          2015,
          3206,
          1966,
          4438,
          4402,
          2015,
          3206,
          1966,
          4438,
          4402,
          2015,
          3206,
          1966,
          4438,
          3239,
          4402,
          2015,
          3206,
          1966,
          4438,
          3239,
          4402,
          2015,
          3206,
          1966,
          4438,
          3239,
          4402,
          2015,
          3206,
          1966,
          4438,
          3239,
          4402,
          2015,
          3206,
          1966,
          4438,
          3239,
          4402,
          2015,
          3206,
          1966,
          4438,
          3239,
          4402,
          2015,
          3206,
          1966,
          4438,
          3239
         ],
         "yaxis": "y"
        },
        {
         "alignmentgroup": "True",
         "bingroup": "x",
         "histfunc": "sum",
         "hovertemplate": "Service=%{x}<br>sum of Share=%{y}<extra></extra>",
         "legendgroup": "Mushaax",
         "marker": {
          "color": "#FFA15A",
          "pattern": {
           "shape": ""
          }
         },
         "name": "Mushaax",
         "offsetgroup": "Mushaax",
         "orientation": "v",
         "showlegend": true,
         "type": "histogram",
         "x": [
          "Mushaax",
          "Mushaax",
          "Mushaax",
          "Mushaax",
          "Mushaax",
          "Mushaax",
          "Mushaax",
          "Mushaax",
          "Mushaax",
          "Mushaax",
          "Mushaax",
          "Mushaax",
          "Mushaax",
          "Mushaax",
          "Mushaax",
          "Mushaax",
          "Mushaax",
          "Mushaax",
          "Mushaax",
          "Mushaax",
          "Mushaax",
          "Mushaax",
          "Mushaax",
          "Mushaax",
          "Mushaax",
          "Mushaax",
          "Mushaax",
          "Mushaax",
          "Mushaax",
          "Mushaax",
          "Mushaax",
          "Mushaax",
          "Mushaax",
          "Mushaax",
          "Mushaax",
          "Mushaax",
          "Mushaax",
          "Mushaax",
          "Mushaax",
          "Mushaax",
          "Mushaax",
          "Mushaax",
          "Mushaax",
          "Mushaax",
          "Mushaax",
          "Mushaax",
          "Mushaax",
          "Mushaax",
          "Mushaax",
          "Mushaax",
          "Mushaax",
          "Mushaax",
          "Mushaax",
          "Mushaax",
          "Mushaax",
          "Mushaax",
          "Mushaax",
          "Mushaax",
          "Mushaax",
          "Mushaax",
          "Mushaax",
          "Mushaax",
          "Mushaax",
          "Mushaax",
          "Mushaax",
          "Mushaax",
          "Mushaax",
          "Mushaax",
          "Mushaax",
          "Mushaax",
          "Mushaax",
          "Mushaax",
          "Mushaax",
          "Mushaax",
          "Mushaax",
          "Mushaax",
          "Mushaax",
          "Mushaax",
          "Mushaax",
          "Mushaax",
          "Mushaax",
          "Mushaax",
          "Mushaax",
          "Mushaax",
          "Mushaax",
          "Mushaax",
          "Mushaax",
          "Mushaax",
          "Mushaax",
          "Mushaax",
          "Mushaax"
         ],
         "xaxis": "x",
         "y": [
          3553,
          967,
          3705,
          342,
          3072,
          3727,
          3612,
          2963,
          3431,
          1819,
          1522,
          2569,
          2310,
          238,
          763,
          2211,
          4255,
          728,
          123,
          1855,
          3222,
          2112,
          2753,
          1391,
          4474,
          862,
          3667,
          1433,
          3047,
          3544,
          4034,
          1378,
          2563,
          964,
          4068,
          2096,
          3106,
          1929,
          3544,
          2654,
          1693,
          3875,
          2745,
          1630,
          714,
          1390,
          2485,
          504,
          1599,
          1305,
          3913,
          4369,
          1200,
          2485,
          504,
          1599,
          1305,
          2485,
          504,
          1599,
          2485,
          504,
          1599,
          2485,
          504,
          1599,
          1305,
          2485,
          504,
          1599,
          1305,
          2485,
          504,
          1599,
          1305,
          2485,
          504,
          1599,
          1305,
          2485,
          504,
          1599,
          1305,
          2485,
          504,
          1599,
          1305,
          2485,
          504,
          1599,
          1305
         ],
         "yaxis": "y"
        }
       ],
       "layout": {
        "autosize": true,
        "barmode": "relative",
        "legend": {
         "title": {
          "text": "Service"
         },
         "tracegroupgap": 0
        },
        "margin": {
         "t": 60
        },
        "template": {
         "data": {
          "bar": [
           {
            "error_x": {
             "color": "#2a3f5f"
            },
            "error_y": {
             "color": "#2a3f5f"
            },
            "marker": {
             "line": {
              "color": "white",
              "width": 0.5
             },
             "pattern": {
              "fillmode": "overlay",
              "size": 10,
              "solidity": 0.2
             }
            },
            "type": "bar"
           }
          ],
          "barpolar": [
           {
            "marker": {
             "line": {
              "color": "white",
              "width": 0.5
             },
             "pattern": {
              "fillmode": "overlay",
              "size": 10,
              "solidity": 0.2
             }
            },
            "type": "barpolar"
           }
          ],
          "carpet": [
           {
            "aaxis": {
             "endlinecolor": "#2a3f5f",
             "gridcolor": "#C8D4E3",
             "linecolor": "#C8D4E3",
             "minorgridcolor": "#C8D4E3",
             "startlinecolor": "#2a3f5f"
            },
            "baxis": {
             "endlinecolor": "#2a3f5f",
             "gridcolor": "#C8D4E3",
             "linecolor": "#C8D4E3",
             "minorgridcolor": "#C8D4E3",
             "startlinecolor": "#2a3f5f"
            },
            "type": "carpet"
           }
          ],
          "choropleth": [
           {
            "colorbar": {
             "outlinewidth": 0,
             "ticks": ""
            },
            "type": "choropleth"
           }
          ],
          "contour": [
           {
            "colorbar": {
             "outlinewidth": 0,
             "ticks": ""
            },
            "colorscale": [
             [
              0,
              "#0d0887"
             ],
             [
              0.1111111111111111,
              "#46039f"
             ],
             [
              0.2222222222222222,
              "#7201a8"
             ],
             [
              0.3333333333333333,
              "#9c179e"
             ],
             [
              0.4444444444444444,
              "#bd3786"
             ],
             [
              0.5555555555555556,
              "#d8576b"
             ],
             [
              0.6666666666666666,
              "#ed7953"
             ],
             [
              0.7777777777777778,
              "#fb9f3a"
             ],
             [
              0.8888888888888888,
              "#fdca26"
             ],
             [
              1,
              "#f0f921"
             ]
            ],
            "type": "contour"
           }
          ],
          "contourcarpet": [
           {
            "colorbar": {
             "outlinewidth": 0,
             "ticks": ""
            },
            "type": "contourcarpet"
           }
          ],
          "heatmap": [
           {
            "colorbar": {
             "outlinewidth": 0,
             "ticks": ""
            },
            "colorscale": [
             [
              0,
              "#0d0887"
             ],
             [
              0.1111111111111111,
              "#46039f"
             ],
             [
              0.2222222222222222,
              "#7201a8"
             ],
             [
              0.3333333333333333,
              "#9c179e"
             ],
             [
              0.4444444444444444,
              "#bd3786"
             ],
             [
              0.5555555555555556,
              "#d8576b"
             ],
             [
              0.6666666666666666,
              "#ed7953"
             ],
             [
              0.7777777777777778,
              "#fb9f3a"
             ],
             [
              0.8888888888888888,
              "#fdca26"
             ],
             [
              1,
              "#f0f921"
             ]
            ],
            "type": "heatmap"
           }
          ],
          "heatmapgl": [
           {
            "colorbar": {
             "outlinewidth": 0,
             "ticks": ""
            },
            "colorscale": [
             [
              0,
              "#0d0887"
             ],
             [
              0.1111111111111111,
              "#46039f"
             ],
             [
              0.2222222222222222,
              "#7201a8"
             ],
             [
              0.3333333333333333,
              "#9c179e"
             ],
             [
              0.4444444444444444,
              "#bd3786"
             ],
             [
              0.5555555555555556,
              "#d8576b"
             ],
             [
              0.6666666666666666,
              "#ed7953"
             ],
             [
              0.7777777777777778,
              "#fb9f3a"
             ],
             [
              0.8888888888888888,
              "#fdca26"
             ],
             [
              1,
              "#f0f921"
             ]
            ],
            "type": "heatmapgl"
           }
          ],
          "histogram": [
           {
            "marker": {
             "pattern": {
              "fillmode": "overlay",
              "size": 10,
              "solidity": 0.2
             }
            },
            "type": "histogram"
           }
          ],
          "histogram2d": [
           {
            "colorbar": {
             "outlinewidth": 0,
             "ticks": ""
            },
            "colorscale": [
             [
              0,
              "#0d0887"
             ],
             [
              0.1111111111111111,
              "#46039f"
             ],
             [
              0.2222222222222222,
              "#7201a8"
             ],
             [
              0.3333333333333333,
              "#9c179e"
             ],
             [
              0.4444444444444444,
              "#bd3786"
             ],
             [
              0.5555555555555556,
              "#d8576b"
             ],
             [
              0.6666666666666666,
              "#ed7953"
             ],
             [
              0.7777777777777778,
              "#fb9f3a"
             ],
             [
              0.8888888888888888,
              "#fdca26"
             ],
             [
              1,
              "#f0f921"
             ]
            ],
            "type": "histogram2d"
           }
          ],
          "histogram2dcontour": [
           {
            "colorbar": {
             "outlinewidth": 0,
             "ticks": ""
            },
            "colorscale": [
             [
              0,
              "#0d0887"
             ],
             [
              0.1111111111111111,
              "#46039f"
             ],
             [
              0.2222222222222222,
              "#7201a8"
             ],
             [
              0.3333333333333333,
              "#9c179e"
             ],
             [
              0.4444444444444444,
              "#bd3786"
             ],
             [
              0.5555555555555556,
              "#d8576b"
             ],
             [
              0.6666666666666666,
              "#ed7953"
             ],
             [
              0.7777777777777778,
              "#fb9f3a"
             ],
             [
              0.8888888888888888,
              "#fdca26"
             ],
             [
              1,
              "#f0f921"
             ]
            ],
            "type": "histogram2dcontour"
           }
          ],
          "mesh3d": [
           {
            "colorbar": {
             "outlinewidth": 0,
             "ticks": ""
            },
            "type": "mesh3d"
           }
          ],
          "parcoords": [
           {
            "line": {
             "colorbar": {
              "outlinewidth": 0,
              "ticks": ""
             }
            },
            "type": "parcoords"
           }
          ],
          "pie": [
           {
            "automargin": true,
            "type": "pie"
           }
          ],
          "scatter": [
           {
            "fillpattern": {
             "fillmode": "overlay",
             "size": 10,
             "solidity": 0.2
            },
            "type": "scatter"
           }
          ],
          "scatter3d": [
           {
            "line": {
             "colorbar": {
              "outlinewidth": 0,
              "ticks": ""
             }
            },
            "marker": {
             "colorbar": {
              "outlinewidth": 0,
              "ticks": ""
             }
            },
            "type": "scatter3d"
           }
          ],
          "scattercarpet": [
           {
            "marker": {
             "colorbar": {
              "outlinewidth": 0,
              "ticks": ""
             }
            },
            "type": "scattercarpet"
           }
          ],
          "scattergeo": [
           {
            "marker": {
             "colorbar": {
              "outlinewidth": 0,
              "ticks": ""
             }
            },
            "type": "scattergeo"
           }
          ],
          "scattergl": [
           {
            "marker": {
             "colorbar": {
              "outlinewidth": 0,
              "ticks": ""
             }
            },
            "type": "scattergl"
           }
          ],
          "scattermapbox": [
           {
            "marker": {
             "colorbar": {
              "outlinewidth": 0,
              "ticks": ""
             }
            },
            "type": "scattermapbox"
           }
          ],
          "scatterpolar": [
           {
            "marker": {
             "colorbar": {
              "outlinewidth": 0,
              "ticks": ""
             }
            },
            "type": "scatterpolar"
           }
          ],
          "scatterpolargl": [
           {
            "marker": {
             "colorbar": {
              "outlinewidth": 0,
              "ticks": ""
             }
            },
            "type": "scatterpolargl"
           }
          ],
          "scatterternary": [
           {
            "marker": {
             "colorbar": {
              "outlinewidth": 0,
              "ticks": ""
             }
            },
            "type": "scatterternary"
           }
          ],
          "surface": [
           {
            "colorbar": {
             "outlinewidth": 0,
             "ticks": ""
            },
            "colorscale": [
             [
              0,
              "#0d0887"
             ],
             [
              0.1111111111111111,
              "#46039f"
             ],
             [
              0.2222222222222222,
              "#7201a8"
             ],
             [
              0.3333333333333333,
              "#9c179e"
             ],
             [
              0.4444444444444444,
              "#bd3786"
             ],
             [
              0.5555555555555556,
              "#d8576b"
             ],
             [
              0.6666666666666666,
              "#ed7953"
             ],
             [
              0.7777777777777778,
              "#fb9f3a"
             ],
             [
              0.8888888888888888,
              "#fdca26"
             ],
             [
              1,
              "#f0f921"
             ]
            ],
            "type": "surface"
           }
          ],
          "table": [
           {
            "cells": {
             "fill": {
              "color": "#EBF0F8"
             },
             "line": {
              "color": "white"
             }
            },
            "header": {
             "fill": {
              "color": "#C8D4E3"
             },
             "line": {
              "color": "white"
             }
            },
            "type": "table"
           }
          ]
         },
         "layout": {
          "annotationdefaults": {
           "arrowcolor": "#2a3f5f",
           "arrowhead": 0,
           "arrowwidth": 1
          },
          "autotypenumbers": "strict",
          "coloraxis": {
           "colorbar": {
            "outlinewidth": 0,
            "ticks": ""
           }
          },
          "colorscale": {
           "diverging": [
            [
             0,
             "#8e0152"
            ],
            [
             0.1,
             "#c51b7d"
            ],
            [
             0.2,
             "#de77ae"
            ],
            [
             0.3,
             "#f1b6da"
            ],
            [
             0.4,
             "#fde0ef"
            ],
            [
             0.5,
             "#f7f7f7"
            ],
            [
             0.6,
             "#e6f5d0"
            ],
            [
             0.7,
             "#b8e186"
            ],
            [
             0.8,
             "#7fbc41"
            ],
            [
             0.9,
             "#4d9221"
            ],
            [
             1,
             "#276419"
            ]
           ],
           "sequential": [
            [
             0,
             "#0d0887"
            ],
            [
             0.1111111111111111,
             "#46039f"
            ],
            [
             0.2222222222222222,
             "#7201a8"
            ],
            [
             0.3333333333333333,
             "#9c179e"
            ],
            [
             0.4444444444444444,
             "#bd3786"
            ],
            [
             0.5555555555555556,
             "#d8576b"
            ],
            [
             0.6666666666666666,
             "#ed7953"
            ],
            [
             0.7777777777777778,
             "#fb9f3a"
            ],
            [
             0.8888888888888888,
             "#fdca26"
            ],
            [
             1,
             "#f0f921"
            ]
           ],
           "sequentialminus": [
            [
             0,
             "#0d0887"
            ],
            [
             0.1111111111111111,
             "#46039f"
            ],
            [
             0.2222222222222222,
             "#7201a8"
            ],
            [
             0.3333333333333333,
             "#9c179e"
            ],
            [
             0.4444444444444444,
             "#bd3786"
            ],
            [
             0.5555555555555556,
             "#d8576b"
            ],
            [
             0.6666666666666666,
             "#ed7953"
            ],
            [
             0.7777777777777778,
             "#fb9f3a"
            ],
            [
             0.8888888888888888,
             "#fdca26"
            ],
            [
             1,
             "#f0f921"
            ]
           ]
          },
          "colorway": [
           "#636efa",
           "#EF553B",
           "#00cc96",
           "#ab63fa",
           "#FFA15A",
           "#19d3f3",
           "#FF6692",
           "#B6E880",
           "#FF97FF",
           "#FECB52"
          ],
          "font": {
           "color": "#2a3f5f"
          },
          "geo": {
           "bgcolor": "white",
           "lakecolor": "white",
           "landcolor": "white",
           "showlakes": true,
           "showland": true,
           "subunitcolor": "#C8D4E3"
          },
          "hoverlabel": {
           "align": "left"
          },
          "hovermode": "closest",
          "mapbox": {
           "style": "light"
          },
          "paper_bgcolor": "white",
          "plot_bgcolor": "white",
          "polar": {
           "angularaxis": {
            "gridcolor": "#EBF0F8",
            "linecolor": "#EBF0F8",
            "ticks": ""
           },
           "bgcolor": "white",
           "radialaxis": {
            "gridcolor": "#EBF0F8",
            "linecolor": "#EBF0F8",
            "ticks": ""
           }
          },
          "scene": {
           "xaxis": {
            "backgroundcolor": "white",
            "gridcolor": "#DFE8F3",
            "gridwidth": 2,
            "linecolor": "#EBF0F8",
            "showbackground": true,
            "ticks": "",
            "zerolinecolor": "#EBF0F8"
           },
           "yaxis": {
            "backgroundcolor": "white",
            "gridcolor": "#DFE8F3",
            "gridwidth": 2,
            "linecolor": "#EBF0F8",
            "showbackground": true,
            "ticks": "",
            "zerolinecolor": "#EBF0F8"
           },
           "zaxis": {
            "backgroundcolor": "white",
            "gridcolor": "#DFE8F3",
            "gridwidth": 2,
            "linecolor": "#EBF0F8",
            "showbackground": true,
            "ticks": "",
            "zerolinecolor": "#EBF0F8"
           }
          },
          "shapedefaults": {
           "line": {
            "color": "#2a3f5f"
           }
          },
          "ternary": {
           "aaxis": {
            "gridcolor": "#DFE8F3",
            "linecolor": "#A2B1C6",
            "ticks": ""
           },
           "baxis": {
            "gridcolor": "#DFE8F3",
            "linecolor": "#A2B1C6",
            "ticks": ""
           },
           "bgcolor": "white",
           "caxis": {
            "gridcolor": "#DFE8F3",
            "linecolor": "#A2B1C6",
            "ticks": ""
           }
          },
          "title": {
           "x": 0.05
          },
          "xaxis": {
           "automargin": true,
           "gridcolor": "#EBF0F8",
           "linecolor": "#EBF0F8",
           "ticks": "",
           "title": {
            "standoff": 15
           },
           "zerolinecolor": "#EBF0F8",
           "zerolinewidth": 2
          },
          "yaxis": {
           "automargin": true,
           "gridcolor": "#EBF0F8",
           "linecolor": "#EBF0F8",
           "ticks": "",
           "title": {
            "standoff": 15
           },
           "zerolinecolor": "#EBF0F8",
           "zerolinewidth": 2
          }
         }
        },
        "xaxis": {
         "anchor": "y",
         "autorange": true,
         "categoryarray": [
          "Kaafiye",
          "Waafi",
          "Internet",
          "Aqoonmaal",
          "Mushaax"
         ],
         "categoryorder": "array",
         "domain": [
          0,
          1
         ],
         "range": [
          -0.5,
          4.5
         ],
         "title": {
          "text": "Service"
         },
         "type": "category"
        },
        "yaxis": {
         "anchor": "x",
         "autorange": true,
         "domain": [
          0,
          1
         ],
         "range": [
          0,
          341952.63157894736
         ],
         "title": {
          "text": "sum of Share"
         },
         "type": "linear"
        }
       }
      },
      "image/png": "[encoded data removed]",
      "text/html": [
       "<div>                            <div id=\"dd2ab287-c881-428d-a661-89ca2740d194\" class=\"plotly-graph-div\" style=\"height:525px; width:100%;\"></div>            <script type=\"text/javascript\">                require([\"plotly\"], function(Plotly) {                    window.PLOTLYENV=window.PLOTLYENV || {};                                    if (document.getElementById(\"dd2ab287-c881-428d-a661-89ca2740d194\")) {                    Plotly.newPlot(                        \"dd2ab287-c881-428d-a661-89ca2740d194\",                        [{\"alignmentgroup\":\"True\",\"bingroup\":\"x\",\"histfunc\":\"sum\",\"hovertemplate\":\"Service=%{x}<br>sum of Share=%{y}<extra></extra>\",\"legendgroup\":\"Kaafiye\",\"marker\":{\"color\":\"#636efa\",\"pattern\":{\"shape\":\"\"}},\"name\":\"Kaafiye\",\"offsetgroup\":\"Kaafiye\",\"orientation\":\"v\",\"showlegend\":true,\"x\":[\"Kaafiye\",\"Kaafiye\",\"Kaafiye\",\"Kaafiye\",\"Kaafiye\",\"Kaafiye\",\"Kaafiye\",\"Kaafiye\",\"Kaafiye\",\"Kaafiye\",\"Kaafiye\",\"Kaafiye\",\"Kaafiye\",\"Kaafiye\",\"Kaafiye\",\"Kaafiye\",\"Kaafiye\",\"Kaafiye\",\"Kaafiye\",\"Kaafiye\",\"Kaafiye\",\"Kaafiye\",\"Kaafiye\",\"Kaafiye\",\"Kaafiye\",\"Kaafiye\",\"Kaafiye\",\"Kaafiye\",\"Kaafiye\",\"Kaafiye\",\"Kaafiye\",\"Kaafiye\",\"Kaafiye\",\"Kaafiye\",\"Kaafiye\",\"Kaafiye\",\"Kaafiye\",\"Kaafiye\",\"Kaafiye\",\"Kaafiye\",\"Kaafiye\",\"Kaafiye\",\"Kaafiye\",\"Kaafiye\",\"Kaafiye\",\"Kaafiye\",\"Kaafiye\",\"Kaafiye\",\"Kaafiye\",\"Kaafiye\",\"Kaafiye\",\"Kaafiye\",\"Kaafiye\",\"Kaafiye\",\"Kaafiye\",\"Kaafiye\",\"Kaafiye\",\"Kaafiye\",\"Kaafiye\",\"Kaafiye\",\"Kaafiye\",\"Kaafiye\",\"Kaafiye\",\"Kaafiye\",\"Kaafiye\",\"Kaafiye\",\"Kaafiye\",\"Kaafiye\",\"Kaafiye\",\"Kaafiye\",\"Kaafiye\",\"Kaafiye\",\"Kaafiye\",\"Kaafiye\",\"Kaafiye\",\"Kaafiye\",\"Kaafiye\",\"Kaafiye\",\"Kaafiye\",\"Kaafiye\",\"Kaafiye\",\"Kaafiye\",\"Kaafiye\",\"Kaafiye\",\"Kaafiye\",\"Kaafiye\"],\"xaxis\":\"x\",\"y\":[700,167,1446,2409,1621,3438,3079,456,2441,2260,3365,4114,2182,1970,2109,2977,1966,4190,610,3388,710,3148,3301,3308,1531,3868,2432,1164,1834,3461,3474,310,1147,811,1685,2547,4192,4339,2295,1238,3681,2467,303,4099,3935,4207,917,2852,1587,3473,400,1070,3393,2365,2852,1587,3473,400,2852,1587,3473,2852,1587,3473,2852,1587,3473,2852,1587,3473,2852,1587,3473,2852,1587,3473,2852,1587,3473,2852,1587,3473,2852,1587,3473,400],\"yaxis\":\"y\",\"type\":\"histogram\"},{\"alignmentgroup\":\"True\",\"bingroup\":\"x\",\"histfunc\":\"sum\",\"hovertemplate\":\"Service=%{x}<br>sum of Share=%{y}<extra></extra>\",\"legendgroup\":\"Waafi\",\"marker\":{\"color\":\"#EF553B\",\"pattern\":{\"shape\":\"\"}},\"name\":\"Waafi\",\"offsetgroup\":\"Waafi\",\"orientation\":\"v\",\"showlegend\":true,\"x\":[\"Waafi\",\"Waafi\",\"Waafi\",\"Waafi\",\"Waafi\",\"Waafi\",\"Waafi\",\"Waafi\",\"Waafi\",\"Waafi\",\"Waafi\",\"Waafi\",\"Waafi\",\"Waafi\",\"Waafi\",\"Waafi\",\"Waafi\",\"Waafi\",\"Waafi\",\"Waafi\",\"Waafi\",\"Waafi\",\"Waafi\",\"Waafi\",\"Waafi\",\"Waafi\",\"Waafi\",\"Waafi\",\"Waafi\",\"Waafi\",\"Waafi\",\"Waafi\",\"Waafi\",\"Waafi\",\"Waafi\",\"Waafi\",\"Waafi\",\"Waafi\",\"Waafi\",\"Waafi\",\"Waafi\",\"Waafi\",\"Waafi\",\"Waafi\",\"Waafi\",\"Waafi\",\"Waafi\",\"Waafi\",\"Waafi\",\"Waafi\",\"Waafi\",\"Waafi\",\"Waafi\",\"Waafi\",\"Waafi\",\"Waafi\",\"Waafi\",\"Waafi\",\"Waafi\",\"Waafi\",\"Waafi\",\"Waafi\",\"Waafi\",\"Waafi\",\"Waafi\",\"Waafi\",\"Waafi\",\"Waafi\",\"Waafi\",\"Waafi\",\"Waafi\",\"Waafi\",\"Waafi\",\"Waafi\",\"Waafi\",\"Waafi\",\"Waafi\",\"Waafi\",\"Waafi\",\"Waafi\",\"Waafi\",\"Waafi\",\"Waafi\",\"Waafi\"],\"xaxis\":\"x\",\"y\":[900,4088,1344,1566,3476,3192,1883,247,3645,3040,844,3875,2412,353,4126,2559,2854,1135,1431,4044,173,1111,1648,2585,2965,3840,3622,4241,1136,2886,1169,1223,4404,2666,542,1596,4388,1396,2541,4486,1962,656,1777,2823,4275,3113,3256,583,4162,121,3841,2087,874,1958,583,4162,121,583,4162,121,583,4162,121,583,4162,121,583,4162,121,583,4162,121,583,4162,121,583,4162,121,583,4162,121,583,4162,121],\"yaxis\":\"y\",\"type\":\"histogram\"},{\"alignmentgroup\":\"True\",\"bingroup\":\"x\",\"histfunc\":\"sum\",\"hovertemplate\":\"Service=%{x}<br>sum of Share=%{y}<extra></extra>\",\"legendgroup\":\"Internet\",\"marker\":{\"color\":\"#00cc96\",\"pattern\":{\"shape\":\"\"}},\"name\":\"Internet\",\"offsetgroup\":\"Internet\",\"orientation\":\"v\",\"showlegend\":true,\"x\":[\"Internet\",\"Internet\",\"Internet\",\"Internet\",\"Internet\",\"Internet\",\"Internet\",\"Internet\",\"Internet\",\"Internet\",\"Internet\",\"Internet\",\"Internet\",\"Internet\",\"Internet\",\"Internet\",\"Internet\",\"Internet\",\"Internet\",\"Internet\",\"Internet\",\"Internet\",\"Internet\",\"Internet\",\"Internet\",\"Internet\",\"Internet\",\"Internet\",\"Internet\",\"Internet\",\"Internet\",\"Internet\",\"Internet\",\"Internet\",\"Internet\",\"Internet\",\"Internet\",\"Internet\",\"Internet\",\"Internet\",\"Internet\",\"Internet\",\"Internet\",\"Internet\",\"Internet\",\"Internet\",\"Internet\",\"Internet\",\"Internet\",\"Internet\",\"Internet\",\"Internet\",\"Internet\",\"Internet\",\"Internet\",\"Internet\",\"Internet\",\"Internet\",\"Internet\",\"Internet\",\"Internet\",\"Internet\",\"Internet\",\"Internet\",\"Internet\",\"Internet\",\"Internet\",\"Internet\",\"Internet\",\"Internet\",\"Internet\",\"Internet\",\"Internet\",\"Internet\",\"Internet\",\"Internet\",\"Internet\",\"Internet\",\"Internet\",\"Internet\",\"Internet\",\"Internet\",\"Internet\",\"Internet\",\"Internet\",\"Internet\",\"Internet\",\"Internet\",\"Internet\",\"Internet\",\"Internet\",\"Internet\",\"Internet\"],\"xaxis\":\"x\",\"y\":[150,1697,2249,3724,4114,2384,1823,2665,874,784,925,790,2126,2271,441,1764,2334,3159,682,843,3223,825,1135,1259,3047,1250,2817,1145,2089,2001,686,675,4087,950,2450,2530,1427,867,3022,680,1219,2849,343,402,3034,1876,712,1773,1476,3874,439,1997,1178,457,712,1773,1476,3874,712,1773,1476,712,1773,1476,3874,712,1773,1476,3874,712,1773,1476,3874,712,1773,1476,3874,712,1773,1476,3874,712,1773,1476,3874,712,1773,1476,3874,712,1773,1476,3874],\"yaxis\":\"y\",\"type\":\"histogram\"},{\"alignmentgroup\":\"True\",\"bingroup\":\"x\",\"histfunc\":\"sum\",\"hovertemplate\":\"Service=%{x}<br>sum of Share=%{y}<extra></extra>\",\"legendgroup\":\"Aqoonmaal\",\"marker\":{\"color\":\"#ab63fa\",\"pattern\":{\"shape\":\"\"}},\"name\":\"Aqoonmaal\",\"offsetgroup\":\"Aqoonmaal\",\"orientation\":\"v\",\"showlegend\":true,\"x\":[\"Aqoonmaal\",\"Aqoonmaal\",\"Aqoonmaal\",\"Aqoonmaal\",\"Aqoonmaal\",\"Aqoonmaal\",\"Aqoonmaal\",\"Aqoonmaal\",\"Aqoonmaal\",\"Aqoonmaal\",\"Aqoonmaal\",\"Aqoonmaal\",\"Aqoonmaal\",\"Aqoonmaal\",\"Aqoonmaal\",\"Aqoonmaal\",\"Aqoonmaal\",\"Aqoonmaal\",\"Aqoonmaal\",\"Aqoonmaal\",\"Aqoonmaal\",\"Aqoonmaal\",\"Aqoonmaal\",\"Aqoonmaal\",\"Aqoonmaal\",\"Aqoonmaal\",\"Aqoonmaal\",\"Aqoonmaal\",\"Aqoonmaal\",\"Aqoonmaal\",\"Aqoonmaal\",\"Aqoonmaal\",\"Aqoonmaal\",\"Aqoonmaal\",\"Aqoonmaal\",\"Aqoonmaal\",\"Aqoonmaal\",\"Aqoonmaal\",\"Aqoonmaal\",\"Aqoonmaal\",\"Aqoonmaal\",\"Aqoonmaal\",\"Aqoonmaal\",\"Aqoonmaal\",\"Aqoonmaal\",\"Aqoonmaal\",\"Aqoonmaal\",\"Aqoonmaal\",\"Aqoonmaal\",\"Aqoonmaal\",\"Aqoonmaal\",\"Aqoonmaal\",\"Aqoonmaal\",\"Aqoonmaal\",\"Aqoonmaal\",\"Aqoonmaal\",\"Aqoonmaal\",\"Aqoonmaal\",\"Aqoonmaal\",\"Aqoonmaal\",\"Aqoonmaal\",\"Aqoonmaal\",\"Aqoonmaal\",\"Aqoonmaal\",\"Aqoonmaal\",\"Aqoonmaal\",\"Aqoonmaal\",\"Aqoonmaal\",\"Aqoonmaal\",\"Aqoonmaal\",\"Aqoonmaal\",\"Aqoonmaal\",\"Aqoonmaal\",\"Aqoonmaal\",\"Aqoonmaal\",\"Aqoonmaal\",\"Aqoonmaal\",\"Aqoonmaal\",\"Aqoonmaal\",\"Aqoonmaal\",\"Aqoonmaal\",\"Aqoonmaal\",\"Aqoonmaal\",\"Aqoonmaal\",\"Aqoonmaal\",\"Aqoonmaal\",\"Aqoonmaal\",\"Aqoonmaal\",\"Aqoonmaal\",\"Aqoonmaal\",\"Aqoonmaal\",\"Aqoonmaal\",\"Aqoonmaal\",\"Aqoonmaal\",\"Aqoonmaal\",\"Aqoonmaal\",\"Aqoonmaal\",\"Aqoonmaal\",\"Aqoonmaal\",\"Aqoonmaal\",\"Aqoonmaal\",\"Aqoonmaal\",\"Aqoonmaal\",\"Aqoonmaal\",\"Aqoonmaal\",\"Aqoonmaal\",\"Aqoonmaal\",\"Aqoonmaal\",\"Aqoonmaal\",\"Aqoonmaal\",\"Aqoonmaal\",\"Aqoonmaal\",\"Aqoonmaal\",\"Aqoonmaal\"],\"xaxis\":\"x\",\"y\":[220,3124,3987,3356,3646,3418,3023,1112,1448,3790,3352,3757,657,2775,331,3034,1571,1752,2800,1806,1977,2126,4199,3343,905,4424,1983,3324,1272,1344,3764,2139,1751,2243,606,3555,336,2226,3160,4353,876,4381,496,3056,4402,2015,3206,1966,4438,3239,2628,1101,3757,1479,2979,665,4402,2015,3206,1966,4438,3239,4402,2015,3206,1966,4438,4402,2015,3206,1966,4438,4402,2015,3206,1966,4438,3239,4402,2015,3206,1966,4438,3239,4402,2015,3206,1966,4438,3239,4402,2015,3206,1966,4438,3239,4402,2015,3206,1966,4438,3239,4402,2015,3206,1966,4438,3239,4402,2015,3206,1966,4438,3239],\"yaxis\":\"y\",\"type\":\"histogram\"},{\"alignmentgroup\":\"True\",\"bingroup\":\"x\",\"histfunc\":\"sum\",\"hovertemplate\":\"Service=%{x}<br>sum of Share=%{y}<extra></extra>\",\"legendgroup\":\"Mushaax\",\"marker\":{\"color\":\"#FFA15A\",\"pattern\":{\"shape\":\"\"}},\"name\":\"Mushaax\",\"offsetgroup\":\"Mushaax\",\"orientation\":\"v\",\"showlegend\":true,\"x\":[\"Mushaax\",\"Mushaax\",\"Mushaax\",\"Mushaax\",\"Mushaax\",\"Mushaax\",\"Mushaax\",\"Mushaax\",\"Mushaax\",\"Mushaax\",\"Mushaax\",\"Mushaax\",\"Mushaax\",\"Mushaax\",\"Mushaax\",\"Mushaax\",\"Mushaax\",\"Mushaax\",\"Mushaax\",\"Mushaax\",\"Mushaax\",\"Mushaax\",\"Mushaax\",\"Mushaax\",\"Mushaax\",\"Mushaax\",\"Mushaax\",\"Mushaax\",\"Mushaax\",\"Mushaax\",\"Mushaax\",\"Mushaax\",\"Mushaax\",\"Mushaax\",\"Mushaax\",\"Mushaax\",\"Mushaax\",\"Mushaax\",\"Mushaax\",\"Mushaax\",\"Mushaax\",\"Mushaax\",\"Mushaax\",\"Mushaax\",\"Mushaax\",\"Mushaax\",\"Mushaax\",\"Mushaax\",\"Mushaax\",\"Mushaax\",\"Mushaax\",\"Mushaax\",\"Mushaax\",\"Mushaax\",\"Mushaax\",\"Mushaax\",\"Mushaax\",\"Mushaax\",\"Mushaax\",\"Mushaax\",\"Mushaax\",\"Mushaax\",\"Mushaax\",\"Mushaax\",\"Mushaax\",\"Mushaax\",\"Mushaax\",\"Mushaax\",\"Mushaax\",\"Mushaax\",\"Mushaax\",\"Mushaax\",\"Mushaax\",\"Mushaax\",\"Mushaax\",\"Mushaax\",\"Mushaax\",\"Mushaax\",\"Mushaax\",\"Mushaax\",\"Mushaax\",\"Mushaax\",\"Mushaax\",\"Mushaax\",\"Mushaax\",\"Mushaax\",\"Mushaax\",\"Mushaax\",\"Mushaax\",\"Mushaax\",\"Mushaax\"],\"xaxis\":\"x\",\"y\":[3553,967,3705,342,3072,3727,3612,2963,3431,1819,1522,2569,2310,238,763,2211,4255,728,123,1855,3222,2112,2753,1391,4474,862,3667,1433,3047,3544,4034,1378,2563,964,4068,2096,3106,1929,3544,2654,1693,3875,2745,1630,714,1390,2485,504,1599,1305,3913,4369,1200,2485,504,1599,1305,2485,504,1599,2485,504,1599,2485,504,1599,1305,2485,504,1599,1305,2485,504,1599,1305,2485,504,1599,1305,2485,504,1599,1305,2485,504,1599,1305,2485,504,1599,1305],\"yaxis\":\"y\",\"type\":\"histogram\"}],                        {\"template\":{\"data\":{\"histogram2dcontour\":[{\"type\":\"histogram2dcontour\",\"colorbar\":{\"outlinewidth\":0,\"ticks\":\"\"},\"colorscale\":[[0.0,\"#0d0887\"],[0.1111111111111111,\"#46039f\"],[0.2222222222222222,\"#7201a8\"],[0.3333333333333333,\"#9c179e\"],[0.4444444444444444,\"#bd3786\"],[0.5555555555555556,\"#d8576b\"],[0.6666666666666666,\"#ed7953\"],[0.7777777777777778,\"#fb9f3a\"],[0.8888888888888888,\"#fdca26\"],[1.0,\"#f0f921\"]]}],\"choropleth\":[{\"type\":\"choropleth\",\"colorbar\":{\"outlinewidth\":0,\"ticks\":\"\"}}],\"histogram2d\":[{\"type\":\"histogram2d\",\"colorbar\":{\"outlinewidth\":0,\"ticks\":\"\"},\"colorscale\":[[0.0,\"#0d0887\"],[0.1111111111111111,\"#46039f\"],[0.2222222222222222,\"#7201a8\"],[0.3333333333333333,\"#9c179e\"],[0.4444444444444444,\"#bd3786\"],[0.5555555555555556,\"#d8576b\"],[0.6666666666666666,\"#ed7953\"],[0.7777777777777778,\"#fb9f3a\"],[0.8888888888888888,\"#fdca26\"],[1.0,\"#f0f921\"]]}],\"heatmap\":[{\"type\":\"heatmap\",\"colorbar\":{\"outlinewidth\":0,\"ticks\":\"\"},\"colorscale\":[[0.0,\"#0d0887\"],[0.1111111111111111,\"#46039f\"],[0.2222222222222222,\"#7201a8\"],[0.3333333333333333,\"#9c179e\"],[0.4444444444444444,\"#bd3786\"],[0.5555555555555556,\"#d8576b\"],[0.6666666666666666,\"#ed7953\"],[0.7777777777777778,\"#fb9f3a\"],[0.8888888888888888,\"#fdca26\"],[1.0,\"#f0f921\"]]}],\"heatmapgl\":[{\"type\":\"heatmapgl\",\"colorbar\":{\"outlinewidth\":0,\"ticks\":\"\"},\"colorscale\":[[0.0,\"#0d0887\"],[0.1111111111111111,\"#46039f\"],[0.2222222222222222,\"#7201a8\"],[0.3333333333333333,\"#9c179e\"],[0.4444444444444444,\"#bd3786\"],[0.5555555555555556,\"#d8576b\"],[0.6666666666666666,\"#ed7953\"],[0.7777777777777778,\"#fb9f3a\"],[0.8888888888888888,\"#fdca26\"],[1.0,\"#f0f921\"]]}],\"contourcarpet\":[{\"type\":\"contourcarpet\",\"colorbar\":{\"outlinewidth\":0,\"ticks\":\"\"}}],\"contour\":[{\"type\":\"contour\",\"colorbar\":{\"outlinewidth\":0,\"ticks\":\"\"},\"colorscale\":[[0.0,\"#0d0887\"],[0.1111111111111111,\"#46039f\"],[0.2222222222222222,\"#7201a8\"],[0.3333333333333333,\"#9c179e\"],[0.4444444444444444,\"#bd3786\"],[0.5555555555555556,\"#d8576b\"],[0.6666666666666666,\"#ed7953\"],[0.7777777777777778,\"#fb9f3a\"],[0.8888888888888888,\"#fdca26\"],[1.0,\"#f0f921\"]]}],\"surface\":[{\"type\":\"surface\",\"colorbar\":{\"outlinewidth\":0,\"ticks\":\"\"},\"colorscale\":[[0.0,\"#0d0887\"],[0.1111111111111111,\"#46039f\"],[0.2222222222222222,\"#7201a8\"],[0.3333333333333333,\"#9c179e\"],[0.4444444444444444,\"#bd3786\"],[0.5555555555555556,\"#d8576b\"],[0.6666666666666666,\"#ed7953\"],[0.7777777777777778,\"#fb9f3a\"],[0.8888888888888888,\"#fdca26\"],[1.0,\"#f0f921\"]]}],\"mesh3d\":[{\"type\":\"mesh3d\",\"colorbar\":{\"outlinewidth\":0,\"ticks\":\"\"}}],\"scatter\":[{\"fillpattern\":{\"fillmode\":\"overlay\",\"size\":10,\"solidity\":0.2},\"type\":\"scatter\"}],\"parcoords\":[{\"type\":\"parcoords\",\"line\":{\"colorbar\":{\"outlinewidth\":0,\"ticks\":\"\"}}}],\"scatterpolargl\":[{\"type\":\"scatterpolargl\",\"marker\":{\"colorbar\":{\"outlinewidth\":0,\"ticks\":\"\"}}}],\"bar\":[{\"error_x\":{\"color\":\"#2a3f5f\"},\"error_y\":{\"color\":\"#2a3f5f\"},\"marker\":{\"line\":{\"color\":\"white\",\"width\":0.5},\"pattern\":{\"fillmode\":\"overlay\",\"size\":10,\"solidity\":0.2}},\"type\":\"bar\"}],\"scattergeo\":[{\"type\":\"scattergeo\",\"marker\":{\"colorbar\":{\"outlinewidth\":0,\"ticks\":\"\"}}}],\"scatterpolar\":[{\"type\":\"scatterpolar\",\"marker\":{\"colorbar\":{\"outlinewidth\":0,\"ticks\":\"\"}}}],\"histogram\":[{\"marker\":{\"pattern\":{\"fillmode\":\"overlay\",\"size\":10,\"solidity\":0.2}},\"type\":\"histogram\"}],\"scattergl\":[{\"type\":\"scattergl\",\"marker\":{\"colorbar\":{\"outlinewidth\":0,\"ticks\":\"\"}}}],\"scatter3d\":[{\"type\":\"scatter3d\",\"line\":{\"colorbar\":{\"outlinewidth\":0,\"ticks\":\"\"}},\"marker\":{\"colorbar\":{\"outlinewidth\":0,\"ticks\":\"\"}}}],\"scattermapbox\":[{\"type\":\"scattermapbox\",\"marker\":{\"colorbar\":{\"outlinewidth\":0,\"ticks\":\"\"}}}],\"scatterternary\":[{\"type\":\"scatterternary\",\"marker\":{\"colorbar\":{\"outlinewidth\":0,\"ticks\":\"\"}}}],\"scattercarpet\":[{\"type\":\"scattercarpet\",\"marker\":{\"colorbar\":{\"outlinewidth\":0,\"ticks\":\"\"}}}],\"carpet\":[{\"aaxis\":{\"endlinecolor\":\"#2a3f5f\",\"gridcolor\":\"#C8D4E3\",\"linecolor\":\"#C8D4E3\",\"minorgridcolor\":\"#C8D4E3\",\"startlinecolor\":\"#2a3f5f\"},\"baxis\":{\"endlinecolor\":\"#2a3f5f\",\"gridcolor\":\"#C8D4E3\",\"linecolor\":\"#C8D4E3\",\"minorgridcolor\":\"#C8D4E3\",\"startlinecolor\":\"#2a3f5f\"},\"type\":\"carpet\"}],\"table\":[{\"cells\":{\"fill\":{\"color\":\"#EBF0F8\"},\"line\":{\"color\":\"white\"}},\"header\":{\"fill\":{\"color\":\"#C8D4E3\"},\"line\":{\"color\":\"white\"}},\"type\":\"table\"}],\"barpolar\":[{\"marker\":{\"line\":{\"color\":\"white\",\"width\":0.5},\"pattern\":{\"fillmode\":\"overlay\",\"size\":10,\"solidity\":0.2}},\"type\":\"barpolar\"}],\"pie\":[{\"automargin\":true,\"type\":\"pie\"}]},\"layout\":{\"autotypenumbers\":\"strict\",\"colorway\":[\"#636efa\",\"#EF553B\",\"#00cc96\",\"#ab63fa\",\"#FFA15A\",\"#19d3f3\",\"#FF6692\",\"#B6E880\",\"#FF97FF\",\"#FECB52\"],\"font\":{\"color\":\"#2a3f5f\"},\"hovermode\":\"closest\",\"hoverlabel\":{\"align\":\"left\"},\"paper_bgcolor\":\"white\",\"plot_bgcolor\":\"white\",\"polar\":{\"bgcolor\":\"white\",\"angularaxis\":{\"gridcolor\":\"#EBF0F8\",\"linecolor\":\"#EBF0F8\",\"ticks\":\"\"},\"radialaxis\":{\"gridcolor\":\"#EBF0F8\",\"linecolor\":\"#EBF0F8\",\"ticks\":\"\"}},\"ternary\":{\"bgcolor\":\"white\",\"aaxis\":{\"gridcolor\":\"#DFE8F3\",\"linecolor\":\"#A2B1C6\",\"ticks\":\"\"},\"baxis\":{\"gridcolor\":\"#DFE8F3\",\"linecolor\":\"#A2B1C6\",\"ticks\":\"\"},\"caxis\":{\"gridcolor\":\"#DFE8F3\",\"linecolor\":\"#A2B1C6\",\"ticks\":\"\"}},\"coloraxis\":{\"colorbar\":{\"outlinewidth\":0,\"ticks\":\"\"}},\"colorscale\":{\"sequential\":[[0.0,\"#0d0887\"],[0.1111111111111111,\"#46039f\"],[0.2222222222222222,\"#7201a8\"],[0.3333333333333333,\"#9c179e\"],[0.4444444444444444,\"#bd3786\"],[0.5555555555555556,\"#d8576b\"],[0.6666666666666666,\"#ed7953\"],[0.7777777777777778,\"#fb9f3a\"],[0.8888888888888888,\"#fdca26\"],[1.0,\"#f0f921\"]],\"sequentialminus\":[[0.0,\"#0d0887\"],[0.1111111111111111,\"#46039f\"],[0.2222222222222222,\"#7201a8\"],[0.3333333333333333,\"#9c179e\"],[0.4444444444444444,\"#bd3786\"],[0.5555555555555556,\"#d8576b\"],[0.6666666666666666,\"#ed7953\"],[0.7777777777777778,\"#fb9f3a\"],[0.8888888888888888,\"#fdca26\"],[1.0,\"#f0f921\"]],\"diverging\":[[0,\"#8e0152\"],[0.1,\"#c51b7d\"],[0.2,\"#de77ae\"],[0.3,\"#f1b6da\"],[0.4,\"#fde0ef\"],[0.5,\"#f7f7f7\"],[0.6,\"#e6f5d0\"],[0.7,\"#b8e186\"],[0.8,\"#7fbc41\"],[0.9,\"#4d9221\"],[1,\"#276419\"]]},\"xaxis\":{\"gridcolor\":\"#EBF0F8\",\"linecolor\":\"#EBF0F8\",\"ticks\":\"\",\"title\":{\"standoff\":15},\"zerolinecolor\":\"#EBF0F8\",\"automargin\":true,\"zerolinewidth\":2},\"yaxis\":{\"gridcolor\":\"#EBF0F8\",\"linecolor\":\"#EBF0F8\",\"ticks\":\"\",\"title\":{\"standoff\":15},\"zerolinecolor\":\"#EBF0F8\",\"automargin\":true,\"zerolinewidth\":2},\"scene\":{\"xaxis\":{\"backgroundcolor\":\"white\",\"gridcolor\":\"#DFE8F3\",\"linecolor\":\"#EBF0F8\",\"showbackground\":true,\"ticks\":\"\",\"zerolinecolor\":\"#EBF0F8\",\"gridwidth\":2},\"yaxis\":{\"backgroundcolor\":\"white\",\"gridcolor\":\"#DFE8F3\",\"linecolor\":\"#EBF0F8\",\"showbackground\":true,\"ticks\":\"\",\"zerolinecolor\":\"#EBF0F8\",\"gridwidth\":2},\"zaxis\":{\"backgroundcolor\":\"white\",\"gridcolor\":\"#DFE8F3\",\"linecolor\":\"#EBF0F8\",\"showbackground\":true,\"ticks\":\"\",\"zerolinecolor\":\"#EBF0F8\",\"gridwidth\":2}},\"shapedefaults\":{\"line\":{\"color\":\"#2a3f5f\"}},\"annotationdefaults\":{\"arrowcolor\":\"#2a3f5f\",\"arrowhead\":0,\"arrowwidth\":1},\"geo\":{\"bgcolor\":\"white\",\"landcolor\":\"white\",\"subunitcolor\":\"#C8D4E3\",\"showland\":true,\"showlakes\":true,\"lakecolor\":\"white\"},\"title\":{\"x\":0.05},\"mapbox\":{\"style\":\"light\"}}},\"xaxis\":{\"anchor\":\"y\",\"domain\":[0.0,1.0],\"title\":{\"text\":\"Service\"},\"categoryorder\":\"array\",\"categoryarray\":[\"Kaafiye\",\"Waafi\",\"Internet\",\"Aqoonmaal\",\"Mushaax\"]},\"yaxis\":{\"anchor\":\"x\",\"domain\":[0.0,1.0],\"title\":{\"text\":\"sum of Share\"}},\"legend\":{\"title\":{\"text\":\"Service\"},\"tracegroupgap\":0},\"margin\":{\"t\":60},\"barmode\":\"relative\"},                        {\"responsive\": true}                    ).then(function(){\n",
       "                            \n",
       "var gd = document.getElementById('dd2ab287-c881-428d-a661-89ca2740d194');\n",
       "var x = new MutationObserver(function (mutations, observer) {{\n",
       "        var display = window.getComputedStyle(gd).display;\n",
       "        if (!display || display === 'none') {{\n",
       "            console.log([gd, 'removed!']);\n",
       "            Plotly.purge(gd);\n",
       "            observer.disconnect();\n",
       "        }}\n",
       "}});\n",
       "\n",
       "// Listen for the removal of the full notebook cells\n",
       "var notebookContainer = gd.closest('#notebook-container');\n",
       "if (notebookContainer) {{\n",
       "    x.observe(notebookContainer, {childList: true});\n",
       "}}\n",
       "\n",
       "// Listen for the clearing of the current output cell\n",
       "var outputEl = gd.closest('.output');\n",
       "if (outputEl) {{\n",
       "    x.observe(outputEl, {childList: true});\n",
       "}}\n",
       "\n",
       "                        })                };                });            </script>        </div>"
      ]
     },
     "metadata": {},
     "output_type": "display_data"
    }
   ],
   "source": [
    "fig_shares = px.histogram(df, x='Service', y='Share', color='Service') #color_discrete_sequence=px.colors.sequential.RdBu)\n",
    "fig_shares.show()"
   ]
  },
  {
   "cell_type": "code",
   "execution_count": 72,
   "id": "9f5e2313-08fa-4243-a141-910ebfbe9040",
   "metadata": {},
   "outputs": [
    {
     "data": {
      "text/html": [
       "<div>\n",
       "<style scoped>\n",
       "    .dataframe tbody tr th:only-of-type {\n",
       "        vertical-align: middle;\n",
       "    }\n",
       "\n",
       "    .dataframe tbody tr th {\n",
       "        vertical-align: top;\n",
       "    }\n",
       "\n",
       "    .dataframe thead th {\n",
       "        text-align: right;\n",
       "    }\n",
       "</style>\n",
       "<table border=\"1\" class=\"dataframe\">\n",
       "  <thead>\n",
       "    <tr style=\"text-align: right;\">\n",
       "      <th></th>\n",
       "      <th>Date</th>\n",
       "      <th>Gender</th>\n",
       "      <th>Service</th>\n",
       "      <th>Age</th>\n",
       "      <th>Location</th>\n",
       "      <th>Likes</th>\n",
       "      <th>Share</th>\n",
       "      <th>Comments</th>\n",
       "      <th>Engagements</th>\n",
       "      <th>Text</th>\n",
       "      <th>Month</th>\n",
       "    </tr>\n",
       "  </thead>\n",
       "  <tbody>\n",
       "    <tr>\n",
       "      <th>0</th>\n",
       "      <td>2021-12-30T19:56:11.995Z</td>\n",
       "      <td>Female</td>\n",
       "      <td>Kaafiye</td>\n",
       "      <td>34</td>\n",
       "      <td>Gabiley</td>\n",
       "      <td>1200</td>\n",
       "      <td>700</td>\n",
       "      <td>200</td>\n",
       "      <td>5600</td>\n",
       "      <td>Telesom is the leading Telecom in Somaliland</td>\n",
       "      <td>12</td>\n",
       "    </tr>\n",
       "    <tr>\n",
       "      <th>1</th>\n",
       "      <td>2021-12-31T17:16:01.168Z</td>\n",
       "      <td>Female</td>\n",
       "      <td>Waafi</td>\n",
       "      <td>43</td>\n",
       "      <td>Berbera</td>\n",
       "      <td>2500</td>\n",
       "      <td>900</td>\n",
       "      <td>250</td>\n",
       "      <td>7500</td>\n",
       "      <td>Telesom innovate new service, I like your serv...</td>\n",
       "      <td>12</td>\n",
       "    </tr>\n",
       "    <tr>\n",
       "      <th>2</th>\n",
       "      <td>2021-12-30T16:47:34.685Z</td>\n",
       "      <td>Female</td>\n",
       "      <td>Internet</td>\n",
       "      <td>32</td>\n",
       "      <td>Ceerigabo</td>\n",
       "      <td>850</td>\n",
       "      <td>150</td>\n",
       "      <td>100</td>\n",
       "      <td>3300</td>\n",
       "      <td>Telesom you have dedicated network coverage, w...</td>\n",
       "      <td>12</td>\n",
       "    </tr>\n",
       "    <tr>\n",
       "      <th>3</th>\n",
       "      <td>2021-12-31T00:07:54.511Z</td>\n",
       "      <td>Male</td>\n",
       "      <td>Aqoonmaal</td>\n",
       "      <td>17</td>\n",
       "      <td>Gabiley</td>\n",
       "      <td>920</td>\n",
       "      <td>220</td>\n",
       "      <td>300</td>\n",
       "      <td>4500</td>\n",
       "      <td>Telesom are always telecom pioneers</td>\n",
       "      <td>12</td>\n",
       "    </tr>\n",
       "    <tr>\n",
       "      <th>4</th>\n",
       "      <td>2021-12-30T15:52:30.802Z</td>\n",
       "      <td>Male</td>\n",
       "      <td>Mushaax</td>\n",
       "      <td>27</td>\n",
       "      <td>Oodweyne</td>\n",
       "      <td>2820</td>\n",
       "      <td>3553</td>\n",
       "      <td>2906</td>\n",
       "      <td>1746</td>\n",
       "      <td>Telesom you have dedicated network coverage, w...</td>\n",
       "      <td>12</td>\n",
       "    </tr>\n",
       "  </tbody>\n",
       "</table>\n",
       "</div>"
      ],
      "text/plain": [
       "                       Date  Gender    Service  Age   Location  Likes  Share  \\\n",
       "0  2021-12-30T19:56:11.995Z  Female    Kaafiye   34    Gabiley   1200    700   \n",
       "1  2021-12-31T17:16:01.168Z  Female      Waafi   43    Berbera   2500    900   \n",
       "2  2021-12-30T16:47:34.685Z  Female   Internet   32  Ceerigabo    850    150   \n",
       "3  2021-12-31T00:07:54.511Z    Male  Aqoonmaal   17    Gabiley    920    220   \n",
       "4  2021-12-30T15:52:30.802Z    Male    Mushaax   27   Oodweyne   2820   3553   \n",
       "\n",
       "   Comments   Engagements                                                Text  \\\n",
       "0        200          5600      Telesom is the leading Telecom in Somaliland    \n",
       "1        250          7500  Telesom innovate new service, I like your serv...   \n",
       "2        100          3300  Telesom you have dedicated network coverage, w...   \n",
       "3        300          4500                Telesom are always telecom pioneers   \n",
       "4       2906          1746  Telesom you have dedicated network coverage, w...   \n",
       "\n",
       "   Month  \n",
       "0     12  \n",
       "1     12  \n",
       "2     12  \n",
       "3     12  \n",
       "4     12  "
      ]
     },
     "execution_count": 72,
     "metadata": {},
     "output_type": "execute_result"
    }
   ],
   "source": [
    "df.head(5)"
   ]
  },
  {
   "cell_type": "code",
   "execution_count": 26,
   "id": "16f50025-7448-443e-ab6d-b0a6d8873ca6",
   "metadata": {},
   "outputs": [
    {
     "data": {
      "application/vnd.plotly.v1+json": {
       "config": {
        "plotlyServerURL": "https://plot.ly"
       },
       "data": [
        {
         "hovertemplate": "Date=%{x}<br>Location=%{y}<extra></extra>",
         "legendgroup": "",
         "line": {
          "color": "#636efa",
          "dash": "solid"
         },
         "marker": {
          "symbol": "circle"
         },
         "mode": "lines",
         "name": "",
         "orientation": "v",
         "showlegend": false,
         "type": "scatter",
         "x": [
          "2021-12-30T19:56:11.995Z",
          "2021-12-31T17:16:01.168Z",
          "2021-12-30T16:47:34.685Z",
          "2021-12-31T00:07:54.511Z",
          "2021-12-30T15:52:30.802Z",
          "2021-12-31T18:56:46.113Z",
          "2021-12-31T05:41:21.505Z",
          "2021-12-30T14:54:11.577Z",
          "2021-12-30T23:52:31.608Z",
          "2021-12-31T00:57:01.927Z",
          "2022-01-01T02:36:53.653Z",
          "2022-01-01T00:34:15.800Z",
          "2021-12-29T18:40:08.980Z",
          "2021-12-30T11:47:57.650Z",
          "2021-12-31T08:16:59.907Z",
          "2021-12-31T14:34:02.811Z",
          "2021-12-30T14:33:01.939Z",
          "2021-12-30T22:41:30.108Z",
          "2021-12-30T15:06:20.301Z",
          "2021-12-28T21:28:04.540Z",
          "2021-12-31T00:37:12.281Z",
          "2021-12-26T14:08:55.953Z",
          "2021-12-06T02:03:13.018Z",
          "2021-12-30T08:35:26.886Z",
          "2021-12-30T10:56:30.584Z",
          "2021-12-29T13:57:02.114Z",
          "2021-12-31T21:19:33.761Z",
          "2022-01-01T09:50:54.661Z",
          "2021-12-30T17:50:06.408Z",
          "2021-12-30T20:21:59.561Z",
          "2021-12-29T19:56:07.896Z",
          "2021-12-30T15:46:00.521Z",
          "2021-12-31T23:25:35.535Z",
          "2021-12-31T13:07:17.507Z",
          "2021-12-31T19:35:12.397Z",
          "2021-12-30T20:48:20.308Z",
          "2021-12-31T08:07:15.553Z",
          "2021-12-29T13:39:37.992Z",
          "2021-12-31T15:32:46.278Z",
          "2022-01-01T01:40:48.877Z",
          "2021-12-31T21:05:35.529Z",
          "2021-12-31T00:33:28.860Z",
          "2021-12-27T16:04:31.996Z",
          "2022-01-01T10:35:03.476Z",
          "2022-01-01T17:46:35.434Z",
          "2022-01-02T01:13:06.996Z",
          "2022-01-02T00:02:26.775Z",
          "2022-01-02T00:04:47.806Z",
          "2022-01-01T10:47:18.639Z",
          "2021-12-30T09:22:13.234Z",
          "2022-01-01T09:48:37.649Z",
          "2021-12-30T03:17:00.743Z",
          "2022-01-01T21:05:27.558Z",
          "2022-01-01T10:34:14.792Z",
          "2022-01-01T13:22:50.331Z",
          "2022-01-01T17:06:29.741Z",
          "2021-12-30T11:23:32.254Z",
          "2022-01-01T23:25:26.397Z",
          "2021-12-30T16:37:25.257Z",
          "2021-12-30T19:00:14.936Z",
          "2022-01-01T01:08:50.211Z",
          "2022-01-01T01:06:35.473Z",
          "2021-12-31T15:43:08.085Z",
          "2021-12-30T22:17:17.258Z",
          "2022-01-01T19:08:45.691Z",
          "2021-12-26T19:46:16.016Z",
          "2022-01-02T04:01:54.259Z",
          "2022-01-01T15:48:13.052Z",
          "2022-01-01T11:04:33.092Z",
          "2021-12-30T13:21:25.888Z",
          "2022-01-01T17:33:15.718Z",
          "2021-12-30T21:48:33.531Z",
          "2022-01-01T19:28:20.968Z",
          "2022-01-01T17:26:27.397Z",
          "2022-01-01T20:11:07.189Z",
          "2022-01-02T07:10:39.537Z",
          "2022-01-02T07:12:32.866Z",
          "2022-01-01T21:10:36.061Z",
          "2022-01-01T10:24:21.262Z",
          "2021-12-30T13:58:51.689Z",
          "2021-12-31T23:58:21.780Z",
          "2021-12-31T21:11:40.959Z",
          "2021-12-29T14:24:51.460Z",
          "2021-12-30T19:31:05.074Z",
          "2022-01-02T09:21:12.712Z",
          "2022-01-02T00:20:38.651Z",
          "2021-12-30T01:48:06.054Z",
          "2021-12-30T17:32:46.834Z",
          "2021-12-31T21:51:59.082Z",
          "2021-12-31T07:06:49.838Z",
          "2021-12-31T04:47:01.856Z",
          "2022-01-02T04:52:16.718Z",
          "2022-01-02T15:06:56.564Z",
          "2021-12-28T21:48:04.515Z",
          "2022-01-02T14:30:53.241Z",
          "2021-12-31T19:23:16.474Z",
          "2021-12-28T22:23:25.317Z",
          "2022-01-02T16:21:53.009Z",
          "2022-01-01T21:09:43.953Z",
          "2022-01-02T03:02:36.733Z",
          "2022-01-01T14:31:42.476Z",
          "2022-01-01T22:18:19.937Z",
          "2022-01-01T21:30:34.933Z",
          "2022-01-02T19:22:34.031Z",
          "2022-01-02T12:21:11.985Z",
          "2022-01-02T18:48:48.556Z",
          "2021-12-31T16:25:14.286Z",
          "2021-12-23T17:30:22.922Z",
          "2022-01-03T01:05:58.729Z",
          "2022-01-03T00:51:41.259Z",
          "2022-01-01T08:07:52.701Z",
          "2022-01-02T13:05:03.346Z",
          "2022-01-02T05:42:36.588Z",
          "2022-01-02T13:05:21.985Z",
          "2022-01-02T08:50:51.065Z",
          "2021-12-30T23:04:28.941Z",
          "2022-01-02T00:56:03.652Z",
          "2022-01-02T22:17:04.768Z",
          "2021-12-31T16:49:10.352Z",
          "2022-01-03T08:58:11.573Z",
          "2022-01-01T22:21:23.899Z",
          "2021-12-29T15:49:47.294Z",
          "2022-01-02T19:56:52.634Z",
          "2022-01-01T17:24:36.938Z",
          "2022-01-03T10:42:12.115Z",
          "2022-01-03T15:44:55.549Z",
          "2022-01-03T17:17:46.758Z",
          "2022-01-03T14:56:32.034Z",
          "2022-01-02T11:13:20.865Z",
          "2021-12-31T12:34:58.570Z",
          "2022-01-03T20:40:06.034Z",
          "2022-01-03T14:32:21.082Z",
          "2022-01-04T00:02:48.521Z",
          "2021-12-30T01:25:16.875Z",
          "2021-12-26T00:05:58.035Z",
          "2022-01-03T17:10:55.735Z",
          "2022-01-03T12:05:15.952Z",
          "2022-01-04T03:04:14.125Z",
          "2022-01-02T22:23:21.395Z",
          "2022-01-03T22:14:04.639Z",
          "2022-01-02T04:22:46.757Z",
          "2021-12-31T20:31:08.881Z",
          "2022-01-03T21:42:20.218Z",
          "2022-01-03T20:48:59.110Z",
          "2022-01-02T11:09:28.827Z",
          "2022-01-02T20:57:37.390Z",
          "2022-01-03T19:58:43.674Z",
          "2022-01-04T07:59:14.873Z",
          "2022-01-03T00:26:45.480Z",
          "2022-01-02T19:53:24.473Z",
          "2022-01-03T12:51:38.896Z",
          "2022-01-03T19:38:04.916Z",
          "2022-01-04T12:06:35.651Z",
          "2022-01-04T12:39:09.931Z",
          "2022-01-03T04:58:04.023Z",
          "2021-12-31T19:26:13.215Z",
          "2022-01-03T15:19:00.277Z",
          "2022-01-03T15:46:32.741Z",
          "2022-01-03T18:06:58.398Z",
          "2021-12-26T06:41:00.599Z",
          "2022-01-01T01:40:48.881Z",
          "2021-12-27T14:42:17.636Z",
          "2022-01-03T22:28:19.130Z",
          "2022-01-04T13:04:37.551Z",
          "2022-01-04T13:58:27.212Z",
          "2022-01-02T18:56:19.051Z",
          "2022-01-03T17:44:47.660Z",
          "2022-01-04T16:49:22.412Z",
          "2022-01-04T14:12:19.751Z",
          "2021-12-31T16:57:02.145Z",
          "2022-01-03T19:58:43.671Z",
          "2022-01-03T16:14:42.379Z",
          "2021-12-24T23:59:31.952Z",
          "2022-01-04T12:04:15.559Z",
          "2022-01-04T18:26:39.294Z",
          "2022-01-05T05:10:38.490Z",
          "2022-01-05T05:57:57.202Z",
          "2022-01-04T20:57:26.339Z",
          "2022-01-02T20:14:19.582Z",
          "2022-01-04T18:15:04.237Z",
          "2022-01-04T23:35:15.684Z",
          "2022-01-05T05:39:35.008Z",
          "2022-01-04T03:52:15.524Z",
          "2022-01-03T19:31:32.661Z",
          "2022-01-05T05:19:39.404Z",
          "2022-01-04T19:35:42.521Z",
          "2022-01-04T15:04:45.996Z",
          "2022-01-02T21:50:22.263Z",
          "2022-01-04T09:41:38.092Z",
          "2022-01-04T07:05:48.295Z",
          "2022-01-04T22:51:12.493Z",
          "2022-01-04T22:03:41.981Z",
          "2022-01-02T18:44:58.524Z",
          "2022-01-01T03:00:59.946Z",
          "2022-01-02T22:50:03.549Z",
          "2022-01-04T06:59:23.279Z",
          "2022-01-05T13:21:15.266Z",
          "2022-01-04T22:31:09.411Z",
          "2022-01-04T23:37:57.207Z",
          "2022-01-03T17:34:01.179Z",
          "2021-12-31T23:58:48.914Z",
          "2022-01-01T16:46:05.360Z",
          "2022-01-04T22:21:24.753Z",
          "2022-01-04T19:40:14.134Z",
          "2022-01-05T15:04:39.464Z",
          "2022-01-02T22:24:52.792Z",
          "2022-01-05T09:21:49.463Z",
          "2022-01-04T21:47:11.381Z",
          "2022-01-05T03:12:25.183Z",
          "2022-01-05T17:35:46.494Z",
          "2022-01-05T00:24:00.840Z",
          "2022-01-04T13:57:20.501Z",
          "2022-01-04T13:42:51.668Z",
          "2022-01-04T03:02:57.553Z",
          "2022-01-05T03:31:12.150Z",
          "2022-01-05T17:10:00.041Z",
          "2022-01-06T07:00:07.485Z",
          "2022-01-05T10:53:15.993Z",
          "2022-01-05T13:52:19.767Z",
          "2022-01-05T10:01:16.631Z",
          "2022-01-05T08:53:04.305Z",
          "2022-01-05T23:41:02.021Z",
          "2022-01-01T07:18:05.451Z",
          "2021-12-26T11:26:57.717Z",
          "2022-01-03T19:31:13.687Z",
          "2021-12-26T21:35:17.150Z",
          "2022-01-05T09:19:17.575Z",
          "2022-01-05T18:35:28.181Z",
          "2022-01-03T21:12:20.544Z",
          "2022-01-04T22:45:17.176Z",
          "2022-01-04T17:59:41.442Z",
          "2022-01-03T23:26:33.371Z",
          "2022-01-03T20:07:05.543Z",
          "2022-01-02T02:04:10.275Z",
          "2022-01-05T16:12:24.541Z",
          "2022-01-06T02:09:49.367Z",
          "2022-01-05T11:37:03.362Z",
          "2022-01-04T13:33:29.481Z",
          "2022-01-02T04:55:16.369Z",
          "2022-01-04T12:28:33.755Z",
          "2022-01-04T18:47:42.763Z",
          "2022-01-04T17:00:21.745Z",
          "2022-01-04T19:51:33.218Z",
          "2022-01-02T10:33:20.561Z",
          "2022-01-05T17:10:17.579Z",
          "2022-01-06T12:25:40.753Z",
          "2022-01-05T20:50:40.010Z",
          "2022-01-04T10:56:43.184Z",
          "2022-01-05T13:44:07.554Z",
          "2022-01-05T23:01:58.157Z",
          "2022-01-05T19:28:21.017Z",
          "2022-01-06T20:15:10.673Z",
          "2022-01-07T00:30:26.300Z",
          "2022-01-07T01:36:46.490Z",
          "2022-01-05T22:09:21.701Z",
          "2022-01-06T23:12:05.221Z",
          "2022-01-05T06:34:49.943Z",
          "2021-12-15T00:47:27.019Z",
          "2022-01-06T19:13:01.613Z",
          "2021-12-30T10:42:01.639Z",
          "2022-01-06T21:24:06.483Z",
          "2022-01-06T09:49:58.149Z",
          "2022-01-08T00:39:15.617Z",
          "2022-01-08T06:12:57.151Z",
          "2022-01-08T06:19:35.307Z",
          "2022-01-06T07:28:44.897Z",
          "2022-01-01T15:29:12.740Z",
          "2022-01-01T01:28:39.369Z",
          "2022-01-07T00:49:45.251Z",
          "2022-01-06T15:56:52.344Z",
          "2022-01-07T14:22:30.769Z",
          "2022-01-05T03:46:58.596Z",
          "2021-12-30T14:13:30.527Z",
          "2022-01-07T15:16:32.823Z",
          "2022-01-07T17:18:39.656Z",
          "2022-01-07T23:44:16.831Z",
          "2022-01-07T08:45:28.822Z",
          "2022-01-05T19:13:09.580Z",
          "2022-01-04T23:59:58.294Z",
          "2022-01-07T22:55:54.190Z",
          "2022-01-04T08:22:23.396Z",
          "2022-01-07T08:33:33.719Z",
          "2022-01-05T22:36:58.039Z",
          "2022-01-08T11:05:50.801Z",
          "2022-01-07T20:27:58.221Z",
          "2022-01-07T12:24:44.041Z",
          "2022-01-08T09:01:00.070Z",
          "2022-01-08T08:35:55.129Z",
          "2022-01-08T12:08:54.412Z",
          "2022-01-06T18:49:59.492Z",
          "2022-01-08T13:43:59.506Z",
          "2022-01-07T12:02:36.696Z",
          "2022-01-05T12:59:13.794Z",
          "2022-01-08T10:42:40.407Z",
          "2022-01-08T01:22:23.534Z",
          "2022-01-07T19:20:49.411Z",
          "2022-01-08T19:55:26.387Z",
          "2021-12-31T17:53:02.294Z",
          "2022-01-02T18:58:15.080Z",
          "2022-01-08T18:38:05.461Z",
          "2022-01-08T12:12:02.556Z",
          "2022-01-08T14:43:28.018Z",
          "2022-01-09T00:58:55.400Z",
          "2022-01-08T20:02:12.263Z",
          "2022-01-09T07:15:02.263Z",
          "2022-01-09T07:26:04.353Z",
          "2022-01-07T22:36:42.181Z",
          "2022-01-08T12:44:48.899Z",
          "2022-01-08T20:21:33.717Z",
          "2022-01-06T16:52:58.529Z",
          "2022-01-09T06:26:37.743Z",
          "2022-01-08T14:16:10.041Z",
          "2022-01-09T04:41:58.008Z",
          "2022-01-06T12:07:03.586Z",
          "2022-01-09T00:21:22.319Z",
          "2022-01-07T19:54:54.630Z",
          "2022-01-08T20:39:53.497Z",
          "2022-01-09T08:29:02.932Z",
          "2022-01-08T00:54:32.597Z",
          "2022-01-04T22:30:10.828Z",
          "2022-01-08T15:24:33.249Z",
          "2022-01-09T13:31:30.032Z",
          "2022-01-07T23:15:28.098Z",
          "2022-01-09T11:24:41.012Z",
          "2022-01-09T15:58:06.854Z",
          "2022-01-06T21:57:00.784Z",
          "2022-01-07T14:39:31.572Z",
          "2022-01-08T07:58:04.653Z",
          "2022-01-09T16:45:27.191Z",
          "2022-01-08T15:03:07.767Z",
          "2022-01-10T00:06:35.725Z",
          "2022-01-05T13:45:13.919Z",
          "2022-01-07T07:53:53.332Z",
          "2022-01-07T20:17:44.018Z",
          "2022-01-09T19:56:03.448Z",
          "2022-01-07T19:36:42.410Z",
          "2022-01-08T01:12:02.503Z",
          "2022-01-09T15:55:19.212Z",
          "2022-01-10T07:39:53.491Z",
          "2022-01-10T02:36:03.460Z",
          "2022-01-09T13:26:47.717Z",
          "2022-01-09T13:06:31.597Z",
          "2022-01-06T11:08:31.496Z",
          "2022-01-09T02:02:28.024Z",
          "2022-01-10T12:37:58.891Z",
          "2022-01-08T15:40:46.528Z",
          "2022-01-08T18:29:19.344Z",
          "2022-01-08T19:09:32.685Z",
          "2022-01-10T07:44:51.726Z",
          "2022-01-08T20:52:44.266Z",
          "2022-01-09T10:52:52.602Z",
          "2022-01-06T22:45:47.701Z",
          "2022-01-08T16:10:49.003Z",
          "2022-01-10T14:35:57.800Z",
          "2022-01-10T14:38:07.398Z",
          "2022-01-10T15:31:01.150Z",
          "2022-01-11T01:16:26.390Z",
          "2022-01-07T20:46:35.655Z",
          "2022-01-10T07:05:12.806Z",
          "2022-01-11T04:09:35.264Z",
          "2022-01-11T03:31:32.236Z",
          "2022-01-10T16:57:31.035Z",
          "2022-01-06T18:13:05.278Z",
          "2022-01-09T22:27:01.092Z",
          "2022-01-10T15:58:37.252Z",
          "2022-01-10T22:39:06.114Z",
          "2022-01-10T22:42:10.903Z",
          "2022-01-10T03:09:27.072Z",
          "2022-01-10T12:33:47.051Z",
          "2022-01-11T00:53:54.745Z",
          "2022-01-11T04:19:42.446Z",
          "2022-01-03T17:34:54.150Z",
          "2022-01-10T18:23:02.163Z",
          "2022-01-10T13:35:03.236Z",
          "2022-01-02T17:08:44.305Z",
          "2022-01-05T16:42:14.819Z",
          "2022-01-09T11:41:32.092Z",
          "2022-01-11T06:01:21.073Z",
          "2022-01-10T01:08:36.853Z",
          "2022-01-11T06:48:37.195Z",
          "2022-01-11T00:17:17.143Z",
          "2022-01-11T08:26:18.415Z",
          "2022-01-11T13:21:28.086Z",
          "2022-01-11T11:09:12.597Z",
          "2022-01-05T02:59:30.398Z",
          "2022-01-11T13:51:29.440Z",
          "2022-01-08T13:18:27.055Z",
          "2022-01-11T09:59:04.848Z",
          "2022-01-03T07:32:13.578Z",
          "2022-01-11T19:00:11.755Z",
          "2022-01-11T19:27:14.975Z",
          "2022-01-10T09:15:50.201Z",
          "2022-01-07T02:12:21.627Z",
          "2022-01-11T18:50:36.986Z",
          "2022-01-12T00:46:37.364Z",
          "2022-01-09T11:44:26.763Z",
          "2022-01-11T23:29:47.837Z",
          "2022-01-10T01:34:37.379Z",
          "2022-01-12T01:46:07.165Z",
          "2022-01-11T22:11:53.750Z",
          "2022-01-04T09:41:15.872Z",
          "2021-12-30T21:30:09.352Z",
          "2022-01-11T16:24:16.582Z",
          "2022-01-11T16:44:58.656Z",
          "2022-01-11T19:57:50.961Z",
          "2022-01-09T21:56:40.301Z",
          "2022-01-12T12:02:19.824Z",
          "2022-01-10T15:04:28.303Z",
          "2022-01-12T02:18:53.086Z",
          "2022-01-06T22:22:50.922Z",
          "2022-01-10T17:31:15.553Z",
          "2022-01-11T19:31:27.774Z",
          "2022-01-05T03:52:02.046Z",
          "2022-01-12T16:22:46.854Z",
          "2022-01-12T18:31:26.522Z",
          "2022-01-12T23:39:23.811Z",
          "2022-01-12T12:15:52.872Z",
          "2022-01-12T09:58:14.014Z",
          "2022-01-09T15:31:01.659Z",
          "2022-01-13T05:05:13.993Z",
          "2022-01-12T19:32:43.118Z",
          "2022-01-12T19:39:12.140Z",
          "2022-01-12T19:47:52.948Z",
          "2022-01-12T19:53:51.785Z",
          "2022-01-12T11:05:42.280Z",
          "2022-01-10T11:54:00.769Z",
          "2022-01-13T03:19:17.814Z",
          "2022-01-08T23:33:10.196Z",
          "2022-01-13T05:29:29.120Z",
          "2022-01-13T08:39:30.210Z",
          "2022-01-12T19:44:47.191Z",
          "2022-01-13T02:45:40.291Z",
          "2022-01-11T09:53:08.985Z",
          "2022-01-13T09:53:51.232Z",
          "2022-01-03T12:19:03.271Z",
          "2022-01-13T13:32:10.087Z",
          "2022-01-11T07:42:54.106Z",
          "2022-01-09T22:26:11.220Z",
          "2022-01-12T23:01:46.884Z",
          "2022-01-13T05:50:15.312Z",
          "2022-01-13T11:56:54.687Z",
          "2022-01-04T20:38:31.962Z",
          "2022-01-13T15:40:22.388Z",
          "2022-01-12T12:54:56.852Z",
          "2022-01-10T04:32:16.745Z",
          "2022-01-12T04:03:17.955Z",
          "2022-01-09T01:45:18.344Z",
          "2022-01-11T13:47:48.106Z",
          "2022-01-13T13:14:55.579Z",
          "2022-01-12T21:50:42.780Z",
          "2022-01-10T17:12:58.918Z",
          "2022-01-13T08:06:39.067Z",
          "2022-01-13T05:41:14.960Z",
          "2022-01-14T13:44:38.919Z",
          "2022-01-14T02:24:10.201Z",
          "2022-01-13T23:16:05.542Z",
          "2022-01-14T13:34:10.500Z",
          "2022-01-13T20:37:11.331Z",
          "2022-01-15T05:48:39.922Z",
          "2022-01-12T00:55:17.677Z",
          "2022-01-13T18:44:33.650Z",
          "2022-01-13T10:47:52.382Z",
          "2022-01-13T16:20:54.884Z",
          "2022-01-11T06:13:17.811Z",
          "2022-01-14T16:27:45.761Z",
          "2022-01-14T17:42:43.823Z",
          "2022-01-14T21:34:39.323Z",
          "2022-01-14T16:57:22.789Z"
         ],
         "xaxis": "x",
         "y": [
          "Gabiley",
          "Berbera",
          "Ceerigabo",
          "Gabiley",
          "Oodweyne",
          "Buuhoodle",
          "Borama",
          "Berbera",
          "Laascaanod",
          "Gabiley",
          "Borama",
          "Burco",
          "Borama",
          "Laascaanod",
          "Laascaanod",
          "Buuhoodle",
          "Oodweyne",
          "Burco",
          "Borama",
          "Oodweyne",
          "Burco",
          "Berbera",
          "Hargeisa",
          "Buuhoodle",
          "Gabiley",
          "Buuhoodle",
          "Oodweyne",
          "Ceerigabo",
          "Ceerigabo",
          "Gabiley",
          "Oodweyne",
          "Berbera",
          "Buuhoodle",
          "Berbera",
          "Laascaanod",
          "Oodweyne",
          "Ceerigabo",
          "Laascaanod",
          "Burco",
          "Laascaanod",
          "Borama",
          "Laascaanod",
          "Buuhoodle",
          "Gabiley",
          "Berbera",
          "Hargeisa",
          "Buuhoodle",
          "Buuhoodle",
          "Borama",
          "Hargeisa",
          "Burco",
          "Buuhoodle",
          "Borama",
          "Laascaanod",
          "Laascaanod",
          "Burco",
          "Laascaanod",
          "Gabiley",
          "Gabiley",
          "Burco",
          "Borama",
          "Ceerigabo",
          "Berbera",
          "Oodweyne",
          "Ceerigabo",
          "Gabiley",
          "Borama",
          "Burco",
          "Borama",
          "Laascaanod",
          "Borama",
          "Oodweyne",
          "Gabiley",
          "Buuhoodle",
          "Hargeisa",
          "Buuhoodle",
          "Berbera",
          "Hargeisa",
          "Laascaanod",
          "Hargeisa",
          "Borama",
          "Oodweyne",
          "Berbera",
          "Berbera",
          "Oodweyne",
          "Hargeisa",
          "Burco",
          "Oodweyne",
          "Burco",
          "Burco",
          "Laascaanod",
          "Gabiley",
          "Gabiley",
          "Oodweyne",
          "Gabiley",
          "Laascaanod",
          "Burco",
          "Burco",
          "Laascaanod",
          "Berbera",
          "Burco",
          "Berbera",
          "Burco",
          "Laascaanod",
          "Ceerigabo",
          "Berbera",
          "Berbera",
          "Berbera",
          "Oodweyne",
          "Berbera",
          "Gabiley",
          "Buuhoodle",
          "Oodweyne",
          "Gabiley",
          "Buuhoodle",
          "Berbera",
          "Gabiley",
          "Hargeisa",
          "Berbera",
          "Gabiley",
          "Hargeisa",
          "Ceerigabo",
          "Burco",
          "Gabiley",
          "Oodweyne",
          "Hargeisa",
          "Berbera",
          "Laascaanod",
          "Buuhoodle",
          "Berbera",
          "Oodweyne",
          "Hargeisa",
          "Hargeisa",
          "Gabiley",
          "Gabiley",
          "Burco",
          "Burco",
          "Oodweyne",
          "Borama",
          "Hargeisa",
          "Hargeisa",
          "Burco",
          "Buuhoodle",
          "Hargeisa",
          "Ceerigabo",
          "Hargeisa",
          "Borama",
          "Oodweyne",
          "Ceerigabo",
          "Gabiley",
          "Ceerigabo",
          "Burco",
          "Buuhoodle",
          "Berbera",
          "Hargeisa",
          "Berbera",
          "Berbera",
          "Hargeisa",
          "Borama",
          "Berbera",
          "Gabiley",
          "Borama",
          "Berbera",
          "Laascaanod",
          "Ceerigabo",
          "Ceerigabo",
          "Burco",
          "Berbera",
          "Laascaanod",
          "Borama",
          "Gabiley",
          "Berbera",
          "Ceerigabo",
          "Berbera",
          "Laascaanod",
          "Berbera",
          "Hargeisa",
          "Berbera",
          "Berbera",
          "Hargeisa",
          "Burco",
          "Borama",
          "Borama",
          "Gabiley",
          "Hargeisa",
          "Laascaanod",
          "Oodweyne",
          "Ceerigabo",
          "Gabiley",
          "Laascaanod",
          "Laascaanod",
          "Oodweyne",
          "Hargeisa",
          "Buuhoodle",
          "Oodweyne",
          "Berbera",
          "Burco",
          "Oodweyne",
          "Borama",
          "Berbera",
          "Burco",
          "Borama",
          "Borama",
          "Buuhoodle",
          "Borama",
          "Ceerigabo",
          "Oodweyne",
          "Borama",
          "Gabiley",
          "Oodweyne",
          "Buuhoodle",
          "Oodweyne",
          "Laascaanod",
          "Burco",
          "Buuhoodle",
          "Oodweyne",
          "Hargeisa",
          "Berbera",
          "Laascaanod",
          "Hargeisa",
          "Borama",
          "Burco",
          "Berbera",
          "Berbera",
          "Gabiley",
          "Hargeisa",
          "Berbera",
          "Buuhoodle",
          "Burco",
          "Ceerigabo",
          "Berbera",
          "Laascaanod",
          "Borama",
          "Gabiley",
          "Buuhoodle",
          "Borama",
          "Borama",
          "Gabiley",
          "Laascaanod",
          "Gabiley",
          "Laascaanod",
          "Hargeisa",
          "Borama",
          "Oodweyne",
          "Burco",
          "Berbera",
          "Burco",
          "Borama",
          "Gabiley",
          "Berbera",
          "Hargeisa",
          "Berbera",
          "Berbera",
          "Hargeisa",
          "Ceerigabo",
          "Borama",
          "Berbera",
          "Borama",
          "Hargeisa",
          "Laascaanod",
          "Buuhoodle",
          "Borama",
          "Burco",
          "Burco",
          "Oodweyne",
          "Ceerigabo",
          "Gabiley",
          "Hargeisa",
          "Gabiley",
          "Burco",
          "Hargeisa",
          "Berbera",
          "Laascaanod",
          "Borama",
          "Gabiley",
          "Buuhoodle",
          "Borama",
          "Borama",
          "Gabiley",
          "Laascaanod",
          "Gabiley",
          "Laascaanod",
          "Hargeisa",
          "Borama",
          "Oodweyne",
          "Burco",
          "Berbera",
          "Burco",
          "Borama",
          "Gabiley",
          "Berbera",
          "Hargeisa",
          "Berbera",
          "Laascaanod",
          "Borama",
          "Gabiley",
          "Buuhoodle",
          "Borama",
          "Borama",
          "Gabiley",
          "Laascaanod",
          "Gabiley",
          "Laascaanod",
          "Hargeisa",
          "Borama",
          "Oodweyne",
          "Burco",
          "Berbera",
          "Burco",
          "Berbera",
          "Laascaanod",
          "Borama",
          "Gabiley",
          "Buuhoodle",
          "Borama",
          "Borama",
          "Gabiley",
          "Laascaanod",
          "Gabiley",
          "Laascaanod",
          "Hargeisa",
          "Borama",
          "Oodweyne",
          "Burco",
          "Berbera",
          "Burco",
          "Borama",
          "Berbera",
          "Laascaanod",
          "Borama",
          "Gabiley",
          "Buuhoodle",
          "Borama",
          "Borama",
          "Gabiley",
          "Laascaanod",
          "Gabiley",
          "Laascaanod",
          "Hargeisa",
          "Borama",
          "Oodweyne",
          "Burco",
          "Berbera",
          "Burco",
          "Borama",
          "Gabiley",
          "Berbera",
          "Berbera",
          "Laascaanod",
          "Borama",
          "Gabiley",
          "Buuhoodle",
          "Borama",
          "Borama",
          "Gabiley",
          "Laascaanod",
          "Gabiley",
          "Laascaanod",
          "Hargeisa",
          "Borama",
          "Oodweyne",
          "Burco",
          "Berbera",
          "Burco",
          "Borama",
          "Gabiley",
          "Berbera",
          "Berbera",
          "Laascaanod",
          "Borama",
          "Gabiley",
          "Buuhoodle",
          "Borama",
          "Borama",
          "Gabiley",
          "Laascaanod",
          "Gabiley",
          "Laascaanod",
          "Hargeisa",
          "Borama",
          "Oodweyne",
          "Burco",
          "Berbera",
          "Burco",
          "Borama",
          "Gabiley",
          "Berbera",
          "Berbera",
          "Laascaanod",
          "Borama",
          "Gabiley",
          "Buuhoodle",
          "Borama",
          "Borama",
          "Gabiley",
          "Laascaanod",
          "Gabiley",
          "Laascaanod",
          "Hargeisa",
          "Borama",
          "Oodweyne",
          "Burco",
          "Berbera",
          "Burco",
          "Borama",
          "Gabiley",
          "Berbera",
          "Berbera",
          "Laascaanod",
          "Borama",
          "Gabiley",
          "Buuhoodle",
          "Borama",
          "Borama",
          "Gabiley",
          "Laascaanod",
          "Gabiley",
          "Laascaanod",
          "Hargeisa",
          "Borama",
          "Oodweyne",
          "Burco",
          "Berbera",
          "Burco",
          "Borama",
          "Gabiley",
          "Berbera",
          "Berbera",
          "Laascaanod",
          "Borama",
          "Gabiley",
          "Buuhoodle",
          "Borama",
          "Borama",
          "Gabiley",
          "Laascaanod",
          "Gabiley",
          "Laascaanod",
          "Hargeisa",
          "Borama",
          "Oodweyne",
          "Burco",
          "Berbera",
          "Burco",
          "Borama",
          "Gabiley",
          "Berbera",
          "Berbera",
          "Laascaanod",
          "Borama",
          "Gabiley",
          "Buuhoodle",
          "Borama",
          "Borama",
          "Gabiley",
          "Laascaanod",
          "Gabiley",
          "Laascaanod",
          "Hargeisa",
          "Borama",
          "Oodweyne",
          "Burco",
          "Berbera",
          "Burco",
          "Borama",
          "Gabiley",
          "Berbera",
          "Hargeisa"
         ],
         "yaxis": "y"
        }
       ],
       "layout": {
        "autosize": true,
        "legend": {
         "tracegroupgap": 0
        },
        "margin": {
         "t": 60
        },
        "template": {
         "data": {
          "bar": [
           {
            "error_x": {
             "color": "#2a3f5f"
            },
            "error_y": {
             "color": "#2a3f5f"
            },
            "marker": {
             "line": {
              "color": "white",
              "width": 0.5
             },
             "pattern": {
              "fillmode": "overlay",
              "size": 10,
              "solidity": 0.2
             }
            },
            "type": "bar"
           }
          ],
          "barpolar": [
           {
            "marker": {
             "line": {
              "color": "white",
              "width": 0.5
             },
             "pattern": {
              "fillmode": "overlay",
              "size": 10,
              "solidity": 0.2
             }
            },
            "type": "barpolar"
           }
          ],
          "carpet": [
           {
            "aaxis": {
             "endlinecolor": "#2a3f5f",
             "gridcolor": "#C8D4E3",
             "linecolor": "#C8D4E3",
             "minorgridcolor": "#C8D4E3",
             "startlinecolor": "#2a3f5f"
            },
            "baxis": {
             "endlinecolor": "#2a3f5f",
             "gridcolor": "#C8D4E3",
             "linecolor": "#C8D4E3",
             "minorgridcolor": "#C8D4E3",
             "startlinecolor": "#2a3f5f"
            },
            "type": "carpet"
           }
          ],
          "choropleth": [
           {
            "colorbar": {
             "outlinewidth": 0,
             "ticks": ""
            },
            "type": "choropleth"
           }
          ],
          "contour": [
           {
            "colorbar": {
             "outlinewidth": 0,
             "ticks": ""
            },
            "colorscale": [
             [
              0,
              "#0d0887"
             ],
             [
              0.1111111111111111,
              "#46039f"
             ],
             [
              0.2222222222222222,
              "#7201a8"
             ],
             [
              0.3333333333333333,
              "#9c179e"
             ],
             [
              0.4444444444444444,
              "#bd3786"
             ],
             [
              0.5555555555555556,
              "#d8576b"
             ],
             [
              0.6666666666666666,
              "#ed7953"
             ],
             [
              0.7777777777777778,
              "#fb9f3a"
             ],
             [
              0.8888888888888888,
              "#fdca26"
             ],
             [
              1,
              "#f0f921"
             ]
            ],
            "type": "contour"
           }
          ],
          "contourcarpet": [
           {
            "colorbar": {
             "outlinewidth": 0,
             "ticks": ""
            },
            "type": "contourcarpet"
           }
          ],
          "heatmap": [
           {
            "colorbar": {
             "outlinewidth": 0,
             "ticks": ""
            },
            "colorscale": [
             [
              0,
              "#0d0887"
             ],
             [
              0.1111111111111111,
              "#46039f"
             ],
             [
              0.2222222222222222,
              "#7201a8"
             ],
             [
              0.3333333333333333,
              "#9c179e"
             ],
             [
              0.4444444444444444,
              "#bd3786"
             ],
             [
              0.5555555555555556,
              "#d8576b"
             ],
             [
              0.6666666666666666,
              "#ed7953"
             ],
             [
              0.7777777777777778,
              "#fb9f3a"
             ],
             [
              0.8888888888888888,
              "#fdca26"
             ],
             [
              1,
              "#f0f921"
             ]
            ],
            "type": "heatmap"
           }
          ],
          "heatmapgl": [
           {
            "colorbar": {
             "outlinewidth": 0,
             "ticks": ""
            },
            "colorscale": [
             [
              0,
              "#0d0887"
             ],
             [
              0.1111111111111111,
              "#46039f"
             ],
             [
              0.2222222222222222,
              "#7201a8"
             ],
             [
              0.3333333333333333,
              "#9c179e"
             ],
             [
              0.4444444444444444,
              "#bd3786"
             ],
             [
              0.5555555555555556,
              "#d8576b"
             ],
             [
              0.6666666666666666,
              "#ed7953"
             ],
             [
              0.7777777777777778,
              "#fb9f3a"
             ],
             [
              0.8888888888888888,
              "#fdca26"
             ],
             [
              1,
              "#f0f921"
             ]
            ],
            "type": "heatmapgl"
           }
          ],
          "histogram": [
           {
            "marker": {
             "pattern": {
              "fillmode": "overlay",
              "size": 10,
              "solidity": 0.2
             }
            },
            "type": "histogram"
           }
          ],
          "histogram2d": [
           {
            "colorbar": {
             "outlinewidth": 0,
             "ticks": ""
            },
            "colorscale": [
             [
              0,
              "#0d0887"
             ],
             [
              0.1111111111111111,
              "#46039f"
             ],
             [
              0.2222222222222222,
              "#7201a8"
             ],
             [
              0.3333333333333333,
              "#9c179e"
             ],
             [
              0.4444444444444444,
              "#bd3786"
             ],
             [
              0.5555555555555556,
              "#d8576b"
             ],
             [
              0.6666666666666666,
              "#ed7953"
             ],
             [
              0.7777777777777778,
              "#fb9f3a"
             ],
             [
              0.8888888888888888,
              "#fdca26"
             ],
             [
              1,
              "#f0f921"
             ]
            ],
            "type": "histogram2d"
           }
          ],
          "histogram2dcontour": [
           {
            "colorbar": {
             "outlinewidth": 0,
             "ticks": ""
            },
            "colorscale": [
             [
              0,
              "#0d0887"
             ],
             [
              0.1111111111111111,
              "#46039f"
             ],
             [
              0.2222222222222222,
              "#7201a8"
             ],
             [
              0.3333333333333333,
              "#9c179e"
             ],
             [
              0.4444444444444444,
              "#bd3786"
             ],
             [
              0.5555555555555556,
              "#d8576b"
             ],
             [
              0.6666666666666666,
              "#ed7953"
             ],
             [
              0.7777777777777778,
              "#fb9f3a"
             ],
             [
              0.8888888888888888,
              "#fdca26"
             ],
             [
              1,
              "#f0f921"
             ]
            ],
            "type": "histogram2dcontour"
           }
          ],
          "mesh3d": [
           {
            "colorbar": {
             "outlinewidth": 0,
             "ticks": ""
            },
            "type": "mesh3d"
           }
          ],
          "parcoords": [
           {
            "line": {
             "colorbar": {
              "outlinewidth": 0,
              "ticks": ""
             }
            },
            "type": "parcoords"
           }
          ],
          "pie": [
           {
            "automargin": true,
            "type": "pie"
           }
          ],
          "scatter": [
           {
            "fillpattern": {
             "fillmode": "overlay",
             "size": 10,
             "solidity": 0.2
            },
            "type": "scatter"
           }
          ],
          "scatter3d": [
           {
            "line": {
             "colorbar": {
              "outlinewidth": 0,
              "ticks": ""
             }
            },
            "marker": {
             "colorbar": {
              "outlinewidth": 0,
              "ticks": ""
             }
            },
            "type": "scatter3d"
           }
          ],
          "scattercarpet": [
           {
            "marker": {
             "colorbar": {
              "outlinewidth": 0,
              "ticks": ""
             }
            },
            "type": "scattercarpet"
           }
          ],
          "scattergeo": [
           {
            "marker": {
             "colorbar": {
              "outlinewidth": 0,
              "ticks": ""
             }
            },
            "type": "scattergeo"
           }
          ],
          "scattergl": [
           {
            "marker": {
             "colorbar": {
              "outlinewidth": 0,
              "ticks": ""
             }
            },
            "type": "scattergl"
           }
          ],
          "scattermapbox": [
           {
            "marker": {
             "colorbar": {
              "outlinewidth": 0,
              "ticks": ""
             }
            },
            "type": "scattermapbox"
           }
          ],
          "scatterpolar": [
           {
            "marker": {
             "colorbar": {
              "outlinewidth": 0,
              "ticks": ""
             }
            },
            "type": "scatterpolar"
           }
          ],
          "scatterpolargl": [
           {
            "marker": {
             "colorbar": {
              "outlinewidth": 0,
              "ticks": ""
             }
            },
            "type": "scatterpolargl"
           }
          ],
          "scatterternary": [
           {
            "marker": {
             "colorbar": {
              "outlinewidth": 0,
              "ticks": ""
             }
            },
            "type": "scatterternary"
           }
          ],
          "surface": [
           {
            "colorbar": {
             "outlinewidth": 0,
             "ticks": ""
            },
            "colorscale": [
             [
              0,
              "#0d0887"
             ],
             [
              0.1111111111111111,
              "#46039f"
             ],
             [
              0.2222222222222222,
              "#7201a8"
             ],
             [
              0.3333333333333333,
              "#9c179e"
             ],
             [
              0.4444444444444444,
              "#bd3786"
             ],
             [
              0.5555555555555556,
              "#d8576b"
             ],
             [
              0.6666666666666666,
              "#ed7953"
             ],
             [
              0.7777777777777778,
              "#fb9f3a"
             ],
             [
              0.8888888888888888,
              "#fdca26"
             ],
             [
              1,
              "#f0f921"
             ]
            ],
            "type": "surface"
           }
          ],
          "table": [
           {
            "cells": {
             "fill": {
              "color": "#EBF0F8"
             },
             "line": {
              "color": "white"
             }
            },
            "header": {
             "fill": {
              "color": "#C8D4E3"
             },
             "line": {
              "color": "white"
             }
            },
            "type": "table"
           }
          ]
         },
         "layout": {
          "annotationdefaults": {
           "arrowcolor": "#2a3f5f",
           "arrowhead": 0,
           "arrowwidth": 1
          },
          "autotypenumbers": "strict",
          "coloraxis": {
           "colorbar": {
            "outlinewidth": 0,
            "ticks": ""
           }
          },
          "colorscale": {
           "diverging": [
            [
             0,
             "#8e0152"
            ],
            [
             0.1,
             "#c51b7d"
            ],
            [
             0.2,
             "#de77ae"
            ],
            [
             0.3,
             "#f1b6da"
            ],
            [
             0.4,
             "#fde0ef"
            ],
            [
             0.5,
             "#f7f7f7"
            ],
            [
             0.6,
             "#e6f5d0"
            ],
            [
             0.7,
             "#b8e186"
            ],
            [
             0.8,
             "#7fbc41"
            ],
            [
             0.9,
             "#4d9221"
            ],
            [
             1,
             "#276419"
            ]
           ],
           "sequential": [
            [
             0,
             "#0d0887"
            ],
            [
             0.1111111111111111,
             "#46039f"
            ],
            [
             0.2222222222222222,
             "#7201a8"
            ],
            [
             0.3333333333333333,
             "#9c179e"
            ],
            [
             0.4444444444444444,
             "#bd3786"
            ],
            [
             0.5555555555555556,
             "#d8576b"
            ],
            [
             0.6666666666666666,
             "#ed7953"
            ],
            [
             0.7777777777777778,
             "#fb9f3a"
            ],
            [
             0.8888888888888888,
             "#fdca26"
            ],
            [
             1,
             "#f0f921"
            ]
           ],
           "sequentialminus": [
            [
             0,
             "#0d0887"
            ],
            [
             0.1111111111111111,
             "#46039f"
            ],
            [
             0.2222222222222222,
             "#7201a8"
            ],
            [
             0.3333333333333333,
             "#9c179e"
            ],
            [
             0.4444444444444444,
             "#bd3786"
            ],
            [
             0.5555555555555556,
             "#d8576b"
            ],
            [
             0.6666666666666666,
             "#ed7953"
            ],
            [
             0.7777777777777778,
             "#fb9f3a"
            ],
            [
             0.8888888888888888,
             "#fdca26"
            ],
            [
             1,
             "#f0f921"
            ]
           ]
          },
          "colorway": [
           "#636efa",
           "#EF553B",
           "#00cc96",
           "#ab63fa",
           "#FFA15A",
           "#19d3f3",
           "#FF6692",
           "#B6E880",
           "#FF97FF",
           "#FECB52"
          ],
          "font": {
           "color": "#2a3f5f"
          },
          "geo": {
           "bgcolor": "white",
           "lakecolor": "white",
           "landcolor": "white",
           "showlakes": true,
           "showland": true,
           "subunitcolor": "#C8D4E3"
          },
          "hoverlabel": {
           "align": "left"
          },
          "hovermode": "closest",
          "mapbox": {
           "style": "light"
          },
          "paper_bgcolor": "white",
          "plot_bgcolor": "white",
          "polar": {
           "angularaxis": {
            "gridcolor": "#EBF0F8",
            "linecolor": "#EBF0F8",
            "ticks": ""
           },
           "bgcolor": "white",
           "radialaxis": {
            "gridcolor": "#EBF0F8",
            "linecolor": "#EBF0F8",
            "ticks": ""
           }
          },
          "scene": {
           "xaxis": {
            "backgroundcolor": "white",
            "gridcolor": "#DFE8F3",
            "gridwidth": 2,
            "linecolor": "#EBF0F8",
            "showbackground": true,
            "ticks": "",
            "zerolinecolor": "#EBF0F8"
           },
           "yaxis": {
            "backgroundcolor": "white",
            "gridcolor": "#DFE8F3",
            "gridwidth": 2,
            "linecolor": "#EBF0F8",
            "showbackground": true,
            "ticks": "",
            "zerolinecolor": "#EBF0F8"
           },
           "zaxis": {
            "backgroundcolor": "white",
            "gridcolor": "#DFE8F3",
            "gridwidth": 2,
            "linecolor": "#EBF0F8",
            "showbackground": true,
            "ticks": "",
            "zerolinecolor": "#EBF0F8"
           }
          },
          "shapedefaults": {
           "line": {
            "color": "#2a3f5f"
           }
          },
          "ternary": {
           "aaxis": {
            "gridcolor": "#DFE8F3",
            "linecolor": "#A2B1C6",
            "ticks": ""
           },
           "baxis": {
            "gridcolor": "#DFE8F3",
            "linecolor": "#A2B1C6",
            "ticks": ""
           },
           "bgcolor": "white",
           "caxis": {
            "gridcolor": "#DFE8F3",
            "linecolor": "#A2B1C6",
            "ticks": ""
           }
          },
          "title": {
           "x": 0.05
          },
          "xaxis": {
           "automargin": true,
           "gridcolor": "#EBF0F8",
           "linecolor": "#EBF0F8",
           "ticks": "",
           "title": {
            "standoff": 15
           },
           "zerolinecolor": "#EBF0F8",
           "zerolinewidth": 2
          },
          "yaxis": {
           "automargin": true,
           "gridcolor": "#EBF0F8",
           "linecolor": "#EBF0F8",
           "ticks": "",
           "title": {
            "standoff": 15
           },
           "zerolinecolor": "#EBF0F8",
           "zerolinewidth": 2
          }
         }
        },
        "xaxis": {
         "anchor": "y",
         "autorange": true,
         "domain": [
          0,
          1
         ],
         "range": [
          "2021-12-06 02:03:13.018",
          "2022-01-15 05:48:39.922"
         ],
         "title": {
          "text": "Date"
         },
         "type": "date"
        },
        "yaxis": {
         "anchor": "x",
         "autorange": true,
         "domain": [
          0,
          1
         ],
         "range": [
          -0.4444444444444445,
          8.444444444444445
         ],
         "title": {
          "text": "Location"
         },
         "type": "category"
        }
       }
      },
      "image/png": "[encoded data removed]",
      "text/html": [
       "<div>                            <div id=\"604e3ee3-22fd-4162-b97e-8da46fc9f042\" class=\"plotly-graph-div\" style=\"height:525px; width:100%;\"></div>            <script type=\"text/javascript\">                require([\"plotly\"], function(Plotly) {                    window.PLOTLYENV=window.PLOTLYENV || {};                                    if (document.getElementById(\"604e3ee3-22fd-4162-b97e-8da46fc9f042\")) {                    Plotly.newPlot(                        \"604e3ee3-22fd-4162-b97e-8da46fc9f042\",                        [{\"hovertemplate\":\"Date=%{x}<br>Location=%{y}<extra></extra>\",\"legendgroup\":\"\",\"line\":{\"color\":\"#636efa\",\"dash\":\"solid\"},\"marker\":{\"symbol\":\"circle\"},\"mode\":\"lines\",\"name\":\"\",\"orientation\":\"v\",\"showlegend\":false,\"x\":[\"2021-12-30T19:56:11.995Z\",\"2021-12-31T17:16:01.168Z\",\"2021-12-30T16:47:34.685Z\",\"2021-12-31T00:07:54.511Z\",\"2021-12-30T15:52:30.802Z\",\"2021-12-31T18:56:46.113Z\",\"2021-12-31T05:41:21.505Z\",\"2021-12-30T14:54:11.577Z\",\"2021-12-30T23:52:31.608Z\",\"2021-12-31T00:57:01.927Z\",\"2022-01-01T02:36:53.653Z\",\"2022-01-01T00:34:15.800Z\",\"2021-12-29T18:40:08.980Z\",\"2021-12-30T11:47:57.650Z\",\"2021-12-31T08:16:59.907Z\",\"2021-12-31T14:34:02.811Z\",\"2021-12-30T14:33:01.939Z\",\"2021-12-30T22:41:30.108Z\",\"2021-12-30T15:06:20.301Z\",\"2021-12-28T21:28:04.540Z\",\"2021-12-31T00:37:12.281Z\",\"2021-12-26T14:08:55.953Z\",\"2021-12-06T02:03:13.018Z\",\"2021-12-30T08:35:26.886Z\",\"2021-12-30T10:56:30.584Z\",\"2021-12-29T13:57:02.114Z\",\"2021-12-31T21:19:33.761Z\",\"2022-01-01T09:50:54.661Z\",\"2021-12-30T17:50:06.408Z\",\"2021-12-30T20:21:59.561Z\",\"2021-12-29T19:56:07.896Z\",\"2021-12-30T15:46:00.521Z\",\"2021-12-31T23:25:35.535Z\",\"2021-12-31T13:07:17.507Z\",\"2021-12-31T19:35:12.397Z\",\"2021-12-30T20:48:20.308Z\",\"2021-12-31T08:07:15.553Z\",\"2021-12-29T13:39:37.992Z\",\"2021-12-31T15:32:46.278Z\",\"2022-01-01T01:40:48.877Z\",\"2021-12-31T21:05:35.529Z\",\"2021-12-31T00:33:28.860Z\",\"2021-12-27T16:04:31.996Z\",\"2022-01-01T10:35:03.476Z\",\"2022-01-01T17:46:35.434Z\",\"2022-01-02T01:13:06.996Z\",\"2022-01-02T00:02:26.775Z\",\"2022-01-02T00:04:47.806Z\",\"2022-01-01T10:47:18.639Z\",\"2021-12-30T09:22:13.234Z\",\"2022-01-01T09:48:37.649Z\",\"2021-12-30T03:17:00.743Z\",\"2022-01-01T21:05:27.558Z\",\"2022-01-01T10:34:14.792Z\",\"2022-01-01T13:22:50.331Z\",\"2022-01-01T17:06:29.741Z\",\"2021-12-30T11:23:32.254Z\",\"2022-01-01T23:25:26.397Z\",\"2021-12-30T16:37:25.257Z\",\"2021-12-30T19:00:14.936Z\",\"2022-01-01T01:08:50.211Z\",\"2022-01-01T01:06:35.473Z\",\"2021-12-31T15:43:08.085Z\",\"2021-12-30T22:17:17.258Z\",\"2022-01-01T19:08:45.691Z\",\"2021-12-26T19:46:16.016Z\",\"2022-01-02T04:01:54.259Z\",\"2022-01-01T15:48:13.052Z\",\"2022-01-01T11:04:33.092Z\",\"2021-12-30T13:21:25.888Z\",\"2022-01-01T17:33:15.718Z\",\"2021-12-30T21:48:33.531Z\",\"2022-01-01T19:28:20.968Z\",\"2022-01-01T17:26:27.397Z\",\"2022-01-01T20:11:07.189Z\",\"2022-01-02T07:10:39.537Z\",\"2022-01-02T07:12:32.866Z\",\"2022-01-01T21:10:36.061Z\",\"2022-01-01T10:24:21.262Z\",\"2021-12-30T13:58:51.689Z\",\"2021-12-31T23:58:21.780Z\",\"2021-12-31T21:11:40.959Z\",\"2021-12-29T14:24:51.460Z\",\"2021-12-30T19:31:05.074Z\",\"2022-01-02T09:21:12.712Z\",\"2022-01-02T00:20:38.651Z\",\"2021-12-30T01:48:06.054Z\",\"2021-12-30T17:32:46.834Z\",\"2021-12-31T21:51:59.082Z\",\"2021-12-31T07:06:49.838Z\",\"2021-12-31T04:47:01.856Z\",\"2022-01-02T04:52:16.718Z\",\"2022-01-02T15:06:56.564Z\",\"2021-12-28T21:48:04.515Z\",\"2022-01-02T14:30:53.241Z\",\"2021-12-31T19:23:16.474Z\",\"2021-12-28T22:23:25.317Z\",\"2022-01-02T16:21:53.009Z\",\"2022-01-01T21:09:43.953Z\",\"2022-01-02T03:02:36.733Z\",\"2022-01-01T14:31:42.476Z\",\"2022-01-01T22:18:19.937Z\",\"2022-01-01T21:30:34.933Z\",\"2022-01-02T19:22:34.031Z\",\"2022-01-02T12:21:11.985Z\",\"2022-01-02T18:48:48.556Z\",\"2021-12-31T16:25:14.286Z\",\"2021-12-23T17:30:22.922Z\",\"2022-01-03T01:05:58.729Z\",\"2022-01-03T00:51:41.259Z\",\"2022-01-01T08:07:52.701Z\",\"2022-01-02T13:05:03.346Z\",\"2022-01-02T05:42:36.588Z\",\"2022-01-02T13:05:21.985Z\",\"2022-01-02T08:50:51.065Z\",\"2021-12-30T23:04:28.941Z\",\"2022-01-02T00:56:03.652Z\",\"2022-01-02T22:17:04.768Z\",\"2021-12-31T16:49:10.352Z\",\"2022-01-03T08:58:11.573Z\",\"2022-01-01T22:21:23.899Z\",\"2021-12-29T15:49:47.294Z\",\"2022-01-02T19:56:52.634Z\",\"2022-01-01T17:24:36.938Z\",\"2022-01-03T10:42:12.115Z\",\"2022-01-03T15:44:55.549Z\",\"2022-01-03T17:17:46.758Z\",\"2022-01-03T14:56:32.034Z\",\"2022-01-02T11:13:20.865Z\",\"2021-12-31T12:34:58.570Z\",\"2022-01-03T20:40:06.034Z\",\"2022-01-03T14:32:21.082Z\",\"2022-01-04T00:02:48.521Z\",\"2021-12-30T01:25:16.875Z\",\"2021-12-26T00:05:58.035Z\",\"2022-01-03T17:10:55.735Z\",\"2022-01-03T12:05:15.952Z\",\"2022-01-04T03:04:14.125Z\",\"2022-01-02T22:23:21.395Z\",\"2022-01-03T22:14:04.639Z\",\"2022-01-02T04:22:46.757Z\",\"2021-12-31T20:31:08.881Z\",\"2022-01-03T21:42:20.218Z\",\"2022-01-03T20:48:59.110Z\",\"2022-01-02T11:09:28.827Z\",\"2022-01-02T20:57:37.390Z\",\"2022-01-03T19:58:43.674Z\",\"2022-01-04T07:59:14.873Z\",\"2022-01-03T00:26:45.480Z\",\"2022-01-02T19:53:24.473Z\",\"2022-01-03T12:51:38.896Z\",\"2022-01-03T19:38:04.916Z\",\"2022-01-04T12:06:35.651Z\",\"2022-01-04T12:39:09.931Z\",\"2022-01-03T04:58:04.023Z\",\"2021-12-31T19:26:13.215Z\",\"2022-01-03T15:19:00.277Z\",\"2022-01-03T15:46:32.741Z\",\"2022-01-03T18:06:58.398Z\",\"2021-12-26T06:41:00.599Z\",\"2022-01-01T01:40:48.881Z\",\"2021-12-27T14:42:17.636Z\",\"2022-01-03T22:28:19.130Z\",\"2022-01-04T13:04:37.551Z\",\"2022-01-04T13:58:27.212Z\",\"2022-01-02T18:56:19.051Z\",\"2022-01-03T17:44:47.660Z\",\"2022-01-04T16:49:22.412Z\",\"2022-01-04T14:12:19.751Z\",\"2021-12-31T16:57:02.145Z\",\"2022-01-03T19:58:43.671Z\",\"2022-01-03T16:14:42.379Z\",\"2021-12-24T23:59:31.952Z\",\"2022-01-04T12:04:15.559Z\",\"2022-01-04T18:26:39.294Z\",\"2022-01-05T05:10:38.490Z\",\"2022-01-05T05:57:57.202Z\",\"2022-01-04T20:57:26.339Z\",\"2022-01-02T20:14:19.582Z\",\"2022-01-04T18:15:04.237Z\",\"2022-01-04T23:35:15.684Z\",\"2022-01-05T05:39:35.008Z\",\"2022-01-04T03:52:15.524Z\",\"2022-01-03T19:31:32.661Z\",\"2022-01-05T05:19:39.404Z\",\"2022-01-04T19:35:42.521Z\",\"2022-01-04T15:04:45.996Z\",\"2022-01-02T21:50:22.263Z\",\"2022-01-04T09:41:38.092Z\",\"2022-01-04T07:05:48.295Z\",\"2022-01-04T22:51:12.493Z\",\"2022-01-04T22:03:41.981Z\",\"2022-01-02T18:44:58.524Z\",\"2022-01-01T03:00:59.946Z\",\"2022-01-02T22:50:03.549Z\",\"2022-01-04T06:59:23.279Z\",\"2022-01-05T13:21:15.266Z\",\"2022-01-04T22:31:09.411Z\",\"2022-01-04T23:37:57.207Z\",\"2022-01-03T17:34:01.179Z\",\"2021-12-31T23:58:48.914Z\",\"2022-01-01T16:46:05.360Z\",\"2022-01-04T22:21:24.753Z\",\"2022-01-04T19:40:14.134Z\",\"2022-01-05T15:04:39.464Z\",\"2022-01-02T22:24:52.792Z\",\"2022-01-05T09:21:49.463Z\",\"2022-01-04T21:47:11.381Z\",\"2022-01-05T03:12:25.183Z\",\"2022-01-05T17:35:46.494Z\",\"2022-01-05T00:24:00.840Z\",\"2022-01-04T13:57:20.501Z\",\"2022-01-04T13:42:51.668Z\",\"2022-01-04T03:02:57.553Z\",\"2022-01-05T03:31:12.150Z\",\"2022-01-05T17:10:00.041Z\",\"2022-01-06T07:00:07.485Z\",\"2022-01-05T10:53:15.993Z\",\"2022-01-05T13:52:19.767Z\",\"2022-01-05T10:01:16.631Z\",\"2022-01-05T08:53:04.305Z\",\"2022-01-05T23:41:02.021Z\",\"2022-01-01T07:18:05.451Z\",\"2021-12-26T11:26:57.717Z\",\"2022-01-03T19:31:13.687Z\",\"2021-12-26T21:35:17.150Z\",\"2022-01-05T09:19:17.575Z\",\"2022-01-05T18:35:28.181Z\",\"2022-01-03T21:12:20.544Z\",\"2022-01-04T22:45:17.176Z\",\"2022-01-04T17:59:41.442Z\",\"2022-01-03T23:26:33.371Z\",\"2022-01-03T20:07:05.543Z\",\"2022-01-02T02:04:10.275Z\",\"2022-01-05T16:12:24.541Z\",\"2022-01-06T02:09:49.367Z\",\"2022-01-05T11:37:03.362Z\",\"2022-01-04T13:33:29.481Z\",\"2022-01-02T04:55:16.369Z\",\"2022-01-04T12:28:33.755Z\",\"2022-01-04T18:47:42.763Z\",\"2022-01-04T17:00:21.745Z\",\"2022-01-04T19:51:33.218Z\",\"2022-01-02T10:33:20.561Z\",\"2022-01-05T17:10:17.579Z\",\"2022-01-06T12:25:40.753Z\",\"2022-01-05T20:50:40.010Z\",\"2022-01-04T10:56:43.184Z\",\"2022-01-05T13:44:07.554Z\",\"2022-01-05T23:01:58.157Z\",\"2022-01-05T19:28:21.017Z\",\"2022-01-06T20:15:10.673Z\",\"2022-01-07T00:30:26.300Z\",\"2022-01-07T01:36:46.490Z\",\"2022-01-05T22:09:21.701Z\",\"2022-01-06T23:12:05.221Z\",\"2022-01-05T06:34:49.943Z\",\"2021-12-15T00:47:27.019Z\",\"2022-01-06T19:13:01.613Z\",\"2021-12-30T10:42:01.639Z\",\"2022-01-06T21:24:06.483Z\",\"2022-01-06T09:49:58.149Z\",\"2022-01-08T00:39:15.617Z\",\"2022-01-08T06:12:57.151Z\",\"2022-01-08T06:19:35.307Z\",\"2022-01-06T07:28:44.897Z\",\"2022-01-01T15:29:12.740Z\",\"2022-01-01T01:28:39.369Z\",\"2022-01-07T00:49:45.251Z\",\"2022-01-06T15:56:52.344Z\",\"2022-01-07T14:22:30.769Z\",\"2022-01-05T03:46:58.596Z\",\"2021-12-30T14:13:30.527Z\",\"2022-01-07T15:16:32.823Z\",\"2022-01-07T17:18:39.656Z\",\"2022-01-07T23:44:16.831Z\",\"2022-01-07T08:45:28.822Z\",\"2022-01-05T19:13:09.580Z\",\"2022-01-04T23:59:58.294Z\",\"2022-01-07T22:55:54.190Z\",\"2022-01-04T08:22:23.396Z\",\"2022-01-07T08:33:33.719Z\",\"2022-01-05T22:36:58.039Z\",\"2022-01-08T11:05:50.801Z\",\"2022-01-07T20:27:58.221Z\",\"2022-01-07T12:24:44.041Z\",\"2022-01-08T09:01:00.070Z\",\"2022-01-08T08:35:55.129Z\",\"2022-01-08T12:08:54.412Z\",\"2022-01-06T18:49:59.492Z\",\"2022-01-08T13:43:59.506Z\",\"2022-01-07T12:02:36.696Z\",\"2022-01-05T12:59:13.794Z\",\"2022-01-08T10:42:40.407Z\",\"2022-01-08T01:22:23.534Z\",\"2022-01-07T19:20:49.411Z\",\"2022-01-08T19:55:26.387Z\",\"2021-12-31T17:53:02.294Z\",\"2022-01-02T18:58:15.080Z\",\"2022-01-08T18:38:05.461Z\",\"2022-01-08T12:12:02.556Z\",\"2022-01-08T14:43:28.018Z\",\"2022-01-09T00:58:55.400Z\",\"2022-01-08T20:02:12.263Z\",\"2022-01-09T07:15:02.263Z\",\"2022-01-09T07:26:04.353Z\",\"2022-01-07T22:36:42.181Z\",\"2022-01-08T12:44:48.899Z\",\"2022-01-08T20:21:33.717Z\",\"2022-01-06T16:52:58.529Z\",\"2022-01-09T06:26:37.743Z\",\"2022-01-08T14:16:10.041Z\",\"2022-01-09T04:41:58.008Z\",\"2022-01-06T12:07:03.586Z\",\"2022-01-09T00:21:22.319Z\",\"2022-01-07T19:54:54.630Z\",\"2022-01-08T20:39:53.497Z\",\"2022-01-09T08:29:02.932Z\",\"2022-01-08T00:54:32.597Z\",\"2022-01-04T22:30:10.828Z\",\"2022-01-08T15:24:33.249Z\",\"2022-01-09T13:31:30.032Z\",\"2022-01-07T23:15:28.098Z\",\"2022-01-09T11:24:41.012Z\",\"2022-01-09T15:58:06.854Z\",\"2022-01-06T21:57:00.784Z\",\"2022-01-07T14:39:31.572Z\",\"2022-01-08T07:58:04.653Z\",\"2022-01-09T16:45:27.191Z\",\"2022-01-08T15:03:07.767Z\",\"2022-01-10T00:06:35.725Z\",\"2022-01-05T13:45:13.919Z\",\"2022-01-07T07:53:53.332Z\",\"2022-01-07T20:17:44.018Z\",\"2022-01-09T19:56:03.448Z\",\"2022-01-07T19:36:42.410Z\",\"2022-01-08T01:12:02.503Z\",\"2022-01-09T15:55:19.212Z\",\"2022-01-10T07:39:53.491Z\",\"2022-01-10T02:36:03.460Z\",\"2022-01-09T13:26:47.717Z\",\"2022-01-09T13:06:31.597Z\",\"2022-01-06T11:08:31.496Z\",\"2022-01-09T02:02:28.024Z\",\"2022-01-10T12:37:58.891Z\",\"2022-01-08T15:40:46.528Z\",\"2022-01-08T18:29:19.344Z\",\"2022-01-08T19:09:32.685Z\",\"2022-01-10T07:44:51.726Z\",\"2022-01-08T20:52:44.266Z\",\"2022-01-09T10:52:52.602Z\",\"2022-01-06T22:45:47.701Z\",\"2022-01-08T16:10:49.003Z\",\"2022-01-10T14:35:57.800Z\",\"2022-01-10T14:38:07.398Z\",\"2022-01-10T15:31:01.150Z\",\"2022-01-11T01:16:26.390Z\",\"2022-01-07T20:46:35.655Z\",\"2022-01-10T07:05:12.806Z\",\"2022-01-11T04:09:35.264Z\",\"2022-01-11T03:31:32.236Z\",\"2022-01-10T16:57:31.035Z\",\"2022-01-06T18:13:05.278Z\",\"2022-01-09T22:27:01.092Z\",\"2022-01-10T15:58:37.252Z\",\"2022-01-10T22:39:06.114Z\",\"2022-01-10T22:42:10.903Z\",\"2022-01-10T03:09:27.072Z\",\"2022-01-10T12:33:47.051Z\",\"2022-01-11T00:53:54.745Z\",\"2022-01-11T04:19:42.446Z\",\"2022-01-03T17:34:54.150Z\",\"2022-01-10T18:23:02.163Z\",\"2022-01-10T13:35:03.236Z\",\"2022-01-02T17:08:44.305Z\",\"2022-01-05T16:42:14.819Z\",\"2022-01-09T11:41:32.092Z\",\"2022-01-11T06:01:21.073Z\",\"2022-01-10T01:08:36.853Z\",\"2022-01-11T06:48:37.195Z\",\"2022-01-11T00:17:17.143Z\",\"2022-01-11T08:26:18.415Z\",\"2022-01-11T13:21:28.086Z\",\"2022-01-11T11:09:12.597Z\",\"2022-01-05T02:59:30.398Z\",\"2022-01-11T13:51:29.440Z\",\"2022-01-08T13:18:27.055Z\",\"2022-01-11T09:59:04.848Z\",\"2022-01-03T07:32:13.578Z\",\"2022-01-11T19:00:11.755Z\",\"2022-01-11T19:27:14.975Z\",\"2022-01-10T09:15:50.201Z\",\"2022-01-07T02:12:21.627Z\",\"2022-01-11T18:50:36.986Z\",\"2022-01-12T00:46:37.364Z\",\"2022-01-09T11:44:26.763Z\",\"2022-01-11T23:29:47.837Z\",\"2022-01-10T01:34:37.379Z\",\"2022-01-12T01:46:07.165Z\",\"2022-01-11T22:11:53.750Z\",\"2022-01-04T09:41:15.872Z\",\"2021-12-30T21:30:09.352Z\",\"2022-01-11T16:24:16.582Z\",\"2022-01-11T16:44:58.656Z\",\"2022-01-11T19:57:50.961Z\",\"2022-01-09T21:56:40.301Z\",\"2022-01-12T12:02:19.824Z\",\"2022-01-10T15:04:28.303Z\",\"2022-01-12T02:18:53.086Z\",\"2022-01-06T22:22:50.922Z\",\"2022-01-10T17:31:15.553Z\",\"2022-01-11T19:31:27.774Z\",\"2022-01-05T03:52:02.046Z\",\"2022-01-12T16:22:46.854Z\",\"2022-01-12T18:31:26.522Z\",\"2022-01-12T23:39:23.811Z\",\"2022-01-12T12:15:52.872Z\",\"2022-01-12T09:58:14.014Z\",\"2022-01-09T15:31:01.659Z\",\"2022-01-13T05:05:13.993Z\",\"2022-01-12T19:32:43.118Z\",\"2022-01-12T19:39:12.140Z\",\"2022-01-12T19:47:52.948Z\",\"2022-01-12T19:53:51.785Z\",\"2022-01-12T11:05:42.280Z\",\"2022-01-10T11:54:00.769Z\",\"2022-01-13T03:19:17.814Z\",\"2022-01-08T23:33:10.196Z\",\"2022-01-13T05:29:29.120Z\",\"2022-01-13T08:39:30.210Z\",\"2022-01-12T19:44:47.191Z\",\"2022-01-13T02:45:40.291Z\",\"2022-01-11T09:53:08.985Z\",\"2022-01-13T09:53:51.232Z\",\"2022-01-03T12:19:03.271Z\",\"2022-01-13T13:32:10.087Z\",\"2022-01-11T07:42:54.106Z\",\"2022-01-09T22:26:11.220Z\",\"2022-01-12T23:01:46.884Z\",\"2022-01-13T05:50:15.312Z\",\"2022-01-13T11:56:54.687Z\",\"2022-01-04T20:38:31.962Z\",\"2022-01-13T15:40:22.388Z\",\"2022-01-12T12:54:56.852Z\",\"2022-01-10T04:32:16.745Z\",\"2022-01-12T04:03:17.955Z\",\"2022-01-09T01:45:18.344Z\",\"2022-01-11T13:47:48.106Z\",\"2022-01-13T13:14:55.579Z\",\"2022-01-12T21:50:42.780Z\",\"2022-01-10T17:12:58.918Z\",\"2022-01-13T08:06:39.067Z\",\"2022-01-13T05:41:14.960Z\",\"2022-01-14T13:44:38.919Z\",\"2022-01-14T02:24:10.201Z\",\"2022-01-13T23:16:05.542Z\",\"2022-01-14T13:34:10.500Z\",\"2022-01-13T20:37:11.331Z\",\"2022-01-15T05:48:39.922Z\",\"2022-01-12T00:55:17.677Z\",\"2022-01-13T18:44:33.650Z\",\"2022-01-13T10:47:52.382Z\",\"2022-01-13T16:20:54.884Z\",\"2022-01-11T06:13:17.811Z\",\"2022-01-14T16:27:45.761Z\",\"2022-01-14T17:42:43.823Z\",\"2022-01-14T21:34:39.323Z\",\"2022-01-14T16:57:22.789Z\"],\"xaxis\":\"x\",\"y\":[\"Gabiley\",\"Berbera\",\"Ceerigabo\",\"Gabiley\",\"Oodweyne\",\"Buuhoodle\",\"Borama\",\"Berbera\",\"Laascaanod\",\"Gabiley\",\"Borama\",\"Burco\",\"Borama\",\"Laascaanod\",\"Laascaanod\",\"Buuhoodle\",\"Oodweyne\",\"Burco\",\"Borama\",\"Oodweyne\",\"Burco\",\"Berbera\",\"Hargeisa\",\"Buuhoodle\",\"Gabiley\",\"Buuhoodle\",\"Oodweyne\",\"Ceerigabo\",\"Ceerigabo\",\"Gabiley\",\"Oodweyne\",\"Berbera\",\"Buuhoodle\",\"Berbera\",\"Laascaanod\",\"Oodweyne\",\"Ceerigabo\",\"Laascaanod\",\"Burco\",\"Laascaanod\",\"Borama\",\"Laascaanod\",\"Buuhoodle\",\"Gabiley\",\"Berbera\",\"Hargeisa\",\"Buuhoodle\",\"Buuhoodle\",\"Borama\",\"Hargeisa\",\"Burco\",\"Buuhoodle\",\"Borama\",\"Laascaanod\",\"Laascaanod\",\"Burco\",\"Laascaanod\",\"Gabiley\",\"Gabiley\",\"Burco\",\"Borama\",\"Ceerigabo\",\"Berbera\",\"Oodweyne\",\"Ceerigabo\",\"Gabiley\",\"Borama\",\"Burco\",\"Borama\",\"Laascaanod\",\"Borama\",\"Oodweyne\",\"Gabiley\",\"Buuhoodle\",\"Hargeisa\",\"Buuhoodle\",\"Berbera\",\"Hargeisa\",\"Laascaanod\",\"Hargeisa\",\"Borama\",\"Oodweyne\",\"Berbera\",\"Berbera\",\"Oodweyne\",\"Hargeisa\",\"Burco\",\"Oodweyne\",\"Burco\",\"Burco\",\"Laascaanod\",\"Gabiley\",\"Gabiley\",\"Oodweyne\",\"Gabiley\",\"Laascaanod\",\"Burco\",\"Burco\",\"Laascaanod\",\"Berbera\",\"Burco\",\"Berbera\",\"Burco\",\"Laascaanod\",\"Ceerigabo\",\"Berbera\",\"Berbera\",\"Berbera\",\"Oodweyne\",\"Berbera\",\"Gabiley\",\"Buuhoodle\",\"Oodweyne\",\"Gabiley\",\"Buuhoodle\",\"Berbera\",\"Gabiley\",\"Hargeisa\",\"Berbera\",\"Gabiley\",\"Hargeisa\",\"Ceerigabo\",\"Burco\",\"Gabiley\",\"Oodweyne\",\"Hargeisa\",\"Berbera\",\"Laascaanod\",\"Buuhoodle\",\"Berbera\",\"Oodweyne\",\"Hargeisa\",\"Hargeisa\",\"Gabiley\",\"Gabiley\",\"Burco\",\"Burco\",\"Oodweyne\",\"Borama\",\"Hargeisa\",\"Hargeisa\",\"Burco\",\"Buuhoodle\",\"Hargeisa\",\"Ceerigabo\",\"Hargeisa\",\"Borama\",\"Oodweyne\",\"Ceerigabo\",\"Gabiley\",\"Ceerigabo\",\"Burco\",\"Buuhoodle\",\"Berbera\",\"Hargeisa\",\"Berbera\",\"Berbera\",\"Hargeisa\",\"Borama\",\"Berbera\",\"Gabiley\",\"Borama\",\"Berbera\",\"Laascaanod\",\"Ceerigabo\",\"Ceerigabo\",\"Burco\",\"Berbera\",\"Laascaanod\",\"Borama\",\"Gabiley\",\"Berbera\",\"Ceerigabo\",\"Berbera\",\"Laascaanod\",\"Berbera\",\"Hargeisa\",\"Berbera\",\"Berbera\",\"Hargeisa\",\"Burco\",\"Borama\",\"Borama\",\"Gabiley\",\"Hargeisa\",\"Laascaanod\",\"Oodweyne\",\"Ceerigabo\",\"Gabiley\",\"Laascaanod\",\"Laascaanod\",\"Oodweyne\",\"Hargeisa\",\"Buuhoodle\",\"Oodweyne\",\"Berbera\",\"Burco\",\"Oodweyne\",\"Borama\",\"Berbera\",\"Burco\",\"Borama\",\"Borama\",\"Buuhoodle\",\"Borama\",\"Ceerigabo\",\"Oodweyne\",\"Borama\",\"Gabiley\",\"Oodweyne\",\"Buuhoodle\",\"Oodweyne\",\"Laascaanod\",\"Burco\",\"Buuhoodle\",\"Oodweyne\",\"Hargeisa\",\"Berbera\",\"Laascaanod\",\"Hargeisa\",\"Borama\",\"Burco\",\"Berbera\",\"Berbera\",\"Gabiley\",\"Hargeisa\",\"Berbera\",\"Buuhoodle\",\"Burco\",\"Ceerigabo\",\"Berbera\",\"Laascaanod\",\"Borama\",\"Gabiley\",\"Buuhoodle\",\"Borama\",\"Borama\",\"Gabiley\",\"Laascaanod\",\"Gabiley\",\"Laascaanod\",\"Hargeisa\",\"Borama\",\"Oodweyne\",\"Burco\",\"Berbera\",\"Burco\",\"Borama\",\"Gabiley\",\"Berbera\",\"Hargeisa\",\"Berbera\",\"Berbera\",\"Hargeisa\",\"Ceerigabo\",\"Borama\",\"Berbera\",\"Borama\",\"Hargeisa\",\"Laascaanod\",\"Buuhoodle\",\"Borama\",\"Burco\",\"Burco\",\"Oodweyne\",\"Ceerigabo\",\"Gabiley\",\"Hargeisa\",\"Gabiley\",\"Burco\",\"Hargeisa\",\"Berbera\",\"Laascaanod\",\"Borama\",\"Gabiley\",\"Buuhoodle\",\"Borama\",\"Borama\",\"Gabiley\",\"Laascaanod\",\"Gabiley\",\"Laascaanod\",\"Hargeisa\",\"Borama\",\"Oodweyne\",\"Burco\",\"Berbera\",\"Burco\",\"Borama\",\"Gabiley\",\"Berbera\",\"Hargeisa\",\"Berbera\",\"Laascaanod\",\"Borama\",\"Gabiley\",\"Buuhoodle\",\"Borama\",\"Borama\",\"Gabiley\",\"Laascaanod\",\"Gabiley\",\"Laascaanod\",\"Hargeisa\",\"Borama\",\"Oodweyne\",\"Burco\",\"Berbera\",\"Burco\",\"Berbera\",\"Laascaanod\",\"Borama\",\"Gabiley\",\"Buuhoodle\",\"Borama\",\"Borama\",\"Gabiley\",\"Laascaanod\",\"Gabiley\",\"Laascaanod\",\"Hargeisa\",\"Borama\",\"Oodweyne\",\"Burco\",\"Berbera\",\"Burco\",\"Borama\",\"Berbera\",\"Laascaanod\",\"Borama\",\"Gabiley\",\"Buuhoodle\",\"Borama\",\"Borama\",\"Gabiley\",\"Laascaanod\",\"Gabiley\",\"Laascaanod\",\"Hargeisa\",\"Borama\",\"Oodweyne\",\"Burco\",\"Berbera\",\"Burco\",\"Borama\",\"Gabiley\",\"Berbera\",\"Berbera\",\"Laascaanod\",\"Borama\",\"Gabiley\",\"Buuhoodle\",\"Borama\",\"Borama\",\"Gabiley\",\"Laascaanod\",\"Gabiley\",\"Laascaanod\",\"Hargeisa\",\"Borama\",\"Oodweyne\",\"Burco\",\"Berbera\",\"Burco\",\"Borama\",\"Gabiley\",\"Berbera\",\"Berbera\",\"Laascaanod\",\"Borama\",\"Gabiley\",\"Buuhoodle\",\"Borama\",\"Borama\",\"Gabiley\",\"Laascaanod\",\"Gabiley\",\"Laascaanod\",\"Hargeisa\",\"Borama\",\"Oodweyne\",\"Burco\",\"Berbera\",\"Burco\",\"Borama\",\"Gabiley\",\"Berbera\",\"Berbera\",\"Laascaanod\",\"Borama\",\"Gabiley\",\"Buuhoodle\",\"Borama\",\"Borama\",\"Gabiley\",\"Laascaanod\",\"Gabiley\",\"Laascaanod\",\"Hargeisa\",\"Borama\",\"Oodweyne\",\"Burco\",\"Berbera\",\"Burco\",\"Borama\",\"Gabiley\",\"Berbera\",\"Berbera\",\"Laascaanod\",\"Borama\",\"Gabiley\",\"Buuhoodle\",\"Borama\",\"Borama\",\"Gabiley\",\"Laascaanod\",\"Gabiley\",\"Laascaanod\",\"Hargeisa\",\"Borama\",\"Oodweyne\",\"Burco\",\"Berbera\",\"Burco\",\"Borama\",\"Gabiley\",\"Berbera\",\"Berbera\",\"Laascaanod\",\"Borama\",\"Gabiley\",\"Buuhoodle\",\"Borama\",\"Borama\",\"Gabiley\",\"Laascaanod\",\"Gabiley\",\"Laascaanod\",\"Hargeisa\",\"Borama\",\"Oodweyne\",\"Burco\",\"Berbera\",\"Burco\",\"Borama\",\"Gabiley\",\"Berbera\",\"Berbera\",\"Laascaanod\",\"Borama\",\"Gabiley\",\"Buuhoodle\",\"Borama\",\"Borama\",\"Gabiley\",\"Laascaanod\",\"Gabiley\",\"Laascaanod\",\"Hargeisa\",\"Borama\",\"Oodweyne\",\"Burco\",\"Berbera\",\"Burco\",\"Borama\",\"Gabiley\",\"Berbera\",\"Hargeisa\"],\"yaxis\":\"y\",\"type\":\"scatter\"}],                        {\"template\":{\"data\":{\"histogram2dcontour\":[{\"type\":\"histogram2dcontour\",\"colorbar\":{\"outlinewidth\":0,\"ticks\":\"\"},\"colorscale\":[[0.0,\"#0d0887\"],[0.1111111111111111,\"#46039f\"],[0.2222222222222222,\"#7201a8\"],[0.3333333333333333,\"#9c179e\"],[0.4444444444444444,\"#bd3786\"],[0.5555555555555556,\"#d8576b\"],[0.6666666666666666,\"#ed7953\"],[0.7777777777777778,\"#fb9f3a\"],[0.8888888888888888,\"#fdca26\"],[1.0,\"#f0f921\"]]}],\"choropleth\":[{\"type\":\"choropleth\",\"colorbar\":{\"outlinewidth\":0,\"ticks\":\"\"}}],\"histogram2d\":[{\"type\":\"histogram2d\",\"colorbar\":{\"outlinewidth\":0,\"ticks\":\"\"},\"colorscale\":[[0.0,\"#0d0887\"],[0.1111111111111111,\"#46039f\"],[0.2222222222222222,\"#7201a8\"],[0.3333333333333333,\"#9c179e\"],[0.4444444444444444,\"#bd3786\"],[0.5555555555555556,\"#d8576b\"],[0.6666666666666666,\"#ed7953\"],[0.7777777777777778,\"#fb9f3a\"],[0.8888888888888888,\"#fdca26\"],[1.0,\"#f0f921\"]]}],\"heatmap\":[{\"type\":\"heatmap\",\"colorbar\":{\"outlinewidth\":0,\"ticks\":\"\"},\"colorscale\":[[0.0,\"#0d0887\"],[0.1111111111111111,\"#46039f\"],[0.2222222222222222,\"#7201a8\"],[0.3333333333333333,\"#9c179e\"],[0.4444444444444444,\"#bd3786\"],[0.5555555555555556,\"#d8576b\"],[0.6666666666666666,\"#ed7953\"],[0.7777777777777778,\"#fb9f3a\"],[0.8888888888888888,\"#fdca26\"],[1.0,\"#f0f921\"]]}],\"heatmapgl\":[{\"type\":\"heatmapgl\",\"colorbar\":{\"outlinewidth\":0,\"ticks\":\"\"},\"colorscale\":[[0.0,\"#0d0887\"],[0.1111111111111111,\"#46039f\"],[0.2222222222222222,\"#7201a8\"],[0.3333333333333333,\"#9c179e\"],[0.4444444444444444,\"#bd3786\"],[0.5555555555555556,\"#d8576b\"],[0.6666666666666666,\"#ed7953\"],[0.7777777777777778,\"#fb9f3a\"],[0.8888888888888888,\"#fdca26\"],[1.0,\"#f0f921\"]]}],\"contourcarpet\":[{\"type\":\"contourcarpet\",\"colorbar\":{\"outlinewidth\":0,\"ticks\":\"\"}}],\"contour\":[{\"type\":\"contour\",\"colorbar\":{\"outlinewidth\":0,\"ticks\":\"\"},\"colorscale\":[[0.0,\"#0d0887\"],[0.1111111111111111,\"#46039f\"],[0.2222222222222222,\"#7201a8\"],[0.3333333333333333,\"#9c179e\"],[0.4444444444444444,\"#bd3786\"],[0.5555555555555556,\"#d8576b\"],[0.6666666666666666,\"#ed7953\"],[0.7777777777777778,\"#fb9f3a\"],[0.8888888888888888,\"#fdca26\"],[1.0,\"#f0f921\"]]}],\"surface\":[{\"type\":\"surface\",\"colorbar\":{\"outlinewidth\":0,\"ticks\":\"\"},\"colorscale\":[[0.0,\"#0d0887\"],[0.1111111111111111,\"#46039f\"],[0.2222222222222222,\"#7201a8\"],[0.3333333333333333,\"#9c179e\"],[0.4444444444444444,\"#bd3786\"],[0.5555555555555556,\"#d8576b\"],[0.6666666666666666,\"#ed7953\"],[0.7777777777777778,\"#fb9f3a\"],[0.8888888888888888,\"#fdca26\"],[1.0,\"#f0f921\"]]}],\"mesh3d\":[{\"type\":\"mesh3d\",\"colorbar\":{\"outlinewidth\":0,\"ticks\":\"\"}}],\"scatter\":[{\"fillpattern\":{\"fillmode\":\"overlay\",\"size\":10,\"solidity\":0.2},\"type\":\"scatter\"}],\"parcoords\":[{\"type\":\"parcoords\",\"line\":{\"colorbar\":{\"outlinewidth\":0,\"ticks\":\"\"}}}],\"scatterpolargl\":[{\"type\":\"scatterpolargl\",\"marker\":{\"colorbar\":{\"outlinewidth\":0,\"ticks\":\"\"}}}],\"bar\":[{\"error_x\":{\"color\":\"#2a3f5f\"},\"error_y\":{\"color\":\"#2a3f5f\"},\"marker\":{\"line\":{\"color\":\"white\",\"width\":0.5},\"pattern\":{\"fillmode\":\"overlay\",\"size\":10,\"solidity\":0.2}},\"type\":\"bar\"}],\"scattergeo\":[{\"type\":\"scattergeo\",\"marker\":{\"colorbar\":{\"outlinewidth\":0,\"ticks\":\"\"}}}],\"scatterpolar\":[{\"type\":\"scatterpolar\",\"marker\":{\"colorbar\":{\"outlinewidth\":0,\"ticks\":\"\"}}}],\"histogram\":[{\"marker\":{\"pattern\":{\"fillmode\":\"overlay\",\"size\":10,\"solidity\":0.2}},\"type\":\"histogram\"}],\"scattergl\":[{\"type\":\"scattergl\",\"marker\":{\"colorbar\":{\"outlinewidth\":0,\"ticks\":\"\"}}}],\"scatter3d\":[{\"type\":\"scatter3d\",\"line\":{\"colorbar\":{\"outlinewidth\":0,\"ticks\":\"\"}},\"marker\":{\"colorbar\":{\"outlinewidth\":0,\"ticks\":\"\"}}}],\"scattermapbox\":[{\"type\":\"scattermapbox\",\"marker\":{\"colorbar\":{\"outlinewidth\":0,\"ticks\":\"\"}}}],\"scatterternary\":[{\"type\":\"scatterternary\",\"marker\":{\"colorbar\":{\"outlinewidth\":0,\"ticks\":\"\"}}}],\"scattercarpet\":[{\"type\":\"scattercarpet\",\"marker\":{\"colorbar\":{\"outlinewidth\":0,\"ticks\":\"\"}}}],\"carpet\":[{\"aaxis\":{\"endlinecolor\":\"#2a3f5f\",\"gridcolor\":\"#C8D4E3\",\"linecolor\":\"#C8D4E3\",\"minorgridcolor\":\"#C8D4E3\",\"startlinecolor\":\"#2a3f5f\"},\"baxis\":{\"endlinecolor\":\"#2a3f5f\",\"gridcolor\":\"#C8D4E3\",\"linecolor\":\"#C8D4E3\",\"minorgridcolor\":\"#C8D4E3\",\"startlinecolor\":\"#2a3f5f\"},\"type\":\"carpet\"}],\"table\":[{\"cells\":{\"fill\":{\"color\":\"#EBF0F8\"},\"line\":{\"color\":\"white\"}},\"header\":{\"fill\":{\"color\":\"#C8D4E3\"},\"line\":{\"color\":\"white\"}},\"type\":\"table\"}],\"barpolar\":[{\"marker\":{\"line\":{\"color\":\"white\",\"width\":0.5},\"pattern\":{\"fillmode\":\"overlay\",\"size\":10,\"solidity\":0.2}},\"type\":\"barpolar\"}],\"pie\":[{\"automargin\":true,\"type\":\"pie\"}]},\"layout\":{\"autotypenumbers\":\"strict\",\"colorway\":[\"#636efa\",\"#EF553B\",\"#00cc96\",\"#ab63fa\",\"#FFA15A\",\"#19d3f3\",\"#FF6692\",\"#B6E880\",\"#FF97FF\",\"#FECB52\"],\"font\":{\"color\":\"#2a3f5f\"},\"hovermode\":\"closest\",\"hoverlabel\":{\"align\":\"left\"},\"paper_bgcolor\":\"white\",\"plot_bgcolor\":\"white\",\"polar\":{\"bgcolor\":\"white\",\"angularaxis\":{\"gridcolor\":\"#EBF0F8\",\"linecolor\":\"#EBF0F8\",\"ticks\":\"\"},\"radialaxis\":{\"gridcolor\":\"#EBF0F8\",\"linecolor\":\"#EBF0F8\",\"ticks\":\"\"}},\"ternary\":{\"bgcolor\":\"white\",\"aaxis\":{\"gridcolor\":\"#DFE8F3\",\"linecolor\":\"#A2B1C6\",\"ticks\":\"\"},\"baxis\":{\"gridcolor\":\"#DFE8F3\",\"linecolor\":\"#A2B1C6\",\"ticks\":\"\"},\"caxis\":{\"gridcolor\":\"#DFE8F3\",\"linecolor\":\"#A2B1C6\",\"ticks\":\"\"}},\"coloraxis\":{\"colorbar\":{\"outlinewidth\":0,\"ticks\":\"\"}},\"colorscale\":{\"sequential\":[[0.0,\"#0d0887\"],[0.1111111111111111,\"#46039f\"],[0.2222222222222222,\"#7201a8\"],[0.3333333333333333,\"#9c179e\"],[0.4444444444444444,\"#bd3786\"],[0.5555555555555556,\"#d8576b\"],[0.6666666666666666,\"#ed7953\"],[0.7777777777777778,\"#fb9f3a\"],[0.8888888888888888,\"#fdca26\"],[1.0,\"#f0f921\"]],\"sequentialminus\":[[0.0,\"#0d0887\"],[0.1111111111111111,\"#46039f\"],[0.2222222222222222,\"#7201a8\"],[0.3333333333333333,\"#9c179e\"],[0.4444444444444444,\"#bd3786\"],[0.5555555555555556,\"#d8576b\"],[0.6666666666666666,\"#ed7953\"],[0.7777777777777778,\"#fb9f3a\"],[0.8888888888888888,\"#fdca26\"],[1.0,\"#f0f921\"]],\"diverging\":[[0,\"#8e0152\"],[0.1,\"#c51b7d\"],[0.2,\"#de77ae\"],[0.3,\"#f1b6da\"],[0.4,\"#fde0ef\"],[0.5,\"#f7f7f7\"],[0.6,\"#e6f5d0\"],[0.7,\"#b8e186\"],[0.8,\"#7fbc41\"],[0.9,\"#4d9221\"],[1,\"#276419\"]]},\"xaxis\":{\"gridcolor\":\"#EBF0F8\",\"linecolor\":\"#EBF0F8\",\"ticks\":\"\",\"title\":{\"standoff\":15},\"zerolinecolor\":\"#EBF0F8\",\"automargin\":true,\"zerolinewidth\":2},\"yaxis\":{\"gridcolor\":\"#EBF0F8\",\"linecolor\":\"#EBF0F8\",\"ticks\":\"\",\"title\":{\"standoff\":15},\"zerolinecolor\":\"#EBF0F8\",\"automargin\":true,\"zerolinewidth\":2},\"scene\":{\"xaxis\":{\"backgroundcolor\":\"white\",\"gridcolor\":\"#DFE8F3\",\"linecolor\":\"#EBF0F8\",\"showbackground\":true,\"ticks\":\"\",\"zerolinecolor\":\"#EBF0F8\",\"gridwidth\":2},\"yaxis\":{\"backgroundcolor\":\"white\",\"gridcolor\":\"#DFE8F3\",\"linecolor\":\"#EBF0F8\",\"showbackground\":true,\"ticks\":\"\",\"zerolinecolor\":\"#EBF0F8\",\"gridwidth\":2},\"zaxis\":{\"backgroundcolor\":\"white\",\"gridcolor\":\"#DFE8F3\",\"linecolor\":\"#EBF0F8\",\"showbackground\":true,\"ticks\":\"\",\"zerolinecolor\":\"#EBF0F8\",\"gridwidth\":2}},\"shapedefaults\":{\"line\":{\"color\":\"#2a3f5f\"}},\"annotationdefaults\":{\"arrowcolor\":\"#2a3f5f\",\"arrowhead\":0,\"arrowwidth\":1},\"geo\":{\"bgcolor\":\"white\",\"landcolor\":\"white\",\"subunitcolor\":\"#C8D4E3\",\"showland\":true,\"showlakes\":true,\"lakecolor\":\"white\"},\"title\":{\"x\":0.05},\"mapbox\":{\"style\":\"light\"}}},\"xaxis\":{\"anchor\":\"y\",\"domain\":[0.0,1.0],\"title\":{\"text\":\"Date\"}},\"yaxis\":{\"anchor\":\"x\",\"domain\":[0.0,1.0],\"title\":{\"text\":\"Location\"}},\"legend\":{\"tracegroupgap\":0},\"margin\":{\"t\":60}},                        {\"responsive\": true}                    ).then(function(){\n",
       "                            \n",
       "var gd = document.getElementById('604e3ee3-22fd-4162-b97e-8da46fc9f042');\n",
       "var x = new MutationObserver(function (mutations, observer) {{\n",
       "        var display = window.getComputedStyle(gd).display;\n",
       "        if (!display || display === 'none') {{\n",
       "            console.log([gd, 'removed!']);\n",
       "            Plotly.purge(gd);\n",
       "            observer.disconnect();\n",
       "        }}\n",
       "}});\n",
       "\n",
       "// Listen for the removal of the full notebook cells\n",
       "var notebookContainer = gd.closest('#notebook-container');\n",
       "if (notebookContainer) {{\n",
       "    x.observe(notebookContainer, {childList: true});\n",
       "}}\n",
       "\n",
       "// Listen for the clearing of the current output cell\n",
       "var outputEl = gd.closest('.output');\n",
       "if (outputEl) {{\n",
       "    x.observe(outputEl, {childList: true});\n",
       "}}\n",
       "\n",
       "                        })                };                });            </script>        </div>"
      ]
     },
     "metadata": {},
     "output_type": "display_data"
    }
   ],
   "source": [
    "fig_date = px.line(df, x='Date', y='Location')\n",
    "fig_date.show()"
   ]
  },
  {
   "cell_type": "code",
   "execution_count": 27,
   "id": "3ebf97ad-6f3f-4d62-ad4c-834f93a5d96b",
   "metadata": {},
   "outputs": [
    {
     "name": "stderr",
     "output_type": "stream",
     "text": [
      "C:\\Users\\Admin\\AppData\\Local\\Temp\\ipykernel_10056\\4112667137.py:2: FutureWarning:\n",
      "\n",
      "The default value of numeric_only in DataFrameGroupBy.sum is deprecated. In a future version, numeric_only will default to False. Either specify numeric_only or select only columns which should be valid for the function.\n",
      "\n"
     ]
    },
    {
     "data": {
      "text/html": [
       "<div>\n",
       "<style scoped>\n",
       "    .dataframe tbody tr th:only-of-type {\n",
       "        vertical-align: middle;\n",
       "    }\n",
       "\n",
       "    .dataframe tbody tr th {\n",
       "        vertical-align: top;\n",
       "    }\n",
       "\n",
       "    .dataframe thead th {\n",
       "        text-align: right;\n",
       "    }\n",
       "</style>\n",
       "<table border=\"1\" class=\"dataframe\">\n",
       "  <thead>\n",
       "    <tr style=\"text-align: right;\">\n",
       "      <th></th>\n",
       "      <th>Share</th>\n",
       "    </tr>\n",
       "    <tr>\n",
       "      <th>Location</th>\n",
       "      <th></th>\n",
       "    </tr>\n",
       "  </thead>\n",
       "  <tbody>\n",
       "    <tr>\n",
       "      <th>Berbera</th>\n",
       "      <td>143742</td>\n",
       "    </tr>\n",
       "    <tr>\n",
       "      <th>Borama</th>\n",
       "      <td>209988</td>\n",
       "    </tr>\n",
       "    <tr>\n",
       "      <th>Burco</th>\n",
       "      <td>88964</td>\n",
       "    </tr>\n",
       "    <tr>\n",
       "      <th>Buuhoodle</th>\n",
       "      <td>65012</td>\n",
       "    </tr>\n",
       "    <tr>\n",
       "      <th>Ceerigabo</th>\n",
       "      <td>44047</td>\n",
       "    </tr>\n",
       "    <tr>\n",
       "      <th>Gabiley</th>\n",
       "      <td>122407</td>\n",
       "    </tr>\n",
       "    <tr>\n",
       "      <th>Hargeisa</th>\n",
       "      <td>104596</td>\n",
       "    </tr>\n",
       "    <tr>\n",
       "      <th>Laascaanod</th>\n",
       "      <td>167709</td>\n",
       "    </tr>\n",
       "    <tr>\n",
       "      <th>Oodweyne</th>\n",
       "      <td>108939</td>\n",
       "    </tr>\n",
       "  </tbody>\n",
       "</table>\n",
       "</div>"
      ],
      "text/plain": [
       "             Share\n",
       "Location          \n",
       "Berbera     143742\n",
       "Borama      209988\n",
       "Burco        88964\n",
       "Buuhoodle    65012\n",
       "Ceerigabo    44047\n",
       "Gabiley     122407\n",
       "Hargeisa    104596\n",
       "Laascaanod  167709\n",
       "Oodweyne    108939"
      ]
     },
     "execution_count": 27,
     "metadata": {},
     "output_type": "execute_result"
    }
   ],
   "source": [
    "# Group Numeric Value by sub-category\n",
    "grouped_by_location = df.groupby(by=\"Location\").sum()[['Share']]\n",
    "grouped_by_location"
   ]
  },
  {
   "cell_type": "code",
   "execution_count": 28,
   "id": "975e8b12-efb8-40ea-9ddf-28623de0626d",
   "metadata": {},
   "outputs": [
    {
     "name": "stderr",
     "output_type": "stream",
     "text": [
      "C:\\Users\\Admin\\AppData\\Local\\Temp\\ipykernel_10056\\61162744.py:1: FutureWarning:\n",
      "\n",
      "The default value of numeric_only in DataFrameGroupBy.sum is deprecated. In a future version, numeric_only will default to False. Either specify numeric_only or select only columns which should be valid for the function.\n",
      "\n"
     ]
    },
    {
     "ename": "KeyError",
     "evalue": "'Likes'",
     "output_type": "error",
     "traceback": [
      "\u001b[1;31m---------------------------------------------------------------------------\u001b[0m",
      "\u001b[1;31mKeyError\u001b[0m                                  Traceback (most recent call last)",
      "Cell \u001b[1;32mIn [28], line 1\u001b[0m\n\u001b[1;32m----> 1\u001b[0m grouped_by_location \u001b[38;5;241m=\u001b[39m \u001b[43mdf\u001b[49m\u001b[38;5;241;43m.\u001b[39;49m\u001b[43mgroupby\u001b[49m\u001b[43m(\u001b[49m\u001b[43mby\u001b[49m\u001b[38;5;241;43m=\u001b[39;49m\u001b[38;5;124;43m\"\u001b[39;49m\u001b[38;5;124;43mLocation\u001b[39;49m\u001b[38;5;124;43m\"\u001b[39;49m\u001b[43m)\u001b[49m\u001b[38;5;241;43m.\u001b[39;49m\u001b[43msum\u001b[49m\u001b[43m(\u001b[49m\u001b[43m)\u001b[49m\u001b[43m[\u001b[49m\u001b[43m[\u001b[49m\u001b[38;5;124;43m'\u001b[39;49m\u001b[38;5;124;43mShare\u001b[39;49m\u001b[38;5;124;43m'\u001b[39;49m\u001b[43m]\u001b[49m\u001b[43m]\u001b[49m\u001b[38;5;241;43m.\u001b[39;49m\u001b[43msort_values\u001b[49m\u001b[43m(\u001b[49m\u001b[43mby\u001b[49m\u001b[38;5;241;43m=\u001b[39;49m\u001b[38;5;124;43m'\u001b[39;49m\u001b[38;5;124;43mLikes\u001b[39;49m\u001b[38;5;124;43m'\u001b[39;49m\u001b[43m)\u001b[49m\n\u001b[0;32m      2\u001b[0m grouped_by_location\n",
      "File \u001b[1;32m~\\AppData\\Local\\Programs\\Python\\Python311\\Lib\\site-packages\\pandas\\util\\_decorators.py:331\u001b[0m, in \u001b[0;36mdeprecate_nonkeyword_arguments.<locals>.decorate.<locals>.wrapper\u001b[1;34m(*args, **kwargs)\u001b[0m\n\u001b[0;32m    325\u001b[0m \u001b[38;5;28;01mif\u001b[39;00m \u001b[38;5;28mlen\u001b[39m(args) \u001b[38;5;241m>\u001b[39m num_allow_args:\n\u001b[0;32m    326\u001b[0m     warnings\u001b[38;5;241m.\u001b[39mwarn(\n\u001b[0;32m    327\u001b[0m         msg\u001b[38;5;241m.\u001b[39mformat(arguments\u001b[38;5;241m=\u001b[39m_format_argument_list(allow_args)),\n\u001b[0;32m    328\u001b[0m         \u001b[38;5;167;01mFutureWarning\u001b[39;00m,\n\u001b[0;32m    329\u001b[0m         stacklevel\u001b[38;5;241m=\u001b[39mfind_stack_level(),\n\u001b[0;32m    330\u001b[0m     )\n\u001b[1;32m--> 331\u001b[0m \u001b[38;5;28;01mreturn\u001b[39;00m \u001b[43mfunc\u001b[49m\u001b[43m(\u001b[49m\u001b[38;5;241;43m*\u001b[39;49m\u001b[43margs\u001b[49m\u001b[43m,\u001b[49m\u001b[43m \u001b[49m\u001b[38;5;241;43m*\u001b[39;49m\u001b[38;5;241;43m*\u001b[39;49m\u001b[43mkwargs\u001b[49m\u001b[43m)\u001b[49m\n",
      "File \u001b[1;32m~\\AppData\\Local\\Programs\\Python\\Python311\\Lib\\site-packages\\pandas\\core\\frame.py:6901\u001b[0m, in \u001b[0;36mDataFrame.sort_values\u001b[1;34m(self, by, axis, ascending, inplace, kind, na_position, ignore_index, key)\u001b[0m\n\u001b[0;32m   6897\u001b[0m \u001b[38;5;28;01melif\u001b[39;00m \u001b[38;5;28mlen\u001b[39m(by):\n\u001b[0;32m   6898\u001b[0m     \u001b[38;5;66;03m# len(by) == 1\u001b[39;00m\n\u001b[0;32m   6900\u001b[0m     by \u001b[38;5;241m=\u001b[39m by[\u001b[38;5;241m0\u001b[39m]\n\u001b[1;32m-> 6901\u001b[0m     k \u001b[38;5;241m=\u001b[39m \u001b[38;5;28;43mself\u001b[39;49m\u001b[38;5;241;43m.\u001b[39;49m\u001b[43m_get_label_or_level_values\u001b[49m\u001b[43m(\u001b[49m\u001b[43mby\u001b[49m\u001b[43m,\u001b[49m\u001b[43m \u001b[49m\u001b[43maxis\u001b[49m\u001b[38;5;241;43m=\u001b[39;49m\u001b[43maxis\u001b[49m\u001b[43m)\u001b[49m\n\u001b[0;32m   6903\u001b[0m     \u001b[38;5;66;03m# need to rewrap column in Series to apply key function\u001b[39;00m\n\u001b[0;32m   6904\u001b[0m     \u001b[38;5;28;01mif\u001b[39;00m key \u001b[38;5;129;01mis\u001b[39;00m \u001b[38;5;129;01mnot\u001b[39;00m \u001b[38;5;28;01mNone\u001b[39;00m:\n\u001b[0;32m   6905\u001b[0m         \u001b[38;5;66;03m# error: Incompatible types in assignment (expression has type\u001b[39;00m\n\u001b[0;32m   6906\u001b[0m         \u001b[38;5;66;03m# \"Series\", variable has type \"ndarray\")\u001b[39;00m\n",
      "File \u001b[1;32m~\\AppData\\Local\\Programs\\Python\\Python311\\Lib\\site-packages\\pandas\\core\\generic.py:1850\u001b[0m, in \u001b[0;36mNDFrame._get_label_or_level_values\u001b[1;34m(self, key, axis)\u001b[0m\n\u001b[0;32m   1844\u001b[0m     values \u001b[38;5;241m=\u001b[39m (\n\u001b[0;32m   1845\u001b[0m         \u001b[38;5;28mself\u001b[39m\u001b[38;5;241m.\u001b[39maxes[axis]\n\u001b[0;32m   1846\u001b[0m         \u001b[38;5;241m.\u001b[39mget_level_values(key)  \u001b[38;5;66;03m# type: ignore[assignment]\u001b[39;00m\n\u001b[0;32m   1847\u001b[0m         \u001b[38;5;241m.\u001b[39m_values\n\u001b[0;32m   1848\u001b[0m     )\n\u001b[0;32m   1849\u001b[0m \u001b[38;5;28;01melse\u001b[39;00m:\n\u001b[1;32m-> 1850\u001b[0m     \u001b[38;5;28;01mraise\u001b[39;00m \u001b[38;5;167;01mKeyError\u001b[39;00m(key)\n\u001b[0;32m   1852\u001b[0m \u001b[38;5;66;03m# Check for duplicates\u001b[39;00m\n\u001b[0;32m   1853\u001b[0m \u001b[38;5;28;01mif\u001b[39;00m values\u001b[38;5;241m.\u001b[39mndim \u001b[38;5;241m>\u001b[39m \u001b[38;5;241m1\u001b[39m:\n",
      "\u001b[1;31mKeyError\u001b[0m: 'Likes'"
     ]
    }
   ],
   "source": [
    "grouped_by_location = df.groupby(by=\"Location\").sum()[['Share']].sort_values(by='Likes')\n",
    "grouped_by_location"
   ]
  },
  {
   "cell_type": "markdown",
   "id": "e628bda4-6674-4375-b29d-4cd554dba298",
   "metadata": {},
   "source": [
    "# Plot Data"
   ]
  },
  {
   "cell_type": "markdown",
   "id": "6f6a9b2d-ac3a-43cb-ba3c-b7a2bd92b86a",
   "metadata": {},
   "source": [
    "## Analysis Sub-Category"
   ]
  },
  {
   "cell_type": "code",
   "execution_count": null,
   "id": "2a22e0a9-089f-4bb7-bff0-39350e11fab8",
   "metadata": {},
   "outputs": [],
   "source": [
    "location_bar = px.bar(\n",
    "    grouped_by_location,\n",
    "    x='Likes',\n",
    "    y='Likes',\n",
    "    color='Likes',\n",
    "    color_continuous_scale=['red', 'yellow', 'green'],\n",
    "    title='<b>Location & Likes by Location</b>'\n",
    ")\n",
    "location_bar.show()"
   ]
  },
  {
   "cell_type": "markdown",
   "id": "fb42ba13-33ef-466b-95e3-18d4dbb44217",
   "metadata": {},
   "source": [
    "# Likes by Services "
   ]
  },
  {
   "cell_type": "code",
   "execution_count": 29,
   "id": "4706a641-ff34-44f2-9f39-73d29f9beffd",
   "metadata": {},
   "outputs": [
    {
     "name": "stderr",
     "output_type": "stream",
     "text": [
      "C:\\Users\\Admin\\AppData\\Local\\Temp\\ipykernel_10056\\3455477912.py:1: FutureWarning:\n",
      "\n",
      "The default value of numeric_only in DataFrameGroupBy.sum is deprecated. In a future version, numeric_only will default to False. Either specify numeric_only or select only columns which should be valid for the function.\n",
      "\n"
     ]
    },
    {
     "data": {
      "text/html": [
       "<div>\n",
       "<style scoped>\n",
       "    .dataframe tbody tr th:only-of-type {\n",
       "        vertical-align: middle;\n",
       "    }\n",
       "\n",
       "    .dataframe tbody tr th {\n",
       "        vertical-align: top;\n",
       "    }\n",
       "\n",
       "    .dataframe thead th {\n",
       "        text-align: right;\n",
       "    }\n",
       "</style>\n",
       "<table border=\"1\" class=\"dataframe\">\n",
       "  <thead>\n",
       "    <tr style=\"text-align: right;\">\n",
       "      <th></th>\n",
       "      <th>Age</th>\n",
       "      <th>Likes</th>\n",
       "      <th>Share</th>\n",
       "      <th>Comments</th>\n",
       "      <th>Engagements</th>\n",
       "      <th>Month</th>\n",
       "      <th>Year</th>\n",
       "    </tr>\n",
       "    <tr>\n",
       "      <th>Service</th>\n",
       "      <th></th>\n",
       "      <th></th>\n",
       "      <th></th>\n",
       "      <th></th>\n",
       "      <th></th>\n",
       "      <th></th>\n",
       "      <th></th>\n",
       "    </tr>\n",
       "  </thead>\n",
       "  <tbody>\n",
       "    <tr>\n",
       "      <th>Aqoonmaal</th>\n",
       "      <td>3232</td>\n",
       "      <td>261638</td>\n",
       "      <td>324855</td>\n",
       "      <td>271923</td>\n",
       "      <td>279552</td>\n",
       "      <td>290</td>\n",
       "      <td>230492</td>\n",
       "    </tr>\n",
       "    <tr>\n",
       "      <th>Internet</th>\n",
       "      <td>3087</td>\n",
       "      <td>234486</td>\n",
       "      <td>168069</td>\n",
       "      <td>175511</td>\n",
       "      <td>225124</td>\n",
       "      <td>258</td>\n",
       "      <td>188031</td>\n",
       "    </tr>\n",
       "    <tr>\n",
       "      <th>Kaafiye</th>\n",
       "      <td>2505</td>\n",
       "      <td>228870</td>\n",
       "      <td>206352</td>\n",
       "      <td>161514</td>\n",
       "      <td>224721</td>\n",
       "      <td>251</td>\n",
       "      <td>173877</td>\n",
       "    </tr>\n",
       "    <tr>\n",
       "      <th>Mushaax</th>\n",
       "      <td>2762</td>\n",
       "      <td>253459</td>\n",
       "      <td>180348</td>\n",
       "      <td>223626</td>\n",
       "      <td>223929</td>\n",
       "      <td>300</td>\n",
       "      <td>183983</td>\n",
       "    </tr>\n",
       "    <tr>\n",
       "      <th>Waafi</th>\n",
       "      <td>2596</td>\n",
       "      <td>241600</td>\n",
       "      <td>175780</td>\n",
       "      <td>188328</td>\n",
       "      <td>148235</td>\n",
       "      <td>293</td>\n",
       "      <td>169829</td>\n",
       "    </tr>\n",
       "  </tbody>\n",
       "</table>\n",
       "</div>"
      ],
      "text/plain": [
       "            Age   Likes   Share  Comments   Engagements   Month    Year\n",
       "Service                                                                \n",
       "Aqoonmaal  3232  261638  324855     271923        279552    290  230492\n",
       "Internet   3087  234486  168069     175511        225124    258  188031\n",
       "Kaafiye    2505  228870  206352     161514        224721    251  173877\n",
       "Mushaax    2762  253459  180348     223626        223929    300  183983\n",
       "Waafi      2596  241600  175780     188328        148235    293  169829"
      ]
     },
     "execution_count": 29,
     "metadata": {},
     "output_type": "execute_result"
    }
   ],
   "source": [
    "df.groupby(by=['Service']).sum()"
   ]
  },
  {
   "cell_type": "code",
   "execution_count": 30,
   "id": "a4ec70c8-e0d2-45d2-ac7e-cf111f77f36c",
   "metadata": {},
   "outputs": [
    {
     "name": "stderr",
     "output_type": "stream",
     "text": [
      "C:\\Users\\Admin\\AppData\\Local\\Temp\\ipykernel_10056\\2290613399.py:1: FutureWarning:\n",
      "\n",
      "The default value of numeric_only in DataFrameGroupBy.sum is deprecated. In a future version, numeric_only will default to False. Either specify numeric_only or select only columns which should be valid for the function.\n",
      "\n"
     ]
    },
    {
     "data": {
      "text/html": [
       "<div>\n",
       "<style scoped>\n",
       "    .dataframe tbody tr th:only-of-type {\n",
       "        vertical-align: middle;\n",
       "    }\n",
       "\n",
       "    .dataframe tbody tr th {\n",
       "        vertical-align: top;\n",
       "    }\n",
       "\n",
       "    .dataframe thead th {\n",
       "        text-align: right;\n",
       "    }\n",
       "</style>\n",
       "<table border=\"1\" class=\"dataframe\">\n",
       "  <thead>\n",
       "    <tr style=\"text-align: right;\">\n",
       "      <th></th>\n",
       "      <th>Likes</th>\n",
       "    </tr>\n",
       "    <tr>\n",
       "      <th>Service</th>\n",
       "      <th></th>\n",
       "    </tr>\n",
       "  </thead>\n",
       "  <tbody>\n",
       "    <tr>\n",
       "      <th>Aqoonmaal</th>\n",
       "      <td>261638</td>\n",
       "    </tr>\n",
       "    <tr>\n",
       "      <th>Internet</th>\n",
       "      <td>234486</td>\n",
       "    </tr>\n",
       "    <tr>\n",
       "      <th>Kaafiye</th>\n",
       "      <td>228870</td>\n",
       "    </tr>\n",
       "    <tr>\n",
       "      <th>Mushaax</th>\n",
       "      <td>253459</td>\n",
       "    </tr>\n",
       "    <tr>\n",
       "      <th>Waafi</th>\n",
       "      <td>241600</td>\n",
       "    </tr>\n",
       "  </tbody>\n",
       "</table>\n",
       "</div>"
      ],
      "text/plain": [
       "            Likes\n",
       "Service          \n",
       "Aqoonmaal  261638\n",
       "Internet   234486\n",
       "Kaafiye    228870\n",
       "Mushaax    253459\n",
       "Waafi      241600"
      ]
     },
     "execution_count": 30,
     "metadata": {},
     "output_type": "execute_result"
    }
   ],
   "source": [
    "df.groupby(by=['Service']).sum()[['Likes']]"
   ]
  },
  {
   "cell_type": "code",
   "execution_count": 31,
   "id": "e6a53b7d-6c3c-4715-98b3-7e10bc6684d6",
   "metadata": {},
   "outputs": [
    {
     "name": "stderr",
     "output_type": "stream",
     "text": [
      "C:\\Users\\Admin\\AppData\\Local\\Temp\\ipykernel_10056\\2746607525.py:1: FutureWarning:\n",
      "\n",
      "The default value of numeric_only in DataFrameGroupBy.sum is deprecated. In a future version, numeric_only will default to False. Either specify numeric_only or select only columns which should be valid for the function.\n",
      "\n"
     ]
    },
    {
     "data": {
      "text/html": [
       "<div>\n",
       "<style scoped>\n",
       "    .dataframe tbody tr th:only-of-type {\n",
       "        vertical-align: middle;\n",
       "    }\n",
       "\n",
       "    .dataframe tbody tr th {\n",
       "        vertical-align: top;\n",
       "    }\n",
       "\n",
       "    .dataframe thead th {\n",
       "        text-align: right;\n",
       "    }\n",
       "</style>\n",
       "<table border=\"1\" class=\"dataframe\">\n",
       "  <thead>\n",
       "    <tr style=\"text-align: right;\">\n",
       "      <th></th>\n",
       "      <th>Likes</th>\n",
       "    </tr>\n",
       "    <tr>\n",
       "      <th>Service</th>\n",
       "      <th></th>\n",
       "    </tr>\n",
       "  </thead>\n",
       "  <tbody>\n",
       "    <tr>\n",
       "      <th>Kaafiye</th>\n",
       "      <td>228870</td>\n",
       "    </tr>\n",
       "    <tr>\n",
       "      <th>Internet</th>\n",
       "      <td>234486</td>\n",
       "    </tr>\n",
       "    <tr>\n",
       "      <th>Waafi</th>\n",
       "      <td>241600</td>\n",
       "    </tr>\n",
       "    <tr>\n",
       "      <th>Mushaax</th>\n",
       "      <td>253459</td>\n",
       "    </tr>\n",
       "    <tr>\n",
       "      <th>Aqoonmaal</th>\n",
       "      <td>261638</td>\n",
       "    </tr>\n",
       "  </tbody>\n",
       "</table>\n",
       "</div>"
      ],
      "text/plain": [
       "            Likes\n",
       "Service          \n",
       "Kaafiye    228870\n",
       "Internet   234486\n",
       "Waafi      241600\n",
       "Mushaax    253459\n",
       "Aqoonmaal  261638"
      ]
     },
     "execution_count": 31,
     "metadata": {},
     "output_type": "execute_result"
    }
   ],
   "source": [
    "df.groupby(by=['Service']).sum()[['Likes']].sort_values(by='Likes')"
   ]
  },
  {
   "cell_type": "code",
   "execution_count": null,
   "id": "a45e1375-ff99-4b33-9a80-0f84ff496a85",
   "metadata": {},
   "outputs": [],
   "source": []
  },
  {
   "cell_type": "code",
   "execution_count": null,
   "id": "13a2af47-c281-4727-b4f6-5093d3e5e73a",
   "metadata": {},
   "outputs": [],
   "source": []
  }
 ],
 "metadata": {
  "kernelspec": {
   "display_name": "Python 3 (ipykernel)",
   "language": "python",
   "name": "python3"
  },
  "language_info": {
   "codemirror_mode": {
    "name": "ipython",
    "version": 3
   },
   "file_extension": ".py",
   "mimetype": "text/x-python",
   "name": "python",
   "nbconvert_exporter": "python",
   "pygments_lexer": "ipython3",
   "version": "3.11.0"
  }
 },
 "nbformat": 4,
 "nbformat_minor": 5
}
